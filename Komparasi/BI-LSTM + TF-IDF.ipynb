{
 "cells": [
  {
   "cell_type": "markdown",
   "metadata": {},
   "source": [
    "## **BI-LSTM + TF-IDF**\n",
    "\n",
    "---\n",
    "\n",
    "Dataset tweet berasal dari penelitian: [Emotion dataset from Indonesian public opinion](https://www.sciencedirect.com/science/article/pii/S2352340922006588?via%3Dihub)\n",
    "\n",
    "Dataset                              : [link Dataset](https://github.com/Ricco48/Emotion-Dataset-from-Indonesian-Public-Opinion)"
   ]
  },
  {
   "cell_type": "code",
   "execution_count": 1,
   "metadata": {},
   "outputs": [],
   "source": [
    "import tensorflow as tf\n",
    "import numpy as np\n",
    "import matplotlib.pyplot as plt\n",
    "import pandas as pd\n",
    "import ast\n",
    "\n",
    "from tensorflow.keras.preprocessing.text import Tokenizer\n",
    "from tensorflow.keras.preprocessing.sequence import pad_sequences"
   ]
  },
  {
   "cell_type": "code",
   "execution_count": 2,
   "metadata": {},
   "outputs": [
    {
     "name": "stdout",
     "output_type": "stream",
     "text": [
      "Tensorflow version: 2.12.0\n"
     ]
    }
   ],
   "source": [
    "print(\"Tensorflow version:\", tf.__version__)"
   ]
  },
  {
   "cell_type": "markdown",
   "metadata": {},
   "source": [
    "## 1. Persiapan Dataset"
   ]
  },
  {
   "cell_type": "code",
   "execution_count": 3,
   "metadata": {},
   "outputs": [
    {
     "name": "stdout",
     "output_type": "stream",
     "text": [
      "                                               tweet  label\n",
      "0           ['pagi', 'sudah', 'di', 'buat', 'emosi']  Anger\n",
      "1  ['kok', 'stabilitas', 'negara', 'memange', 'ta...  Anger\n",
      "2  ['sudah', 'lah', 'emosi', 'terus', 'liat', 'em...  Anger\n",
      "3  ['aib', 'bodoh', 'benar', 'sebelum', 'kata', '...  Anger\n",
      "4    ['dih', 'kamu', 'yang', 'menyebalkan', 'bodoh']  Anger\n",
      "5  ['asli', 'malu', 'maluin', 'orang', 'indo', 't...  Anger\n",
      "6                          ['drama', 'abg', 'tolol']  Anger\n",
      "7  ['masih', 'emosi', 'sih', 'sama', 'katla', 'ke...  Anger\n",
      "8  ['bangsat', 'tribute', 'no', 'bencana', 'no', ...  Anger\n",
      "9  ['ingin', 'pergi', 'jauh', 'terus', 'teriak', ...  Anger\n"
     ]
    }
   ],
   "source": [
    "import pandas as pd\n",
    "\n",
    "# Path ke file dataset\n",
    "train_dataset_path = '..\\Dataset\\Training\\Clean_train_data_full.csv'\n",
    "\n",
    "# Membaca dataset\n",
    "train_df = pd.read_csv(train_dataset_path, sep=',', header=None, usecols=[1,2], skiprows=1)\n",
    "train_df.columns = ['tweet', 'label']\n",
    "\n",
    "# Tampilkan 10 baris pertama dataset\n",
    "print(train_df.head(10))\n"
   ]
  },
  {
   "cell_type": "markdown",
   "metadata": {},
   "source": [
    "## 2. Preprocessing Data"
   ]
  },
  {
   "cell_type": "code",
   "execution_count": 4,
   "metadata": {},
   "outputs": [
    {
     "name": "stdout",
     "output_type": "stream",
     "text": [
      "0                             pagi sudah di buat emosi\n",
      "1    kok stabilitas negara memange tahun negara tid...\n",
      "2                      sudah lah emosi terus liat emyu\n",
      "3    aib bodoh benar sebelum kata aib itu muncul te...\n",
      "4                      dih kamu yang menyebalkan bodoh\n",
      "Name: preprocessed, dtype: object\n"
     ]
    }
   ],
   "source": [
    "import ast\n",
    "\n",
    "# Mengubah label menjadi indeks numerik\n",
    "def get_label_idx(label):\n",
    "    if label == 'Anger':\n",
    "        return 0\n",
    "    if label == 'Joy':\n",
    "        return 1\n",
    "    if label == 'Fear':\n",
    "        return 2\n",
    "    if label == \"Love\":\n",
    "        return 3\n",
    "    if label == \"Sad\":\n",
    "        return 4\n",
    "    if label == \"Neutral\":\n",
    "        return 5\n",
    "\n",
    "train_df['label'] = train_df['label'].apply(get_label_idx)\n",
    "\n",
    "# Fungsi untuk menggabungkan teks yang telah diproses\n",
    "def join_text_list(texts):\n",
    "    texts = ast.literal_eval(texts)\n",
    "    return ' '.join([text for text in texts])\n",
    "\n",
    "train_df[\"preprocessed\"] = train_df[\"tweet\"].apply(join_text_list)\n",
    "print(train_df[\"preprocessed\"].head())\n"
   ]
  },
  {
   "cell_type": "markdown",
   "metadata": {},
   "source": [
    "## 3. TF-IDF Vectorization\n",
    "\n",
    "Referensi : (Sentiment Analysis Based on Deep Learning: A Comparative Study)"
   ]
  },
  {
   "cell_type": "code",
   "execution_count": 5,
   "metadata": {},
   "outputs": [
    {
     "name": "stdout",
     "output_type": "stream",
     "text": [
      "(7080, 16195)\n"
     ]
    }
   ],
   "source": [
    "from sklearn.feature_extraction.text import TfidfVectorizer\n",
    "\n",
    "# Inisialisasi TF-IDF Vectorizer\n",
    "vectorizer = TfidfVectorizer(max_features=20000)  # Mengurangi fitur untuk menghemat memori\n",
    "\n",
    "# Fit dan transform data teks\n",
    "tfidf_data = vectorizer.fit_transform(train_df[\"preprocessed\"])\n",
    "\n",
    "# Konversi ke array\n",
    "tfidf_data = tfidf_data.toarray()\n",
    "\n",
    "print(tfidf_data.shape)\n"
   ]
  },
  {
   "cell_type": "markdown",
   "metadata": {},
   "source": [
    "## 4. Build and Compile Model\n",
    "\n",
    "Referensi : https://github.com/janerjzou/sentiment_analysis_with_Bi-LSTM/blob/main/sentiment_analysis_with_Bi-LSTM.ipynb"
   ]
  },
  {
   "cell_type": "code",
   "execution_count": 6,
   "metadata": {},
   "outputs": [
    {
     "name": "stdout",
     "output_type": "stream",
     "text": [
      "Model: \"sequential\"\n",
      "_________________________________________________________________\n",
      " Layer (type)                Output Shape              Param #   \n",
      "=================================================================\n",
      " dense (Dense)               (None, 128)               2073088   \n",
      "                                                                 \n",
      " reshape (Reshape)           (None, 128, 1)            0         \n",
      "                                                                 \n",
      " bidirectional (Bidirectiona  (None, 128, 256)         133120    \n",
      " l)                                                              \n",
      "                                                                 \n",
      " bidirectional_1 (Bidirectio  (None, 128)              164352    \n",
      " nal)                                                            \n",
      "                                                                 \n",
      " dense_1 (Dense)             (None, 16)                2064      \n",
      "                                                                 \n",
      " dropout (Dropout)           (None, 16)                0         \n",
      "                                                                 \n",
      " dense_2 (Dense)             (None, 6)                 102       \n",
      "                                                                 \n",
      "=================================================================\n",
      "Total params: 2,372,726\n",
      "Trainable params: 2,372,726\n",
      "Non-trainable params: 0\n",
      "_________________________________________________________________\n",
      "None\n"
     ]
    }
   ],
   "source": [
    "from tensorflow.keras.models import Sequential\n",
    "from tensorflow.keras.layers import Dense, LSTM, Bidirectional, Dropout, Reshape\n",
    "\n",
    "# Membuat model dengan TF-IDF dan LSTM sesuai arsitektur yang diinginkan\n",
    "model = Sequential([\n",
    "    Dense(128, activation='relu', input_shape=(tfidf_data.shape[1],)),\n",
    "    Reshape((128, 1)),\n",
    "    Bidirectional(LSTM(128, return_sequences=True)),\n",
    "    Bidirectional(LSTM(64)),\n",
    "    Dense(16, activation='relu'),\n",
    "    Dropout(0.5),\n",
    "    Dense(6, activation='softmax')  # Menggunakan softmax untuk multi-kelas\n",
    "])\n",
    "\n",
    "# Kompilasi model\n",
    "model.compile(loss='sparse_categorical_crossentropy',\n",
    "              optimizer='adam',\n",
    "              metrics=['accuracy'])\n",
    "\n",
    "print(model.summary())\n"
   ]
  },
  {
   "cell_type": "markdown",
   "metadata": {},
   "source": [
    "## 5. Pelatihan Model"
   ]
  },
  {
   "cell_type": "code",
   "execution_count": 8,
   "metadata": {},
   "outputs": [
    {
     "name": "stdout",
     "output_type": "stream",
     "text": [
      "Epoch 1/10\n",
      "177/177 [==============================] - 37s 209ms/step - loss: 1.0134 - accuracy: 0.6275 - val_loss: 1.1436 - val_accuracy: 0.6321\n",
      "Epoch 2/10\n",
      "177/177 [==============================] - 37s 211ms/step - loss: 0.7022 - accuracy: 0.7451 - val_loss: 1.2487 - val_accuracy: 0.6321\n",
      "Epoch 3/10\n",
      "177/177 [==============================] - 37s 210ms/step - loss: 0.5161 - accuracy: 0.8215 - val_loss: 1.3429 - val_accuracy: 0.6342\n",
      "Epoch 4/10\n",
      "177/177 [==============================] - 37s 208ms/step - loss: 0.4153 - accuracy: 0.8535 - val_loss: 1.6072 - val_accuracy: 0.6158\n",
      "Epoch 5/10\n",
      "177/177 [==============================] - 38s 214ms/step - loss: 0.3355 - accuracy: 0.8821 - val_loss: 1.7450 - val_accuracy: 0.6292\n",
      "Epoch 6/10\n",
      "177/177 [==============================] - 37s 210ms/step - loss: 0.2966 - accuracy: 0.8972 - val_loss: 1.9062 - val_accuracy: 0.6038\n",
      "Epoch 7/10\n",
      "177/177 [==============================] - 39s 219ms/step - loss: 0.2655 - accuracy: 0.9022 - val_loss: 2.1546 - val_accuracy: 0.6052\n",
      "Epoch 8/10\n",
      "177/177 [==============================] - 37s 210ms/step - loss: 0.2479 - accuracy: 0.9114 - val_loss: 2.2483 - val_accuracy: 0.6116\n",
      "Epoch 9/10\n",
      "177/177 [==============================] - 37s 208ms/step - loss: 0.2256 - accuracy: 0.9123 - val_loss: 2.2247 - val_accuracy: 0.6137\n",
      "Epoch 10/10\n",
      "177/177 [==============================] - 37s 208ms/step - loss: 0.2069 - accuracy: 0.9211 - val_loss: 2.3173 - val_accuracy: 0.5953\n",
      "CPU times: total: 36min 29s\n",
      "Wall time: 6min 13s\n"
     ]
    }
   ],
   "source": [
    "%%time\n",
    "\n",
    "from sklearn.model_selection import train_test_split\n",
    "import tensorflow as tf\n",
    "\n",
    "# Membagi dataset menjadi data pelatihan dan validasi\n",
    "train_tfidf, valid_tfidf, train_labels, valid_labels = train_test_split(tfidf_data, train_df['label'], test_size=0.2, random_state=42)\n",
    "\n",
    "# Mengubah data menjadi batch\n",
    "batch_size = 32\n",
    "train_data = tf.data.Dataset.from_tensor_slices((train_tfidf, train_labels)).batch(batch_size)\n",
    "valid_data = tf.data.Dataset.from_tensor_slices((valid_tfidf, valid_labels)).batch(batch_size)\n",
    "\n",
    "# Melatih model dengan batch\n",
    "history = model.fit(train_data, epochs=10, \n",
    "                    validation_data=valid_data, verbose=1)\n"
   ]
  },
  {
   "cell_type": "markdown",
   "metadata": {},
   "source": [
    "## 6. Evaluasi Model"
   ]
  },
  {
   "cell_type": "code",
   "execution_count": 9,
   "metadata": {},
   "outputs": [
    {
     "data": {
      "image/png": "[encoded data removed]",
      "text/plain": [
       "<Figure size 640x480 with 1 Axes>"
      ]
     },
     "metadata": {},
     "output_type": "display_data"
    },
    {
     "data": {
      "image/png": "[encoded data removed]",
      "text/plain": [
       "<Figure size 640x480 with 1 Axes>"
      ]
     },
     "metadata": {},
     "output_type": "display_data"
    },
    {
     "name": "stdout",
     "output_type": "stream",
     "text": [
      "45/45 [==============================] - 4s 60ms/step\n",
      "              precision    recall  f1-score   support\n",
      "\n",
      "           0       0.57      0.77      0.65       233\n",
      "           1       0.65      0.66      0.65       253\n",
      "           2       0.65      0.62      0.63       195\n",
      "           3       0.46      0.78      0.58       153\n",
      "           4       0.65      0.50      0.57       193\n",
      "           5       0.65      0.41      0.50       389\n",
      "\n",
      "    accuracy                           0.60      1416\n",
      "   macro avg       0.60      0.62      0.60      1416\n",
      "weighted avg       0.61      0.60      0.59      1416\n",
      "\n"
     ]
    }
   ],
   "source": [
    "import matplotlib.pyplot as plt\n",
    "\n",
    "# Fungsi untuk plot grafik training history\n",
    "def plot_graphs(history, string):\n",
    "    plt.plot(history.history[string])\n",
    "    plt.plot(history.history['val_'+string])\n",
    "    plt.xlabel(\"Epochs\")\n",
    "    plt.ylabel(string)\n",
    "    plt.legend([string, 'val_'+string])\n",
    "    plt.show()\n",
    "\n",
    "# Plot grafik akurasi dan loss\n",
    "plot_graphs(history, \"accuracy\")\n",
    "plot_graphs(history, \"loss\")\n",
    "\n",
    "# Evaluasi pada data validasi\n",
    "from sklearn.metrics import classification_report\n",
    "\n",
    "# Melakukan prediksi pada data validasi\n",
    "y_pred = model.predict(valid_tfidf)\n",
    "y_pred_classes = np.argmax(y_pred, axis=1)\n",
    "\n",
    "# Mencetak classification report\n",
    "print(classification_report(valid_labels, y_pred_classes))\n"
   ]
  },
  {
   "cell_type": "markdown",
   "metadata": {},
   "source": [
    "## 7. Testing"
   ]
  },
  {
   "cell_type": "code",
   "execution_count": 10,
   "metadata": {},
   "outputs": [
    {
     "name": "stdout",
     "output_type": "stream",
     "text": [
      "1/1 [==============================] - 0s 34ms/step\n",
      "1/1 [==============================] - 0s 42ms/step\n",
      "[[1.8004968e-07 1.9885464e-09 6.2035523e-09 4.5897323e-06 9.9932504e-01\n",
      "  6.7021028e-04]]\n",
      "sad\n"
     ]
    }
   ],
   "source": [
    "import numpy as np\n",
    "\n",
    "# Contoh teks sampel\n",
    "sample_text = [\"Perasaan hangat yang membuat setiap hari terasa indah, memberikan kekuatan dalam kebersamaan dan membuat kita tersenyum tanpa alasan. Kebahagiaan yang datang dari hati dan memberikan makna dalam setiap momen bersama. Ada keajaiban dalam setiap tatapan dan sentuhan yang membuat dunia lebih cerah.\"]\n",
    "\n",
    "# TF-IDF vektorisasi pada teks sampel\n",
    "sample_tfidf = vectorizer.transform(sample_text).toarray()\n",
    "\n",
    "# Melakukan prediksi dengan model\n",
    "predictions = model.predict(sample_tfidf)\n",
    "print(model.predict(sample_tfidf))\n",
    "\n",
    "# Mendapatkan label dari prediksi\n",
    "def get_label(predict):\n",
    "    if predict == 0:\n",
    "        return 'anger'\n",
    "    if predict == 1:\n",
    "        return 'joy'\n",
    "    if predict == 2:\n",
    "        return 'fear'\n",
    "    if predict == 3:\n",
    "        return 'love'\n",
    "    if predict == 4:\n",
    "        return 'sad'\n",
    "    if predict == 5:\n",
    "        return 'neutral'\n",
    "\n",
    "# Print prediksi label\n",
    "predicted_label = get_label(np.argmax(predictions))\n",
    "print(predicted_label)\n"
   ]
  }
 ],
 "metadata": {
  "kernelspec": {
   "display_name": "Python 3",
   "language": "python",
   "name": "python3"
  },
  "language_info": {
   "codemirror_mode": {
    "name": "ipython",
    "version": 3
   },
   "file_extension": ".py",
   "mimetype": "text/x-python",
   "name": "python",
   "nbconvert_exporter": "python",
   "pygments_lexer": "ipython3",
   "version": "3.11.5"
  }
 },
 "nbformat": 4,
 "nbformat_minor": 2
}
