{
 "cells": [
  {
   "cell_type": "markdown",
   "id": "4d4b444c",
   "metadata": {},
   "source": [
    "## **Preposessing Dataset Testing**\n",
    "\n",
    "---\n",
    "\n",
    "Dataset tweet berasal dari penelitian: [Emotion dataset from Indonesian public opinion](https://www.sciencedirect.com/science/article/pii/S2352340922006588?via%3Dihub)\n",
    "\n",
    "Dataset                              : [link Dataset](https://github.com/Ricco48/Emotion-Dataset-from-Indonesian-Public-Opinion)"
   ]
  },
  {
   "cell_type": "markdown",
   "id": "2c1057f6",
   "metadata": {},
   "source": [
    "## Installing Package"
   ]
  },
  {
   "cell_type": "code",
   "execution_count": 7,
   "id": "cd7b1767-1c30-4129-ab82-b019e3a80e2d",
   "metadata": {
    "tags": []
   },
   "outputs": [
    {
     "name": "stdout",
     "output_type": "stream",
     "text": [
      "Requirement already satisfied: sastrawi in c:\\users\\temp\\miniconda3\\lib\\site-packages (1.0.1)\n"
     ]
    }
   ],
   "source": [
    "! pip install sastrawi"
   ]
  },
  {
   "cell_type": "markdown",
   "id": "ad0f5381",
   "metadata": {},
   "source": [
    "## Import Library"
   ]
  },
  {
   "cell_type": "code",
   "execution_count": 8,
   "id": "bf6ba0d2-3ab7-44d2-9a67-5a0ed171b85f",
   "metadata": {
    "tags": []
   },
   "outputs": [],
   "source": [
    "import pandas\n",
    "import numpy\n",
    "import collections\n",
    "import matplotlib.pyplot as plt\n",
    "import seaborn as sns\n",
    "%matplotlib inline\n",
    "\n",
    "import re\n",
    "from nltk import tokenize\n",
    "from Sastrawi.StopWordRemover.StopWordRemoverFactory import StopWordRemoverFactory\n",
    "\n",
    "import warnings\n",
    "warnings.filterwarnings(\"ignore\")"
   ]
  },
  {
   "cell_type": "markdown",
   "id": "af03dfcd-b4d1-492e-b159-9efb8c4afbad",
   "metadata": {
    "tags": []
   },
   "source": [
    "# Load Data Testing"
   ]
  },
  {
   "cell_type": "markdown",
   "id": "900b2e70",
   "metadata": {},
   "source": [
    "### Selected Colums"
   ]
  },
  {
   "cell_type": "code",
   "execution_count": 9,
   "id": "9902304b",
   "metadata": {},
   "outputs": [],
   "source": [
    "selected_columns = [\"full_text\", \"username\"]"
   ]
  },
  {
   "cell_type": "code",
   "execution_count": 10,
   "id": "82072ded-94c0-4aac-97f5-a6c339942774",
   "metadata": {
    "tags": []
   },
   "outputs": [
    {
     "data": {
      "text/html": [
       "<div>\n",
       "<style scoped>\n",
       "    .dataframe tbody tr th:only-of-type {\n",
       "        vertical-align: middle;\n",
       "    }\n",
       "\n",
       "    .dataframe tbody tr th {\n",
       "        vertical-align: top;\n",
       "    }\n",
       "\n",
       "    .dataframe thead th {\n",
       "        text-align: right;\n",
       "    }\n",
       "</style>\n",
       "<table border=\"1\" class=\"dataframe\">\n",
       "  <thead>\n",
       "    <tr style=\"text-align: right;\">\n",
       "      <th></th>\n",
       "      <th>full_text</th>\n",
       "      <th>username</th>\n",
       "    </tr>\n",
       "  </thead>\n",
       "  <tbody>\n",
       "    <tr>\n",
       "      <th>0</th>\n",
       "      <td>@m_nurfatoni Anies seperti Ahmad Dahlan jamam now</td>\n",
       "      <td>meditegal</td>\n",
       "    </tr>\n",
       "    <tr>\n",
       "      <th>1</th>\n",
       "      <td>@ardibhironx Itu ide AHOK dan udah dijalankan....</td>\n",
       "      <td>AnonimousNama</td>\n",
       "    </tr>\n",
       "    <tr>\n",
       "      <th>2</th>\n",
       "      <td>@bagaskara645y @logikapolitikid Anies sama Pra...</td>\n",
       "      <td>RivaldiFaza</td>\n",
       "    </tr>\n",
       "    <tr>\n",
       "      <th>3</th>\n",
       "      <td>pernyataan di depan para pendukungnya. Semoga ...</td>\n",
       "      <td>eva_aruna</td>\n",
       "    </tr>\n",
       "    <tr>\n",
       "      <th>4</th>\n",
       "      <td>@BangPino__ Pemilih Anies militan tak tergiur ...</td>\n",
       "      <td>meditegal</td>\n",
       "    </tr>\n",
       "    <tr>\n",
       "      <th>...</th>\n",
       "      <td>...</td>\n",
       "      <td>...</td>\n",
       "    </tr>\n",
       "    <tr>\n",
       "      <th>28966</th>\n",
       "      <td>#Cek Bisa COD BELI 1 DAPAT 2 #Dreamy #Sweet #M...</td>\n",
       "      <td>dosopriyanto</td>\n",
       "    </tr>\n",
       "    <tr>\n",
       "      <th>28967</th>\n",
       "      <td>ลองดู [COD] Flash Sale 1กิโล แมคคายกกระสอบ ตุ๊...</td>\n",
       "      <td>Floraa72270993</td>\n",
       "    </tr>\n",
       "    <tr>\n",
       "      <th>28968</th>\n",
       "      <td>wal cod an shopee kawa pakai qris lah yuu</td>\n",
       "      <td>banjarbase</td>\n",
       "    </tr>\n",
       "    <tr>\n",
       "      <th>28969</th>\n",
       "      <td>Temukan [BS] BISA COD Light Stick TREASURE BLU...</td>\n",
       "      <td>RacunShopee35</td>\n",
       "    </tr>\n",
       "    <tr>\n",
       "      <th>28970</th>\n",
       "      <td>wts / want to sell INA lfb Postcard chill kill...</td>\n",
       "      <td>kangsitwar</td>\n",
       "    </tr>\n",
       "  </tbody>\n",
       "</table>\n",
       "<p>28971 rows × 2 columns</p>\n",
       "</div>"
      ],
      "text/plain": [
       "                                               full_text        username\n",
       "0      @m_nurfatoni Anies seperti Ahmad Dahlan jamam now       meditegal\n",
       "1      @ardibhironx Itu ide AHOK dan udah dijalankan....   AnonimousNama\n",
       "2      @bagaskara645y @logikapolitikid Anies sama Pra...     RivaldiFaza\n",
       "3      pernyataan di depan para pendukungnya. Semoga ...       eva_aruna\n",
       "4      @BangPino__ Pemilih Anies militan tak tergiur ...       meditegal\n",
       "...                                                  ...             ...\n",
       "28966  #Cek Bisa COD BELI 1 DAPAT 2 #Dreamy #Sweet #M...    dosopriyanto\n",
       "28967  ลองดู [COD] Flash Sale 1กิโล แมคคายกกระสอบ ตุ๊...  Floraa72270993\n",
       "28968          wal cod an shopee kawa pakai qris lah yuu      banjarbase\n",
       "28969  Temukan [BS] BISA COD Light Stick TREASURE BLU...   RacunShopee35\n",
       "28970  wts / want to sell INA lfb Postcard chill kill...      kangsitwar\n",
       "\n",
       "[28971 rows x 2 columns]"
      ]
     },
     "execution_count": 10,
     "metadata": {},
     "output_type": "execute_result"
    }
   ],
   "source": [
    "from_sociallabs = pandas.read_csv(\"../Dataset/Testing/Raw/socialab.tweets.csv\", usecols=selected_columns)\n",
    "from_sociallabs"
   ]
  },
  {
   "cell_type": "code",
   "execution_count": 11,
   "id": "3bced448-7654-4d93-9081-d4b0349f1485",
   "metadata": {
    "tags": []
   },
   "outputs": [
    {
     "data": {
      "text/html": [
       "<div>\n",
       "<style scoped>\n",
       "    .dataframe tbody tr th:only-of-type {\n",
       "        vertical-align: middle;\n",
       "    }\n",
       "\n",
       "    .dataframe tbody tr th {\n",
       "        vertical-align: top;\n",
       "    }\n",
       "\n",
       "    .dataframe thead th {\n",
       "        text-align: right;\n",
       "    }\n",
       "</style>\n",
       "<table border=\"1\" class=\"dataframe\">\n",
       "  <thead>\n",
       "    <tr style=\"text-align: right;\">\n",
       "      <th></th>\n",
       "      <th>full_text</th>\n",
       "      <th>username</th>\n",
       "    </tr>\n",
       "  </thead>\n",
       "  <tbody>\n",
       "    <tr>\n",
       "      <th>0</th>\n",
       "      <td>@m_nurfatoni Anies seperti Ahmad Dahlan jamam now</td>\n",
       "      <td>meditegal</td>\n",
       "    </tr>\n",
       "    <tr>\n",
       "      <th>1</th>\n",
       "      <td>@ardibhironx Itu ide AHOK dan udah dijalankan....</td>\n",
       "      <td>AnonimousNama</td>\n",
       "    </tr>\n",
       "    <tr>\n",
       "      <th>2</th>\n",
       "      <td>@bagaskara645y @logikapolitikid Anies sama Pra...</td>\n",
       "      <td>RivaldiFaza</td>\n",
       "    </tr>\n",
       "    <tr>\n",
       "      <th>3</th>\n",
       "      <td>pernyataan di depan para pendukungnya. Semoga ...</td>\n",
       "      <td>eva_aruna</td>\n",
       "    </tr>\n",
       "    <tr>\n",
       "      <th>4</th>\n",
       "      <td>@BangPino__ Pemilih Anies militan tak tergiur ...</td>\n",
       "      <td>meditegal</td>\n",
       "    </tr>\n",
       "    <tr>\n",
       "      <th>...</th>\n",
       "      <td>...</td>\n",
       "      <td>...</td>\n",
       "    </tr>\n",
       "    <tr>\n",
       "      <th>28966</th>\n",
       "      <td>#Cek Bisa COD BELI 1 DAPAT 2 #Dreamy #Sweet #M...</td>\n",
       "      <td>dosopriyanto</td>\n",
       "    </tr>\n",
       "    <tr>\n",
       "      <th>28967</th>\n",
       "      <td>ลองดู [COD] Flash Sale 1กิโล แมคคายกกระสอบ ตุ๊...</td>\n",
       "      <td>Floraa72270993</td>\n",
       "    </tr>\n",
       "    <tr>\n",
       "      <th>28968</th>\n",
       "      <td>wal cod an shopee kawa pakai qris lah yuu</td>\n",
       "      <td>banjarbase</td>\n",
       "    </tr>\n",
       "    <tr>\n",
       "      <th>28969</th>\n",
       "      <td>Temukan [BS] BISA COD Light Stick TREASURE BLU...</td>\n",
       "      <td>RacunShopee35</td>\n",
       "    </tr>\n",
       "    <tr>\n",
       "      <th>28970</th>\n",
       "      <td>wts / want to sell INA lfb Postcard chill kill...</td>\n",
       "      <td>kangsitwar</td>\n",
       "    </tr>\n",
       "  </tbody>\n",
       "</table>\n",
       "<p>28971 rows × 2 columns</p>\n",
       "</div>"
      ],
      "text/plain": [
       "                                               full_text        username\n",
       "0      @m_nurfatoni Anies seperti Ahmad Dahlan jamam now       meditegal\n",
       "1      @ardibhironx Itu ide AHOK dan udah dijalankan....   AnonimousNama\n",
       "2      @bagaskara645y @logikapolitikid Anies sama Pra...     RivaldiFaza\n",
       "3      pernyataan di depan para pendukungnya. Semoga ...       eva_aruna\n",
       "4      @BangPino__ Pemilih Anies militan tak tergiur ...       meditegal\n",
       "...                                                  ...             ...\n",
       "28966  #Cek Bisa COD BELI 1 DAPAT 2 #Dreamy #Sweet #M...    dosopriyanto\n",
       "28967  ลองดู [COD] Flash Sale 1กิโล แมคคายกกระสอบ ตุ๊...  Floraa72270993\n",
       "28968          wal cod an shopee kawa pakai qris lah yuu      banjarbase\n",
       "28969  Temukan [BS] BISA COD Light Stick TREASURE BLU...   RacunShopee35\n",
       "28970  wts / want to sell INA lfb Postcard chill kill...      kangsitwar\n",
       "\n",
       "[28971 rows x 2 columns]"
      ]
     },
     "execution_count": 11,
     "metadata": {},
     "output_type": "execute_result"
    }
   ],
   "source": [
    "testing_data = pandas.concat([from_sociallabs])\n",
    "testing_data.reset_index(inplace=True,drop=True)\n",
    "testing_data"
   ]
  },
  {
   "cell_type": "code",
   "execution_count": 12,
   "id": "392065d7-574a-463e-80be-5b9e26b68cfd",
   "metadata": {},
   "outputs": [
    {
     "ename": "ModuleNotFoundError",
     "evalue": "No module named 'openpyxl'",
     "output_type": "error",
     "traceback": [
      "\u001b[1;31m---------------------------------------------------------------------------\u001b[0m",
      "\u001b[1;31mModuleNotFoundError\u001b[0m                       Traceback (most recent call last)",
      "Cell \u001b[1;32mIn[12], line 1\u001b[0m\n\u001b[1;32m----> 1\u001b[0m \u001b[43mtesting_data\u001b[49m\u001b[38;5;241;43m.\u001b[39;49m\u001b[43mto_excel\u001b[49m\u001b[43m(\u001b[49m\u001b[38;5;124;43m'\u001b[39;49m\u001b[38;5;124;43m./Dataset/Preposessing/Testing/sebelum_preposessing2.xlsx\u001b[39;49m\u001b[38;5;124;43m'\u001b[39;49m\u001b[43m)\u001b[49m\n",
      "File \u001b[1;32mc:\\Users\\TEMP\\miniconda3\\Lib\\site-packages\\pandas\\util\\_decorators.py:333\u001b[0m, in \u001b[0;36mdeprecate_nonkeyword_arguments.<locals>.decorate.<locals>.wrapper\u001b[1;34m(*args, **kwargs)\u001b[0m\n\u001b[0;32m    327\u001b[0m \u001b[38;5;28;01mif\u001b[39;00m \u001b[38;5;28mlen\u001b[39m(args) \u001b[38;5;241m>\u001b[39m num_allow_args:\n\u001b[0;32m    328\u001b[0m     warnings\u001b[38;5;241m.\u001b[39mwarn(\n\u001b[0;32m    329\u001b[0m         msg\u001b[38;5;241m.\u001b[39mformat(arguments\u001b[38;5;241m=\u001b[39m_format_argument_list(allow_args)),\n\u001b[0;32m    330\u001b[0m         \u001b[38;5;167;01mFutureWarning\u001b[39;00m,\n\u001b[0;32m    331\u001b[0m         stacklevel\u001b[38;5;241m=\u001b[39mfind_stack_level(),\n\u001b[0;32m    332\u001b[0m     )\n\u001b[1;32m--> 333\u001b[0m \u001b[38;5;28;01mreturn\u001b[39;00m \u001b[43mfunc\u001b[49m\u001b[43m(\u001b[49m\u001b[38;5;241;43m*\u001b[39;49m\u001b[43margs\u001b[49m\u001b[43m,\u001b[49m\u001b[43m \u001b[49m\u001b[38;5;241;43m*\u001b[39;49m\u001b[38;5;241;43m*\u001b[39;49m\u001b[43mkwargs\u001b[49m\u001b[43m)\u001b[49m\n",
      "File \u001b[1;32mc:\\Users\\TEMP\\miniconda3\\Lib\\site-packages\\pandas\\core\\generic.py:2417\u001b[0m, in \u001b[0;36mNDFrame.to_excel\u001b[1;34m(self, excel_writer, sheet_name, na_rep, float_format, columns, header, index, index_label, startrow, startcol, engine, merge_cells, inf_rep, freeze_panes, storage_options, engine_kwargs)\u001b[0m\n\u001b[0;32m   2404\u001b[0m \u001b[38;5;28;01mfrom\u001b[39;00m \u001b[38;5;21;01mpandas\u001b[39;00m\u001b[38;5;21;01m.\u001b[39;00m\u001b[38;5;21;01mio\u001b[39;00m\u001b[38;5;21;01m.\u001b[39;00m\u001b[38;5;21;01mformats\u001b[39;00m\u001b[38;5;21;01m.\u001b[39;00m\u001b[38;5;21;01mexcel\u001b[39;00m \u001b[38;5;28;01mimport\u001b[39;00m ExcelFormatter\n\u001b[0;32m   2406\u001b[0m formatter \u001b[38;5;241m=\u001b[39m ExcelFormatter(\n\u001b[0;32m   2407\u001b[0m     df,\n\u001b[0;32m   2408\u001b[0m     na_rep\u001b[38;5;241m=\u001b[39mna_rep,\n\u001b[1;32m   (...)\u001b[0m\n\u001b[0;32m   2415\u001b[0m     inf_rep\u001b[38;5;241m=\u001b[39minf_rep,\n\u001b[0;32m   2416\u001b[0m )\n\u001b[1;32m-> 2417\u001b[0m \u001b[43mformatter\u001b[49m\u001b[38;5;241;43m.\u001b[39;49m\u001b[43mwrite\u001b[49m\u001b[43m(\u001b[49m\n\u001b[0;32m   2418\u001b[0m \u001b[43m    \u001b[49m\u001b[43mexcel_writer\u001b[49m\u001b[43m,\u001b[49m\n\u001b[0;32m   2419\u001b[0m \u001b[43m    \u001b[49m\u001b[43msheet_name\u001b[49m\u001b[38;5;241;43m=\u001b[39;49m\u001b[43msheet_name\u001b[49m\u001b[43m,\u001b[49m\n\u001b[0;32m   2420\u001b[0m \u001b[43m    \u001b[49m\u001b[43mstartrow\u001b[49m\u001b[38;5;241;43m=\u001b[39;49m\u001b[43mstartrow\u001b[49m\u001b[43m,\u001b[49m\n\u001b[0;32m   2421\u001b[0m \u001b[43m    \u001b[49m\u001b[43mstartcol\u001b[49m\u001b[38;5;241;43m=\u001b[39;49m\u001b[43mstartcol\u001b[49m\u001b[43m,\u001b[49m\n\u001b[0;32m   2422\u001b[0m \u001b[43m    \u001b[49m\u001b[43mfreeze_panes\u001b[49m\u001b[38;5;241;43m=\u001b[39;49m\u001b[43mfreeze_panes\u001b[49m\u001b[43m,\u001b[49m\n\u001b[0;32m   2423\u001b[0m \u001b[43m    \u001b[49m\u001b[43mengine\u001b[49m\u001b[38;5;241;43m=\u001b[39;49m\u001b[43mengine\u001b[49m\u001b[43m,\u001b[49m\n\u001b[0;32m   2424\u001b[0m \u001b[43m    \u001b[49m\u001b[43mstorage_options\u001b[49m\u001b[38;5;241;43m=\u001b[39;49m\u001b[43mstorage_options\u001b[49m\u001b[43m,\u001b[49m\n\u001b[0;32m   2425\u001b[0m \u001b[43m    \u001b[49m\u001b[43mengine_kwargs\u001b[49m\u001b[38;5;241;43m=\u001b[39;49m\u001b[43mengine_kwargs\u001b[49m\u001b[43m,\u001b[49m\n\u001b[0;32m   2426\u001b[0m \u001b[43m\u001b[49m\u001b[43m)\u001b[49m\n",
      "File \u001b[1;32mc:\\Users\\TEMP\\miniconda3\\Lib\\site-packages\\pandas\\io\\formats\\excel.py:943\u001b[0m, in \u001b[0;36mExcelFormatter.write\u001b[1;34m(self, writer, sheet_name, startrow, startcol, freeze_panes, engine, storage_options, engine_kwargs)\u001b[0m\n\u001b[0;32m    941\u001b[0m     need_save \u001b[38;5;241m=\u001b[39m \u001b[38;5;28;01mFalse\u001b[39;00m\n\u001b[0;32m    942\u001b[0m \u001b[38;5;28;01melse\u001b[39;00m:\n\u001b[1;32m--> 943\u001b[0m     writer \u001b[38;5;241m=\u001b[39m \u001b[43mExcelWriter\u001b[49m\u001b[43m(\u001b[49m\n\u001b[0;32m    944\u001b[0m \u001b[43m        \u001b[49m\u001b[43mwriter\u001b[49m\u001b[43m,\u001b[49m\n\u001b[0;32m    945\u001b[0m \u001b[43m        \u001b[49m\u001b[43mengine\u001b[49m\u001b[38;5;241;43m=\u001b[39;49m\u001b[43mengine\u001b[49m\u001b[43m,\u001b[49m\n\u001b[0;32m    946\u001b[0m \u001b[43m        \u001b[49m\u001b[43mstorage_options\u001b[49m\u001b[38;5;241;43m=\u001b[39;49m\u001b[43mstorage_options\u001b[49m\u001b[43m,\u001b[49m\n\u001b[0;32m    947\u001b[0m \u001b[43m        \u001b[49m\u001b[43mengine_kwargs\u001b[49m\u001b[38;5;241;43m=\u001b[39;49m\u001b[43mengine_kwargs\u001b[49m\u001b[43m,\u001b[49m\n\u001b[0;32m    948\u001b[0m \u001b[43m    \u001b[49m\u001b[43m)\u001b[49m\n\u001b[0;32m    949\u001b[0m     need_save \u001b[38;5;241m=\u001b[39m \u001b[38;5;28;01mTrue\u001b[39;00m\n\u001b[0;32m    951\u001b[0m \u001b[38;5;28;01mtry\u001b[39;00m:\n",
      "File \u001b[1;32mc:\\Users\\TEMP\\miniconda3\\Lib\\site-packages\\pandas\\io\\excel\\_openpyxl.py:57\u001b[0m, in \u001b[0;36mOpenpyxlWriter.__init__\u001b[1;34m(self, path, engine, date_format, datetime_format, mode, storage_options, if_sheet_exists, engine_kwargs, **kwargs)\u001b[0m\n\u001b[0;32m     44\u001b[0m \u001b[38;5;28;01mdef\u001b[39;00m \u001b[38;5;21m__init__\u001b[39m(\n\u001b[0;32m     45\u001b[0m     \u001b[38;5;28mself\u001b[39m,\n\u001b[0;32m     46\u001b[0m     path: FilePath \u001b[38;5;241m|\u001b[39m WriteExcelBuffer \u001b[38;5;241m|\u001b[39m ExcelWriter,\n\u001b[1;32m   (...)\u001b[0m\n\u001b[0;32m     55\u001b[0m ) \u001b[38;5;241m-\u001b[39m\u001b[38;5;241m>\u001b[39m \u001b[38;5;28;01mNone\u001b[39;00m:\n\u001b[0;32m     56\u001b[0m     \u001b[38;5;66;03m# Use the openpyxl module as the Excel writer.\u001b[39;00m\n\u001b[1;32m---> 57\u001b[0m     \u001b[38;5;28;01mfrom\u001b[39;00m \u001b[38;5;21;01mopenpyxl\u001b[39;00m\u001b[38;5;21;01m.\u001b[39;00m\u001b[38;5;21;01mworkbook\u001b[39;00m \u001b[38;5;28;01mimport\u001b[39;00m Workbook\n\u001b[0;32m     59\u001b[0m     engine_kwargs \u001b[38;5;241m=\u001b[39m combine_kwargs(engine_kwargs, kwargs)\n\u001b[0;32m     61\u001b[0m     \u001b[38;5;28msuper\u001b[39m()\u001b[38;5;241m.\u001b[39m\u001b[38;5;21m__init__\u001b[39m(\n\u001b[0;32m     62\u001b[0m         path,\n\u001b[0;32m     63\u001b[0m         mode\u001b[38;5;241m=\u001b[39mmode,\n\u001b[1;32m   (...)\u001b[0m\n\u001b[0;32m     66\u001b[0m         engine_kwargs\u001b[38;5;241m=\u001b[39mengine_kwargs,\n\u001b[0;32m     67\u001b[0m     )\n",
      "\u001b[1;31mModuleNotFoundError\u001b[0m: No module named 'openpyxl'"
     ]
    }
   ],
   "source": [
    "testing_data.to_excel('../Dataset/Preposessing/Testing/sebelum_preposessing3.xlsx')"
   ]
  },
  {
   "cell_type": "markdown",
   "id": "a6a39c0f-f0f0-462b-9b4f-878cca6da25d",
   "metadata": {
    "tags": []
   },
   "source": [
    "# EDA"
   ]
  },
  {
   "cell_type": "markdown",
   "id": "27f13fae-1676-41b4-8832-53924802862a",
   "metadata": {},
   "source": [
    "Sebelum melakukan preprossing pada data, akan dilakukan eda secara singkat untuk melihat tipe data dan null values pada data."
   ]
  },
  {
   "cell_type": "code",
   "execution_count": null,
   "id": "3119b05d-8d13-427b-8c9f-23aae89fcf28",
   "metadata": {
    "tags": []
   },
   "outputs": [],
   "source": [
    "eda_data = testing_data.copy()"
   ]
  },
  {
   "cell_type": "markdown",
   "id": "f7bc35d6-0c0a-401a-a253-1c217660c0b5",
   "metadata": {},
   "source": [
    "## Null Values"
   ]
  },
  {
   "cell_type": "code",
   "execution_count": null,
   "id": "b49ae05e-2af9-4309-8277-d851a1620f62",
   "metadata": {
    "tags": []
   },
   "outputs": [
    {
     "name": "stdout",
     "output_type": "stream",
     "text": [
      "Null Values:\n"
     ]
    },
    {
     "data": {
      "text/plain": [
       "full_text    0\n",
       "username     0\n",
       "dtype: int64"
      ]
     },
     "execution_count": 19,
     "metadata": {},
     "output_type": "execute_result"
    }
   ],
   "source": [
    "print(\"Null Values:\")\n",
    "eda_data.isna().sum()"
   ]
  },
  {
   "cell_type": "markdown",
   "id": "ad4a747a-c8c8-435b-bbb7-d958403e6de8",
   "metadata": {},
   "source": [
    "## Data Types"
   ]
  },
  {
   "cell_type": "code",
   "execution_count": null,
   "id": "c2e3d2c9-fe8f-4012-a60c-57bfcded847c",
   "metadata": {
    "tags": []
   },
   "outputs": [
    {
     "name": "stdout",
     "output_type": "stream",
     "text": [
      "Data Types:\n",
      "<class 'pandas.core.frame.DataFrame'>\n",
      "RangeIndex: 963 entries, 0 to 962\n",
      "Data columns (total 2 columns):\n",
      " #   Column     Non-Null Count  Dtype \n",
      "---  ------     --------------  ----- \n",
      " 0   full_text  963 non-null    object\n",
      " 1   username   963 non-null    object\n",
      "dtypes: object(2)\n",
      "memory usage: 15.2+ KB\n"
     ]
    }
   ],
   "source": [
    "print(\"Data Types:\")\n",
    "eda_data.info()"
   ]
  },
  {
   "cell_type": "markdown",
   "id": "d80553a3-af7e-4650-9c72-f9da510c8ff7",
   "metadata": {},
   "source": [
    "## Label Proportion"
   ]
  },
  {
   "cell_type": "code",
   "execution_count": null,
   "id": "57e5b299-9b13-4321-8f8b-5702ed8f3e50",
   "metadata": {
    "tags": []
   },
   "outputs": [
    {
     "data": {
      "image/png": "[encoded data removed]",
      "text/plain": [
       "<Figure size 640x480 with 1 Axes>"
      ]
     },
     "metadata": {},
     "output_type": "display_data"
    }
   ],
   "source": [
    "fig = plt.Figure(figsize=(25,25))\n",
    "plt.pie(eda_data[\"username\"].value_counts().values,\n",
    "        labels=eda_data[\"username\"].value_counts().index,\n",
    "        autopct='%.2f')\n",
    "plt.show()"
   ]
  },
  {
   "cell_type": "markdown",
   "id": "a7782e60-6c36-4187-9092-21792748bcad",
   "metadata": {},
   "source": [
    "Netral memiliki lebih banyak data dibandingkan label yang lain. "
   ]
  },
  {
   "cell_type": "markdown",
   "id": "311ff529-06ba-42dd-8172-95b292a0de9e",
   "metadata": {},
   "source": [
    "## Data Distribution"
   ]
  },
  {
   "cell_type": "code",
   "execution_count": null,
   "id": "6ffd222b-08a8-4a8e-8985-99ce0298f211",
   "metadata": {
    "tags": []
   },
   "outputs": [
    {
     "data": {
      "text/html": [
       "<div>\n",
       "<style scoped>\n",
       "    .dataframe tbody tr th:only-of-type {\n",
       "        vertical-align: middle;\n",
       "    }\n",
       "\n",
       "    .dataframe tbody tr th {\n",
       "        vertical-align: top;\n",
       "    }\n",
       "\n",
       "    .dataframe thead th {\n",
       "        text-align: right;\n",
       "    }\n",
       "</style>\n",
       "<table border=\"1\" class=\"dataframe\">\n",
       "  <thead>\n",
       "    <tr style=\"text-align: right;\">\n",
       "      <th></th>\n",
       "      <th>full_text</th>\n",
       "      <th>username</th>\n",
       "      <th>Length</th>\n",
       "    </tr>\n",
       "  </thead>\n",
       "  <tbody>\n",
       "    <tr>\n",
       "      <th>0</th>\n",
       "      <td>@RoxasDepp @jay_Hainen Aku yakin actually Man ...</td>\n",
       "      <td>amdjfr</td>\n",
       "      <td>160</td>\n",
       "    </tr>\n",
       "    <tr>\n",
       "      <th>1</th>\n",
       "      <td>@WTEFPL @KhairilAnuar Lahhhh tak baik taw ckp ...</td>\n",
       "      <td>Fizhanmtdn</td>\n",
       "      <td>118</td>\n",
       "    </tr>\n",
       "    <tr>\n",
       "      <th>2</th>\n",
       "      <td>@buat_gaming @utdabout FA ada man city kalo Ch...</td>\n",
       "      <td>eupatreat</td>\n",
       "      <td>80</td>\n",
       "    </tr>\n",
       "    <tr>\n",
       "      <th>3</th>\n",
       "      <td>@beagleblueF1 @ManCity Rodri</td>\n",
       "      <td>Ritvars95LV</td>\n",
       "      <td>29</td>\n",
       "    </tr>\n",
       "    <tr>\n",
       "      <th>4</th>\n",
       "      <td>Malam ganjil. Gol ganjil Assalamualaikum piala...</td>\n",
       "      <td>abdanahmadd</td>\n",
       "      <td>104</td>\n",
       "    </tr>\n",
       "    <tr>\n",
       "      <th>5</th>\n",
       "      <td>Cole Palmer ngebet pindah dari @ManCity ke @Ch...</td>\n",
       "      <td>kopibukudanpena</td>\n",
       "      <td>118</td>\n",
       "    </tr>\n",
       "    <tr>\n",
       "      <th>6</th>\n",
       "      <td>Lihat statistik top score EPL ternyata cold Pa...</td>\n",
       "      <td>tejoharizola_</td>\n",
       "      <td>114</td>\n",
       "    </tr>\n",
       "    <tr>\n",
       "      <th>7</th>\n",
       "      <td>@keywai_ Plg susah arsenal. Easiest run in man...</td>\n",
       "      <td>MSallehuddin05</td>\n",
       "      <td>181</td>\n",
       "    </tr>\n",
       "    <tr>\n",
       "      <th>8</th>\n",
       "      <td>COLD PALMER Semenjak Man City lepas dia gue ud...</td>\n",
       "      <td>PunditNdut</td>\n",
       "      <td>254</td>\n",
       "    </tr>\n",
       "    <tr>\n",
       "      <th>9</th>\n",
       "      <td>@ahkirey gue mancity sama arsenal hahaha.</td>\n",
       "      <td>raedfield</td>\n",
       "      <td>41</td>\n",
       "    </tr>\n",
       "  </tbody>\n",
       "</table>\n",
       "</div>"
      ],
      "text/plain": [
       "                                           full_text         username  Length\n",
       "0  @RoxasDepp @jay_Hainen Aku yakin actually Man ...           amdjfr     160\n",
       "1  @WTEFPL @KhairilAnuar Lahhhh tak baik taw ckp ...       Fizhanmtdn     118\n",
       "2  @buat_gaming @utdabout FA ada man city kalo Ch...        eupatreat      80\n",
       "3                      @beagleblueF1 @ManCity Rodri       Ritvars95LV      29\n",
       "4  Malam ganjil. Gol ganjil Assalamualaikum piala...      abdanahmadd     104\n",
       "5  Cole Palmer ngebet pindah dari @ManCity ke @Ch...  kopibukudanpena     118\n",
       "6  Lihat statistik top score EPL ternyata cold Pa...    tejoharizola_     114\n",
       "7  @keywai_ Plg susah arsenal. Easiest run in man...   MSallehuddin05     181\n",
       "8  COLD PALMER Semenjak Man City lepas dia gue ud...       PunditNdut     254\n",
       "9          @ahkirey gue mancity sama arsenal hahaha.        raedfield      41"
      ]
     },
     "execution_count": 22,
     "metadata": {},
     "output_type": "execute_result"
    }
   ],
   "source": [
    "eda_data['Length'] = eda_data['full_text'].str.len()\n",
    "eda_data.head(10)"
   ]
  },
  {
   "cell_type": "code",
   "execution_count": null,
   "id": "81000f35-90d4-4019-9337-2384744cf933",
   "metadata": {
    "tags": []
   },
   "outputs": [
    {
     "name": "stdout",
     "output_type": "stream",
     "text": [
      "Rata-rata panjang karakter tweet : 123.17\n"
     ]
    }
   ],
   "source": [
    "print(f\"Rata-rata panjang karakter tweet : {eda_data['Length'].mean():.2f}\")"
   ]
  },
  {
   "cell_type": "code",
   "execution_count": null,
   "id": "33aad1cd-e0a1-4bc2-a354-4cfc1c9a18cc",
   "metadata": {
    "tags": []
   },
   "outputs": [
    {
     "name": "stdout",
     "output_type": "stream",
     "text": [
      "Jumlah panjang karakter tweet  : 118617.00\n"
     ]
    }
   ],
   "source": [
    "print(f\"Jumlah panjang karakter tweet  : {eda_data['Length'].sum():.2f}\")"
   ]
  },
  {
   "cell_type": "code",
   "execution_count": null,
   "id": "a5b567d0-3946-4fd2-98db-cd92f48a8094",
   "metadata": {
    "tags": []
   },
   "outputs": [],
   "source": [
    "def word_count(tweet):\n",
    "    tweet_list = tweet.split()\n",
    "    return len(tweet_list)"
   ]
  },
  {
   "cell_type": "code",
   "execution_count": null,
   "id": "b61a5f68-7957-421b-9781-bcc0a883a6bb",
   "metadata": {
    "tags": []
   },
   "outputs": [
    {
     "data": {
      "text/html": [
       "<div>\n",
       "<style scoped>\n",
       "    .dataframe tbody tr th:only-of-type {\n",
       "        vertical-align: middle;\n",
       "    }\n",
       "\n",
       "    .dataframe tbody tr th {\n",
       "        vertical-align: top;\n",
       "    }\n",
       "\n",
       "    .dataframe thead th {\n",
       "        text-align: right;\n",
       "    }\n",
       "</style>\n",
       "<table border=\"1\" class=\"dataframe\">\n",
       "  <thead>\n",
       "    <tr style=\"text-align: right;\">\n",
       "      <th></th>\n",
       "      <th>full_text</th>\n",
       "      <th>username</th>\n",
       "      <th>Length</th>\n",
       "      <th>Word_count</th>\n",
       "    </tr>\n",
       "  </thead>\n",
       "  <tbody>\n",
       "    <tr>\n",
       "      <th>0</th>\n",
       "      <td>@RoxasDepp @jay_Hainen Aku yakin actually Man ...</td>\n",
       "      <td>amdjfr</td>\n",
       "      <td>160</td>\n",
       "      <td>25</td>\n",
       "    </tr>\n",
       "    <tr>\n",
       "      <th>1</th>\n",
       "      <td>@WTEFPL @KhairilAnuar Lahhhh tak baik taw ckp ...</td>\n",
       "      <td>Fizhanmtdn</td>\n",
       "      <td>118</td>\n",
       "      <td>21</td>\n",
       "    </tr>\n",
       "    <tr>\n",
       "      <th>2</th>\n",
       "      <td>@buat_gaming @utdabout FA ada man city kalo Ch...</td>\n",
       "      <td>eupatreat</td>\n",
       "      <td>80</td>\n",
       "      <td>13</td>\n",
       "    </tr>\n",
       "    <tr>\n",
       "      <th>3</th>\n",
       "      <td>@beagleblueF1 @ManCity Rodri</td>\n",
       "      <td>Ritvars95LV</td>\n",
       "      <td>29</td>\n",
       "      <td>3</td>\n",
       "    </tr>\n",
       "    <tr>\n",
       "      <th>4</th>\n",
       "      <td>Malam ganjil. Gol ganjil Assalamualaikum piala...</td>\n",
       "      <td>abdanahmadd</td>\n",
       "      <td>104</td>\n",
       "      <td>11</td>\n",
       "    </tr>\n",
       "    <tr>\n",
       "      <th>5</th>\n",
       "      <td>Cole Palmer ngebet pindah dari @ManCity ke @Ch...</td>\n",
       "      <td>kopibukudanpena</td>\n",
       "      <td>118</td>\n",
       "      <td>16</td>\n",
       "    </tr>\n",
       "    <tr>\n",
       "      <th>6</th>\n",
       "      <td>Lihat statistik top score EPL ternyata cold Pa...</td>\n",
       "      <td>tejoharizola_</td>\n",
       "      <td>114</td>\n",
       "      <td>15</td>\n",
       "    </tr>\n",
       "    <tr>\n",
       "      <th>7</th>\n",
       "      <td>@keywai_ Plg susah arsenal. Easiest run in man...</td>\n",
       "      <td>MSallehuddin05</td>\n",
       "      <td>181</td>\n",
       "      <td>33</td>\n",
       "    </tr>\n",
       "    <tr>\n",
       "      <th>8</th>\n",
       "      <td>COLD PALMER Semenjak Man City lepas dia gue ud...</td>\n",
       "      <td>PunditNdut</td>\n",
       "      <td>254</td>\n",
       "      <td>43</td>\n",
       "    </tr>\n",
       "    <tr>\n",
       "      <th>9</th>\n",
       "      <td>@ahkirey gue mancity sama arsenal hahaha.</td>\n",
       "      <td>raedfield</td>\n",
       "      <td>41</td>\n",
       "      <td>6</td>\n",
       "    </tr>\n",
       "  </tbody>\n",
       "</table>\n",
       "</div>"
      ],
      "text/plain": [
       "                                           full_text         username  Length  \\\n",
       "0  @RoxasDepp @jay_Hainen Aku yakin actually Man ...           amdjfr     160   \n",
       "1  @WTEFPL @KhairilAnuar Lahhhh tak baik taw ckp ...       Fizhanmtdn     118   \n",
       "2  @buat_gaming @utdabout FA ada man city kalo Ch...        eupatreat      80   \n",
       "3                      @beagleblueF1 @ManCity Rodri       Ritvars95LV      29   \n",
       "4  Malam ganjil. Gol ganjil Assalamualaikum piala...      abdanahmadd     104   \n",
       "5  Cole Palmer ngebet pindah dari @ManCity ke @Ch...  kopibukudanpena     118   \n",
       "6  Lihat statistik top score EPL ternyata cold Pa...    tejoharizola_     114   \n",
       "7  @keywai_ Plg susah arsenal. Easiest run in man...   MSallehuddin05     181   \n",
       "8  COLD PALMER Semenjak Man City lepas dia gue ud...       PunditNdut     254   \n",
       "9          @ahkirey gue mancity sama arsenal hahaha.        raedfield      41   \n",
       "\n",
       "   Word_count  \n",
       "0          25  \n",
       "1          21  \n",
       "2          13  \n",
       "3           3  \n",
       "4          11  \n",
       "5          16  \n",
       "6          15  \n",
       "7          33  \n",
       "8          43  \n",
       "9           6  "
      ]
     },
     "execution_count": 26,
     "metadata": {},
     "output_type": "execute_result"
    }
   ],
   "source": [
    "eda_data['Word_count'] = eda_data['full_text'].apply(word_count)\n",
    "eda_data.head(10)"
   ]
  },
  {
   "cell_type": "code",
   "execution_count": null,
   "id": "b05b53ca-5d3f-4b22-80f5-835ce84b836a",
   "metadata": {
    "tags": []
   },
   "outputs": [
    {
     "name": "stdout",
     "output_type": "stream",
     "text": [
      "Jumlah kata : 17174.00\n"
     ]
    }
   ],
   "source": [
    "print(f\"Jumlah kata : {eda_data['Word_count'].sum():.2f}\")"
   ]
  },
  {
   "cell_type": "code",
   "execution_count": null,
   "id": "da2bbe9f-de11-44f1-aa0c-a12a17516c1c",
   "metadata": {
    "tags": []
   },
   "outputs": [
    {
     "name": "stdout",
     "output_type": "stream",
     "text": [
      "Rata-rata jumlah kata : 17.83\n"
     ]
    }
   ],
   "source": [
    "print(f\"Rata-rata jumlah kata : {eda_data['Word_count'].mean():.2f}\")"
   ]
  },
  {
   "cell_type": "code",
   "execution_count": null,
   "id": "3b100b60-5421-4f68-a299-b3fec6d70241",
   "metadata": {
    "tags": []
   },
   "outputs": [
    {
     "data": {
      "text/html": [
       "<div>\n",
       "<style scoped>\n",
       "    .dataframe tbody tr th:only-of-type {\n",
       "        vertical-align: middle;\n",
       "    }\n",
       "\n",
       "    .dataframe tbody tr th {\n",
       "        vertical-align: top;\n",
       "    }\n",
       "\n",
       "    .dataframe thead th {\n",
       "        text-align: right;\n",
       "    }\n",
       "</style>\n",
       "<table border=\"1\" class=\"dataframe\">\n",
       "  <thead>\n",
       "    <tr style=\"text-align: right;\">\n",
       "      <th></th>\n",
       "      <th>full_text</th>\n",
       "      <th>username</th>\n",
       "      <th>Length</th>\n",
       "      <th>Word_count</th>\n",
       "      <th>mean_word_length</th>\n",
       "    </tr>\n",
       "  </thead>\n",
       "  <tbody>\n",
       "    <tr>\n",
       "      <th>0</th>\n",
       "      <td>@RoxasDepp @jay_Hainen Aku yakin actually Man ...</td>\n",
       "      <td>amdjfr</td>\n",
       "      <td>160</td>\n",
       "      <td>25</td>\n",
       "      <td>5.440000</td>\n",
       "    </tr>\n",
       "    <tr>\n",
       "      <th>1</th>\n",
       "      <td>@WTEFPL @KhairilAnuar Lahhhh tak baik taw ckp ...</td>\n",
       "      <td>Fizhanmtdn</td>\n",
       "      <td>118</td>\n",
       "      <td>21</td>\n",
       "      <td>4.666667</td>\n",
       "    </tr>\n",
       "    <tr>\n",
       "      <th>2</th>\n",
       "      <td>@buat_gaming @utdabout FA ada man city kalo Ch...</td>\n",
       "      <td>eupatreat</td>\n",
       "      <td>80</td>\n",
       "      <td>13</td>\n",
       "      <td>5.230769</td>\n",
       "    </tr>\n",
       "    <tr>\n",
       "      <th>3</th>\n",
       "      <td>@beagleblueF1 @ManCity Rodri</td>\n",
       "      <td>Ritvars95LV</td>\n",
       "      <td>29</td>\n",
       "      <td>3</td>\n",
       "      <td>8.666667</td>\n",
       "    </tr>\n",
       "    <tr>\n",
       "      <th>4</th>\n",
       "      <td>Malam ganjil. Gol ganjil Assalamualaikum piala...</td>\n",
       "      <td>abdanahmadd</td>\n",
       "      <td>104</td>\n",
       "      <td>11</td>\n",
       "      <td>8.545455</td>\n",
       "    </tr>\n",
       "    <tr>\n",
       "      <th>5</th>\n",
       "      <td>Cole Palmer ngebet pindah dari @ManCity ke @Ch...</td>\n",
       "      <td>kopibukudanpena</td>\n",
       "      <td>118</td>\n",
       "      <td>16</td>\n",
       "      <td>6.437500</td>\n",
       "    </tr>\n",
       "    <tr>\n",
       "      <th>6</th>\n",
       "      <td>Lihat statistik top score EPL ternyata cold Pa...</td>\n",
       "      <td>tejoharizola_</td>\n",
       "      <td>114</td>\n",
       "      <td>15</td>\n",
       "      <td>6.666667</td>\n",
       "    </tr>\n",
       "    <tr>\n",
       "      <th>7</th>\n",
       "      <td>@keywai_ Plg susah arsenal. Easiest run in man...</td>\n",
       "      <td>MSallehuddin05</td>\n",
       "      <td>181</td>\n",
       "      <td>33</td>\n",
       "      <td>4.515152</td>\n",
       "    </tr>\n",
       "    <tr>\n",
       "      <th>8</th>\n",
       "      <td>COLD PALMER Semenjak Man City lepas dia gue ud...</td>\n",
       "      <td>PunditNdut</td>\n",
       "      <td>254</td>\n",
       "      <td>43</td>\n",
       "      <td>4.930233</td>\n",
       "    </tr>\n",
       "    <tr>\n",
       "      <th>9</th>\n",
       "      <td>@ahkirey gue mancity sama arsenal hahaha.</td>\n",
       "      <td>raedfield</td>\n",
       "      <td>41</td>\n",
       "      <td>6</td>\n",
       "      <td>6.000000</td>\n",
       "    </tr>\n",
       "  </tbody>\n",
       "</table>\n",
       "</div>"
      ],
      "text/plain": [
       "                                           full_text         username  Length  \\\n",
       "0  @RoxasDepp @jay_Hainen Aku yakin actually Man ...           amdjfr     160   \n",
       "1  @WTEFPL @KhairilAnuar Lahhhh tak baik taw ckp ...       Fizhanmtdn     118   \n",
       "2  @buat_gaming @utdabout FA ada man city kalo Ch...        eupatreat      80   \n",
       "3                      @beagleblueF1 @ManCity Rodri       Ritvars95LV      29   \n",
       "4  Malam ganjil. Gol ganjil Assalamualaikum piala...      abdanahmadd     104   \n",
       "5  Cole Palmer ngebet pindah dari @ManCity ke @Ch...  kopibukudanpena     118   \n",
       "6  Lihat statistik top score EPL ternyata cold Pa...    tejoharizola_     114   \n",
       "7  @keywai_ Plg susah arsenal. Easiest run in man...   MSallehuddin05     181   \n",
       "8  COLD PALMER Semenjak Man City lepas dia gue ud...       PunditNdut     254   \n",
       "9          @ahkirey gue mancity sama arsenal hahaha.        raedfield      41   \n",
       "\n",
       "   Word_count  mean_word_length  \n",
       "0          25          5.440000  \n",
       "1          21          4.666667  \n",
       "2          13          5.230769  \n",
       "3           3          8.666667  \n",
       "4          11          8.545455  \n",
       "5          16          6.437500  \n",
       "6          15          6.666667  \n",
       "7          33          4.515152  \n",
       "8          43          4.930233  \n",
       "9           6          6.000000  "
      ]
     },
     "execution_count": 29,
     "metadata": {},
     "output_type": "execute_result"
    }
   ],
   "source": [
    "eda_data['mean_word_length'] = eda_data['full_text'].map(lambda rev: numpy.mean([len(word) for word in rev.split()]))\n",
    "eda_data.head(10)"
   ]
  },
  {
   "cell_type": "code",
   "execution_count": null,
   "id": "a766f7ff-362d-41ea-a5fd-de19f6528395",
   "metadata": {
    "tags": []
   },
   "outputs": [
    {
     "data": {
      "text/html": [
       "<div>\n",
       "<style scoped>\n",
       "    .dataframe tbody tr th:only-of-type {\n",
       "        vertical-align: middle;\n",
       "    }\n",
       "\n",
       "    .dataframe tbody tr th {\n",
       "        vertical-align: top;\n",
       "    }\n",
       "\n",
       "    .dataframe thead th {\n",
       "        text-align: right;\n",
       "    }\n",
       "</style>\n",
       "<table border=\"1\" class=\"dataframe\">\n",
       "  <thead>\n",
       "    <tr style=\"text-align: right;\">\n",
       "      <th></th>\n",
       "      <th>full_text</th>\n",
       "      <th>username</th>\n",
       "      <th>Length</th>\n",
       "      <th>Word_count</th>\n",
       "      <th>mean_word_length</th>\n",
       "      <th>mean_sent_length</th>\n",
       "    </tr>\n",
       "  </thead>\n",
       "  <tbody>\n",
       "    <tr>\n",
       "      <th>0</th>\n",
       "      <td>@RoxasDepp @jay_Hainen Aku yakin actually Man ...</td>\n",
       "      <td>amdjfr</td>\n",
       "      <td>160</td>\n",
       "      <td>25</td>\n",
       "      <td>5.440000</td>\n",
       "      <td>79.50</td>\n",
       "    </tr>\n",
       "    <tr>\n",
       "      <th>1</th>\n",
       "      <td>@WTEFPL @KhairilAnuar Lahhhh tak baik taw ckp ...</td>\n",
       "      <td>Fizhanmtdn</td>\n",
       "      <td>118</td>\n",
       "      <td>21</td>\n",
       "      <td>4.666667</td>\n",
       "      <td>118.00</td>\n",
       "    </tr>\n",
       "    <tr>\n",
       "      <th>2</th>\n",
       "      <td>@buat_gaming @utdabout FA ada man city kalo Ch...</td>\n",
       "      <td>eupatreat</td>\n",
       "      <td>80</td>\n",
       "      <td>13</td>\n",
       "      <td>5.230769</td>\n",
       "      <td>80.00</td>\n",
       "    </tr>\n",
       "    <tr>\n",
       "      <th>3</th>\n",
       "      <td>@beagleblueF1 @ManCity Rodri</td>\n",
       "      <td>Ritvars95LV</td>\n",
       "      <td>29</td>\n",
       "      <td>3</td>\n",
       "      <td>8.666667</td>\n",
       "      <td>28.00</td>\n",
       "    </tr>\n",
       "    <tr>\n",
       "      <th>4</th>\n",
       "      <td>Malam ganjil. Gol ganjil Assalamualaikum piala...</td>\n",
       "      <td>abdanahmadd</td>\n",
       "      <td>104</td>\n",
       "      <td>11</td>\n",
       "      <td>8.545455</td>\n",
       "      <td>51.50</td>\n",
       "    </tr>\n",
       "    <tr>\n",
       "      <th>5</th>\n",
       "      <td>Cole Palmer ngebet pindah dari @ManCity ke @Ch...</td>\n",
       "      <td>kopibukudanpena</td>\n",
       "      <td>118</td>\n",
       "      <td>16</td>\n",
       "      <td>6.437500</td>\n",
       "      <td>118.00</td>\n",
       "    </tr>\n",
       "    <tr>\n",
       "      <th>6</th>\n",
       "      <td>Lihat statistik top score EPL ternyata cold Pa...</td>\n",
       "      <td>tejoharizola_</td>\n",
       "      <td>114</td>\n",
       "      <td>15</td>\n",
       "      <td>6.666667</td>\n",
       "      <td>56.50</td>\n",
       "    </tr>\n",
       "    <tr>\n",
       "      <th>7</th>\n",
       "      <td>@keywai_ Plg susah arsenal. Easiest run in man...</td>\n",
       "      <td>MSallehuddin05</td>\n",
       "      <td>181</td>\n",
       "      <td>33</td>\n",
       "      <td>4.515152</td>\n",
       "      <td>44.50</td>\n",
       "    </tr>\n",
       "    <tr>\n",
       "      <th>8</th>\n",
       "      <td>COLD PALMER Semenjak Man City lepas dia gue ud...</td>\n",
       "      <td>PunditNdut</td>\n",
       "      <td>254</td>\n",
       "      <td>43</td>\n",
       "      <td>4.930233</td>\n",
       "      <td>62.75</td>\n",
       "    </tr>\n",
       "    <tr>\n",
       "      <th>9</th>\n",
       "      <td>@ahkirey gue mancity sama arsenal hahaha.</td>\n",
       "      <td>raedfield</td>\n",
       "      <td>41</td>\n",
       "      <td>6</td>\n",
       "      <td>6.000000</td>\n",
       "      <td>41.00</td>\n",
       "    </tr>\n",
       "  </tbody>\n",
       "</table>\n",
       "</div>"
      ],
      "text/plain": [
       "                                           full_text         username  Length  \\\n",
       "0  @RoxasDepp @jay_Hainen Aku yakin actually Man ...           amdjfr     160   \n",
       "1  @WTEFPL @KhairilAnuar Lahhhh tak baik taw ckp ...       Fizhanmtdn     118   \n",
       "2  @buat_gaming @utdabout FA ada man city kalo Ch...        eupatreat      80   \n",
       "3                      @beagleblueF1 @ManCity Rodri       Ritvars95LV      29   \n",
       "4  Malam ganjil. Gol ganjil Assalamualaikum piala...      abdanahmadd     104   \n",
       "5  Cole Palmer ngebet pindah dari @ManCity ke @Ch...  kopibukudanpena     118   \n",
       "6  Lihat statistik top score EPL ternyata cold Pa...    tejoharizola_     114   \n",
       "7  @keywai_ Plg susah arsenal. Easiest run in man...   MSallehuddin05     181   \n",
       "8  COLD PALMER Semenjak Man City lepas dia gue ud...       PunditNdut     254   \n",
       "9          @ahkirey gue mancity sama arsenal hahaha.        raedfield      41   \n",
       "\n",
       "   Word_count  mean_word_length  mean_sent_length  \n",
       "0          25          5.440000             79.50  \n",
       "1          21          4.666667            118.00  \n",
       "2          13          5.230769             80.00  \n",
       "3           3          8.666667             28.00  \n",
       "4          11          8.545455             51.50  \n",
       "5          16          6.437500            118.00  \n",
       "6          15          6.666667             56.50  \n",
       "7          33          4.515152             44.50  \n",
       "8          43          4.930233             62.75  \n",
       "9           6          6.000000             41.00  "
      ]
     },
     "execution_count": 30,
     "metadata": {},
     "output_type": "execute_result"
    }
   ],
   "source": [
    "eda_data['mean_sent_length'] = eda_data['full_text'].map(lambda rev: numpy.mean([len(sent) for sent in tokenize.sent_tokenize(rev)]))\n",
    "eda_data.head(10)"
   ]
  },
  {
   "cell_type": "code",
   "execution_count": null,
   "id": "03b05562-2c75-4338-8f62-cb54bb7b0015",
   "metadata": {
    "tags": []
   },
   "outputs": [],
   "source": [
    "def visualize(col):\n",
    "    plt.figure(figsize=(14, 6))\n",
    "\n",
    "    plt.subplot(1, 2, 1)\n",
    "    sns.boxplot(y=eda_data[col], hue=eda_data['username'])\n",
    "    plt.ylabel(col, labelpad=12.5)\n",
    "    plt.title(col)\n",
    "\n",
    "    plt.subplot(1, 2, 2)\n",
    "    sns.displot(eda_data, x=col, kind=\"kde\", hue='username', rug=True)\n",
    "    plt.xlabel('')\n",
    "    plt.ylabel('')\n",
    "    plt.title(col)\n",
    "\n",
    "    plt.tight_layout()\n",
    "    plt.show()"
   ]
  },
  {
   "cell_type": "code",
   "execution_count": null,
   "id": "cfc79ca5-72b4-4729-935e-c6a5d37faabf",
   "metadata": {
    "tags": []
   },
   "outputs": [],
   "source": [
    "#features = eda_data.columns.tolist()[2:]\n",
    "#for feature in features:\n",
    "    #visualize(feature)"
   ]
  },
  {
   "cell_type": "markdown",
   "id": "377fdcc1-317f-4423-b1a4-7526e3f750f9",
   "metadata": {},
   "source": [
    "# Preprocessing"
   ]
  },
  {
   "cell_type": "code",
   "execution_count": null,
   "id": "26fff1fe-efdd-4088-9f20-7dccb6a8aa41",
   "metadata": {
    "tags": []
   },
   "outputs": [
    {
     "data": {
      "text/html": [
       "<div>\n",
       "<style scoped>\n",
       "    .dataframe tbody tr th:only-of-type {\n",
       "        vertical-align: middle;\n",
       "    }\n",
       "\n",
       "    .dataframe tbody tr th {\n",
       "        vertical-align: top;\n",
       "    }\n",
       "\n",
       "    .dataframe thead th {\n",
       "        text-align: right;\n",
       "    }\n",
       "</style>\n",
       "<table border=\"1\" class=\"dataframe\">\n",
       "  <thead>\n",
       "    <tr style=\"text-align: right;\">\n",
       "      <th></th>\n",
       "      <th>kata_gaul</th>\n",
       "      <th>kata_asal</th>\n",
       "    </tr>\n",
       "  </thead>\n",
       "  <tbody>\n",
       "    <tr>\n",
       "      <th>0</th>\n",
       "      <td>awal</td>\n",
       "      <td>akhir</td>\n",
       "    </tr>\n",
       "    <tr>\n",
       "      <th>1</th>\n",
       "      <td>aamiin</td>\n",
       "      <td>amin</td>\n",
       "    </tr>\n",
       "    <tr>\n",
       "      <th>2</th>\n",
       "      <td>adek</td>\n",
       "      <td>adik</td>\n",
       "    </tr>\n",
       "    <tr>\n",
       "      <th>3</th>\n",
       "      <td>adlh</td>\n",
       "      <td>adalah</td>\n",
       "    </tr>\n",
       "    <tr>\n",
       "      <th>4</th>\n",
       "      <td>aer</td>\n",
       "      <td>air</td>\n",
       "    </tr>\n",
       "    <tr>\n",
       "      <th>...</th>\n",
       "      <td>...</td>\n",
       "      <td>...</td>\n",
       "    </tr>\n",
       "    <tr>\n",
       "      <th>1305</th>\n",
       "      <td>yoi</td>\n",
       "      <td>iya</td>\n",
       "    </tr>\n",
       "    <tr>\n",
       "      <th>1306</th>\n",
       "      <td>yup</td>\n",
       "      <td>ya</td>\n",
       "    </tr>\n",
       "    <tr>\n",
       "      <th>1307</th>\n",
       "      <td>yups</td>\n",
       "      <td>ya</td>\n",
       "    </tr>\n",
       "    <tr>\n",
       "      <th>1308</th>\n",
       "      <td>yupz</td>\n",
       "      <td>ya</td>\n",
       "    </tr>\n",
       "    <tr>\n",
       "      <th>1309</th>\n",
       "      <td>ywdh</td>\n",
       "      <td>ya sudah</td>\n",
       "    </tr>\n",
       "  </tbody>\n",
       "</table>\n",
       "<p>1310 rows × 2 columns</p>\n",
       "</div>"
      ],
      "text/plain": [
       "     kata_gaul kata_asal\n",
       "0         awal     akhir\n",
       "1       aamiin     amin \n",
       "2         adek     adik \n",
       "3         adlh   adalah \n",
       "4          aer      air \n",
       "...        ...       ...\n",
       "1305       yoi       iya\n",
       "1306       yup       ya \n",
       "1307      yups        ya\n",
       "1308      yupz        ya\n",
       "1309      ywdh  ya sudah\n",
       "\n",
       "[1310 rows x 2 columns]"
      ]
     },
     "execution_count": 33,
     "metadata": {},
     "output_type": "execute_result"
    }
   ],
   "source": [
    "kamus_singkatan = pandas.read_csv(\"./Dataset/kamus_singkatan.csv\",names=[\"kata_gaul\",\"kata_asal\"],delimiter=\",\")\n",
    "kamus_singkatan"
   ]
  },
  {
   "cell_type": "code",
   "execution_count": null,
   "id": "ce1471fe-1265-40cc-8434-530cceb9b90a",
   "metadata": {
    "tags": []
   },
   "outputs": [],
   "source": [
    "def create_kamus():\n",
    "      kamus = {}\n",
    "      for i in range(len(kamus_singkatan)):\n",
    "          kamus[kamus_singkatan[\"kata_gaul\"][i]]=kamus_singkatan[\"kata_asal\"][i].lower().strip()\n",
    "      return kamus"
   ]
  },
  {
   "cell_type": "code",
   "execution_count": null,
   "id": "4b7ed28a-e405-4cc5-98d9-5568c82bddde",
   "metadata": {
    "tags": []
   },
   "outputs": [
    {
     "data": {
      "text/plain": [
       "{'awal': 'akhir',\n",
       " 'aamiin': 'amin',\n",
       " 'adek': 'adik',\n",
       " 'adlh': 'adalah',\n",
       " 'aer': 'air',\n",
       " 'aiskrim': 'es krim',\n",
       " 'aj': 'saja',\n",
       " 'aja': 'saja',\n",
       " 'ajah': 'saja',\n",
       " 'ajalah': 'saja',\n",
       " 'aje': 'saja',\n",
       " 'ajh': 'saja',\n",
       " 'ajj': 'saja',\n",
       " 'aku': 'saya',\n",
       " 'ak': 'saya',\n",
       " 'akoh': 'saya',\n",
       " 'akutu': 'saya',\n",
       " 'aq': 'saya',\n",
       " 'alesan': 'alasan',\n",
       " 'ama': 'sama',\n",
       " 'amaca': 'ah masa',\n",
       " 'amuh': 'kamu',\n",
       " 'ancur': 'hancur',\n",
       " 'ane': 'saya',\n",
       " 'anget': 'hangat',\n",
       " 'anjeng': 'anjing',\n",
       " 'ank': 'anak',\n",
       " 'apah': 'apa',\n",
       " 'aph': 'apa',\n",
       " 'apo': 'apa',\n",
       " 'apose': 'apa',\n",
       " 'apz': 'apa',\n",
       " 'artine': 'artinya',\n",
       " 'asek': 'asik',\n",
       " 'ati2': 'hati-hati',\n",
       " 'atit': 'sakit',\n",
       " 'atu': 'satu',\n",
       " 'atw': 'atau',\n",
       " 'ayang': 'sayang',\n",
       " 'ayuk': 'ayo',\n",
       " 'babang': 'abang',\n",
       " 'bae': 'baik',\n",
       " 'bais': 'habis',\n",
       " 'bakalan': 'akan',\n",
       " 'bales': 'balas',\n",
       " 'bandingin': 'bandingkan',\n",
       " 'banget': 'sekali',\n",
       " 'bangett': 'sangat',\n",
       " 'banyakin': 'perbanyak',\n",
       " 'barengan': 'bersamaan',\n",
       " 'baryaw': 'sabar ya',\n",
       " 'baso': 'bakso',\n",
       " 'bay': 'selamat tinggal',\n",
       " 'bbrp': 'beberapa',\n",
       " 'bc': 'baca',\n",
       " 'bcs': 'bisa',\n",
       " 'bct': 'bicara',\n",
       " 'bdan': 'badan',\n",
       " 'bdg': 'bandung',\n",
       " 'bdn': 'badan',\n",
       " 'becanda': 'bercanda',\n",
       " 'bedua': 'berdua',\n",
       " 'bego': 'bodoh',\n",
       " 'bekel': 'bekal',\n",
       " 'belom': 'belum',\n",
       " 'belon': 'belum',\n",
       " 'bener': 'benar',\n",
       " 'bener2': 'benar-benar',\n",
       " 'beneran': 'benar',\n",
       " 'berantem': 'bertengkar',\n",
       " 'berenti': 'berhenti',\n",
       " 'besoq': 'besok',\n",
       " 'bete': 'sebal',\n",
       " 'beud': 'banget',\n",
       " 'bg': 'bagi',\n",
       " 'bgd': 'sangat',\n",
       " 'bget': 'sangat',\n",
       " 'bgini': 'begini',\n",
       " 'bgitu': 'begitu',\n",
       " 'bgks': 'bungkus',\n",
       " 'bgm': 'bagaimana',\n",
       " 'bgmn': 'bagaimana',\n",
       " 'bgn': 'bangun',\n",
       " 'bgni': 'begini',\n",
       " 'bgntdr': 'bangun tidur',\n",
       " 'bgs': 'bagus',\n",
       " 'bgt': 'sangat',\n",
       " 'bgtu': 'begitu',\n",
       " 'bgus': 'bagus',\n",
       " 'bhay': 'selamat tinggal',\n",
       " 'bhn': 'bahan',\n",
       " 'bhs': 'bahas',\n",
       " 'bhw': 'bahwa',\n",
       " 'bhy': 'bahaya',\n",
       " 'bisaa': 'bisa',\n",
       " 'bisya': 'bisa',\n",
       " 'biza': 'bisa',\n",
       " 'bj': 'baju',\n",
       " 'bju': 'baju',\n",
       " 'bk': 'buku',\n",
       " 'bkan': 'bukan',\n",
       " 'bkin': 'bikin',\n",
       " 'bkl': 'bakal',\n",
       " 'bkn': 'bukan',\n",
       " 'bkr': 'bakar',\n",
       " 'bks': 'bungkus',\n",
       " 'bl': 'beli',\n",
       " 'blajar': 'belajar',\n",
       " 'blg': 'bilang',\n",
       " 'blh': 'boleh',\n",
       " 'bli': 'beli',\n",
       " 'blik': 'balik',\n",
       " 'bljr': 'belajar',\n",
       " 'blk': 'balik',\n",
       " 'blkg': 'belakang',\n",
       " 'blkng': 'belakang',\n",
       " 'blkngny': 'belakangnya',\n",
       " 'blm': 'belum',\n",
       " 'bln': 'bulan',\n",
       " 'blng': 'bilang',\n",
       " 'blngn': 'bilang',\n",
       " 'blom': 'belum',\n",
       " 'bls': 'balas',\n",
       " 'blum': 'belum',\n",
       " 'bndg': 'bandung',\n",
       " 'bndr': 'bandar',\n",
       " 'bner': 'benar',\n",
       " 'bneran': 'benar',\n",
       " 'bnget': 'sangat',\n",
       " 'bngks': 'bungkus',\n",
       " 'bngng': 'bingung',\n",
       " 'bngt': 'sangat',\n",
       " 'bngun': 'bangun',\n",
       " 'bnr': 'benar',\n",
       " 'bnrbnr': 'benar-benar',\n",
       " 'bnrn': 'benar',\n",
       " 'bntar': 'sebentar',\n",
       " 'bntr': 'sebentar',\n",
       " 'bnyak': 'banyak',\n",
       " 'bnyk': 'banyak',\n",
       " 'bnykny': 'banyaknya',\n",
       " 'bobo': 'tidur',\n",
       " 'bobok': 'tidur',\n",
       " 'bokap': 'ayah',\n",
       " 'bole': 'boleh',\n",
       " 'boong': 'bohong',\n",
       " 'bosen': 'bosan',\n",
       " 'bpk': 'bapak',\n",
       " 'brani': 'berani',\n",
       " 'brapa': 'berapa',\n",
       " 'brarti': 'berarti',\n",
       " 'brasa': 'berasa',\n",
       " 'brg': 'barang',\n",
       " 'brgkt': 'berangkat',\n",
       " 'brhsl': 'berhasil',\n",
       " 'brjln': 'berjalan',\n",
       " 'brkfst': 'breakfast',\n",
       " 'brmslh': 'bermasalah',\n",
       " 'brngkt': 'berangkat',\n",
       " 'brp': 'berapa',\n",
       " 'brpa': 'berapa',\n",
       " 'brrti': 'berarti',\n",
       " 'brs': 'beres',\n",
       " 'brshbt': 'bersahabat',\n",
       " 'brsm': 'bersama',\n",
       " 'brthn': 'bertahan',\n",
       " 'brtmn': 'berteman',\n",
       " 'bru': 'baru',\n",
       " 'bs': 'bisa',\n",
       " 'bsa': 'bisa',\n",
       " 'bsk': 'besok',\n",
       " 'bsok': 'besok',\n",
       " 'bsoq': 'besok',\n",
       " 'bsr': 'besar',\n",
       " 'btg': 'batang',\n",
       " 'bth': 'butuh',\n",
       " 'btl': 'betul',\n",
       " 'btul': 'betul',\n",
       " 'buad': 'buat',\n",
       " 'buatin': 'buatkan',\n",
       " 'bucin': 'budak cinta',\n",
       " 'bulcit': 'omong kosong',\n",
       " 'bw': 'bawa',\n",
       " 'bwa': 'bawa',\n",
       " 'bwh': 'bawah',\n",
       " 'bwt': 'buat',\n",
       " 'byk': 'banyak',\n",
       " 'bynk': 'banyak',\n",
       " 'byr': 'bayar',\n",
       " 'cabal': 'sabar',\n",
       " 'cabut': 'pergi',\n",
       " 'caiank': 'sayang',\n",
       " 'cakep': 'cakap',\n",
       " 'cape': 'capai',\n",
       " 'capek': 'capai',\n",
       " 'catet': 'catat',\n",
       " 'cb': 'coba',\n",
       " 'cekola': 'sekolah',\n",
       " 'cekolah': 'sekolah',\n",
       " 'celalaw': 'selalu',\n",
       " 'celalu': 'selalu',\n",
       " 'cemungudh': 'semangat',\n",
       " 'cemungut': 'semangat',\n",
       " 'cemunguth': 'semangat',\n",
       " 'cepet': 'cepat',\n",
       " 'cewe': 'cewek',\n",
       " 'cibuq': 'sibuk',\n",
       " 'cini': 'sini',\n",
       " 'ciyus': 'serius',\n",
       " 'ckp': 'cukup',\n",
       " 'ckrg': 'sekarang',\n",
       " 'ckup': 'cukup',\n",
       " 'cll': 'selalu',\n",
       " 'cllu': 'selalu',\n",
       " 'cllw': 'selalu',\n",
       " 'cm': 'cuma',\n",
       " 'cma': 'cuma',\n",
       " 'cman': 'hanya',\n",
       " 'cmn': 'hanya',\n",
       " 'cmpk': 'cempaka',\n",
       " 'cobaa': 'coba',\n",
       " 'coeg': 'jancuk',\n",
       " 'cowo': 'cowok',\n",
       " 'cpat': 'cepat',\n",
       " 'cpe': 'capek',\n",
       " 'cpee': 'capek',\n",
       " 'cpet': 'cepat',\n",
       " 'cpt': 'cepat',\n",
       " 'cptn': 'cepatan',\n",
       " 'crt': 'cerita',\n",
       " 'cth': 'contoh',\n",
       " 'cug': 'jancuk',\n",
       " 'cuk': 'jancuk',\n",
       " 'cuman': 'hanya',\n",
       " 'cungguh': 'sungguh',\n",
       " 'cw': 'cewek',\n",
       " 'cwe': 'cewek',\n",
       " 'cwo': 'cowok',\n",
       " 'cyang': 'sayang',\n",
       " 'dah': 'sudah',\n",
       " 'dalem': 'dalam',\n",
       " 'dapa': 'ada apa',\n",
       " 'dapah': 'ada apa',\n",
       " 'dapet': 'dapat',\n",
       " 'dapetin': 'mendapatkan',\n",
       " 'dateng': 'datang',\n",
       " 'dberkahi': 'diberkahi',\n",
       " 'dblg': 'dibilang',\n",
       " 'dblkng': 'dibelakang',\n",
       " 'dbls': 'dibalas',\n",
       " 'dbwt': 'dibuat',\n",
       " 'dbyr': 'dibayar',\n",
       " 'de': 'deh',\n",
       " 'demen': 'suka',\n",
       " 'denger': 'dengar',\n",
       " 'deres': 'deras',\n",
       " 'dftr': 'daftar',\n",
       " 'dg': 'dengan',\n",
       " 'dgn': 'dengan',\n",
       " 'dgr': 'dengar',\n",
       " 'dgrn': 'dengarin',\n",
       " 'dh': 'sudah',\n",
       " 'didenger': 'didengar',\n",
       " 'didengerin': 'didengarkan',\n",
       " 'diem': 'diam',\n",
       " 'dijadiin': 'dijadikan',\n",
       " 'dikit': 'sedikit',\n",
       " 'dimance': 'dimana',\n",
       " 'dimandose': 'dimana',\n",
       " 'dimans': 'dimana',\n",
       " 'dipake': 'dipakai',\n",
       " 'dipendem': 'dipendam',\n",
       " 'dirmh': 'di rumah',\n",
       " 'ditemenin': 'ditemani',\n",
       " 'djkt': 'di jakarta',\n",
       " 'djl': 'di jalan',\n",
       " 'djln': 'di jalan',\n",
       " 'dkat': 'dekat',\n",
       " 'dket': 'dekat',\n",
       " 'dkls': 'di kelas',\n",
       " 'dkmps': 'di kampus',\n",
       " 'dkmr': 'di kamar',\n",
       " 'dkntr': 'di kantor',\n",
       " 'dksh': 'dikasih',\n",
       " 'dkt': 'dekat',\n",
       " 'dl': 'dulu',\n",
       " 'dll': 'dan lain',\n",
       " 'dlm': 'dalam',\n",
       " 'dlrng': 'dilarang',\n",
       " 'dlu': 'dulu',\n",
       " 'dluan': 'duluan',\n",
       " 'dmana': 'dimana',\n",
       " 'dmkn': 'dimakan',\n",
       " 'dmn': 'dimana',\n",
       " 'dmna': 'dimana',\n",
       " 'dmnmn': 'dimana-mana',\n",
       " 'dmny': 'dimananya',\n",
       " 'dng': 'dengan',\n",
       " 'dngar': 'dengar',\n",
       " 'dnger': 'dengar',\n",
       " 'dngerin': 'dengar',\n",
       " 'dngn': 'dengan',\n",
       " 'dngr': 'dengar',\n",
       " 'doang': 'saja',\n",
       " 'doank': 'saja',\n",
       " 'donlot': 'download',\n",
       " 'doyan': 'suka',\n",
       " 'dpan': 'depan',\n",
       " 'dpet': 'dapat',\n",
       " 'dpk': 'depok',\n",
       " 'dpkrkn': 'dipikirkan',\n",
       " 'dpn': 'depan',\n",
       " 'dpnrmh': 'depan rumah',\n",
       " 'dpt': 'dapat',\n",
       " 'dr': 'dari',\n",
       " 'drg': 'dokter gigi',\n",
       " 'drh': 'darah',\n",
       " 'dri': 'dari',\n",
       " 'drmh': 'di rumah',\n",
       " 'drmn': 'darimana',\n",
       " 'drpd': 'daripada',\n",
       " 'drtd': 'dari tadi',\n",
       " 'drumah': 'di rumah',\n",
       " 'dsb': 'dan sebagainya',\n",
       " 'dsblh': 'di sebelah',\n",
       " 'dsini': 'disini',\n",
       " 'dsklh': 'di sekolah',\n",
       " 'dsni': 'di sini',\n",
       " 'dst': 'dan seterusnya',\n",
       " 'dtg': 'datang',\n",
       " 'dtgny': 'datangnya',\n",
       " 'dtmbh': 'ditambah',\n",
       " 'dtmpt': 'di tempat',\n",
       " 'dtng': 'datang',\n",
       " 'duluw': 'dulu',\n",
       " 'dy': 'dia',\n",
       " 'ea': 'ya',\n",
       " 'eeq': 'feses',\n",
       " 'elo': 'kamu',\n",
       " 'emang': 'memang',\n",
       " 'emangnya': 'memangnya',\n",
       " 'emank': 'memang',\n",
       " 'emg': 'memang',\n",
       " 'emng': 'memang',\n",
       " 'engga': 'tidak',\n",
       " 'enggak': 'tidak',\n",
       " 'enk': 'enak',\n",
       " 'entar': 'nanti',\n",
       " 'ente': 'anda',\n",
       " 'eps': 'episode',\n",
       " 'eteb': 'bosan',\n",
       " 'eug': 'saya',\n",
       " 'faham': 'paham',\n",
       " 'fb': 'facebook',\n",
       " 'fav': 'favorit',\n",
       " 'fave': 'favorit',\n",
       " 'g': 'tidak',\n",
       " 'ga': 'tidak',\n",
       " 'gaada': 'tidak ada',\n",
       " 'gabisa': 'tidak bisa',\n",
       " 'gaboleh': 'tidak boleh',\n",
       " 'gabut': 'menganggur',\n",
       " 'gada': 'tidak ada',\n",
       " 'gaenak': 'tidak enak',\n",
       " 'gajadi': 'tidak jadi',\n",
       " 'gajelas': 'tidak jelas',\n",
       " 'gak': 'tidak',\n",
       " 'gakuat': 'tidak kuat',\n",
       " 'gakz': 'tidak',\n",
       " 'galo': 'galau',\n",
       " 'gamasuk': 'tidak masuk',\n",
       " 'gamau': 'tidak mau',\n",
       " 'gapake': 'tidak pakai',\n",
       " 'gapapa': 'tidak apa-apa',\n",
       " 'gapernah': 'tidak pernah',\n",
       " 'gapunya': 'tidak punya',\n",
       " 'garem': 'garam',\n",
       " 'gasuka': 'tidak suka',\n",
       " 'gatau': 'tidak tahu',\n",
       " 'gataw': 'tidak tahu',\n",
       " 'gatel': 'gatal',\n",
       " 'gausah': 'tidak usah',\n",
       " 'gawe': 'kerja',\n",
       " 'gblk': 'goblok',\n",
       " 'gbr': 'gambar',\n",
       " 'gdg': 'gudang',\n",
       " 'gembel': 'jelek',\n",
       " 'gengges': 'ganggu',\n",
       " 'ghiy': 'lagi',\n",
       " 'gi': 'lagi',\n",
       " 'gilak': 'gila',\n",
       " 'gile': 'gila',\n",
       " 'gitu': 'begitu',\n",
       " 'gituan': 'begitu',\n",
       " 'gituh': 'begitu',\n",
       " 'gituin': 'itu',\n",
       " 'gk': 'tidak',\n",
       " 'gmana': 'bagaimana',\n",
       " 'gmbr': 'gambar',\n",
       " 'gmn': 'bagaimana',\n",
       " 'gmna': 'bagaimana',\n",
       " 'gmpg': 'gampang',\n",
       " 'gmpng': 'gampang',\n",
       " 'gni': 'begini',\n",
       " 'gnti': 'ganti',\n",
       " 'gpny': 'tidak punya',\n",
       " 'gpp': 'tidak apa apa',\n",
       " 'gprnh': 'tidak pernah',\n",
       " 'gr2': 'gara-gara',\n",
       " 'gratisan': 'gratis',\n",
       " 'gt': 'begitu',\n",
       " 'gtu': 'begitu',\n",
       " 'gtw': 'tidak tahu',\n",
       " 'gua': 'saya',\n",
       " 'gue': 'saya',\n",
       " 'gw': 'saya',\n",
       " 'gws': 'get well soon',\n",
       " 'gx': 'tidak',\n",
       " 'hadeh': 'aduh',\n",
       " 'hapal': 'hafal',\n",
       " 'haqq': 'hakiki',\n",
       " 'hargain': 'hargai',\n",
       " 'harini': 'hari ini',\n",
       " 'hbd': 'happy birthday',\n",
       " 'hbis': 'habis',\n",
       " 'hbng': 'hubungi',\n",
       " 'hbs': 'habis',\n",
       " 'hbskn': 'habiskan',\n",
       " 'helo': 'halo',\n",
       " 'heters': 'pembenci',\n",
       " 'hlg': 'hilang',\n",
       " 'hlm': 'halaman',\n",
       " 'hlmn': 'halaman',\n",
       " 'hny': 'hanya',\n",
       " 'hnya': 'hanya',\n",
       " 'hqq': 'hakiki',\n",
       " 'hr': 'hari',\n",
       " 'hrg': 'harga',\n",
       " 'hrgny': 'harganya',\n",
       " 'hri': 'hari',\n",
       " 'hrs': 'harus',\n",
       " 'hrsny': 'harusnya',\n",
       " 'hrus': 'harus',\n",
       " 'hti': 'hati',\n",
       " 'hums': 'rumah',\n",
       " 'humz': 'rumah',\n",
       " 'huum': 'iya',\n",
       " 'idiiot': 'idiot',\n",
       " 'idup': 'hidup',\n",
       " 'ily': 'saya cinta kamu',\n",
       " 'inget': 'ingat',\n",
       " 'ingetin': 'ingatkan',\n",
       " 'ingt': 'ingat',\n",
       " 'istrht': 'istirahat',\n",
       " 'item': 'hitam',\n",
       " 'itumah': 'itu',\n",
       " 'ituu': 'itu',\n",
       " 'iy': 'iya',\n",
       " 'iyach': 'iya',\n",
       " 'iyain': 'mengiyakan',\n",
       " 'iyap': 'iya',\n",
       " 'iyapz': 'iya',\n",
       " 'iyoo': 'iya',\n",
       " 'iyup': 'iya',\n",
       " 'iyupz': 'iya',\n",
       " 'jadiin': 'jadi',\n",
       " 'jadull': 'jadul',\n",
       " 'jamber': 'jam berapa',\n",
       " 'jancoeg': 'jancuk',\n",
       " 'jatoh': 'jatuh',\n",
       " 'jawabanya': 'jawabannya',\n",
       " 'jd': 'jadi',\n",
       " 'jdi': 'jadi',\n",
       " 'jdny': 'jadinya',\n",
       " 'jdnya': 'jadinya',\n",
       " 'jdwl': 'jadwal',\n",
       " 'jem': 'jam',\n",
       " 'jg': 'juga',\n",
       " 'jga': 'juga',\n",
       " 'jgan': 'jangan',\n",
       " 'jglh': 'jagalah',\n",
       " 'jgn': 'jangan',\n",
       " 'jgnjgn': 'jangan-jangan',\n",
       " 'jing': 'anjing',\n",
       " 'jink': 'anjing',\n",
       " 'jk': 'jika',\n",
       " 'jkrt': 'jakarta',\n",
       " 'jkt': 'jakarta',\n",
       " 'jl': 'jalan',\n",
       " 'jln': 'jalan',\n",
       " 'jm': 'jam',\n",
       " 'jmbtn': 'jembatan',\n",
       " 'jml': 'jumlah',\n",
       " 'jmlh': 'jumlah',\n",
       " 'jmpt': 'jemput',\n",
       " 'jmt': 'jumat',\n",
       " 'jng': 'jangan',\n",
       " 'jngan': 'jangan',\n",
       " 'jngn': 'jangan',\n",
       " 'jpn': 'jepang',\n",
       " 'jrg': 'jarang',\n",
       " 'jrng': 'jarang',\n",
       " 'jwb': 'jawab',\n",
       " 'jwbn': 'jawaban',\n",
       " 'jwbny': 'jawabannya',\n",
       " 'kacian': 'kasihan',\n",
       " 'kagak': 'tidak',\n",
       " 'kaka': 'kakak',\n",
       " 'kalee': 'kali',\n",
       " 'kaleyan': 'kalian',\n",
       " 'kalo': 'kalau',\n",
       " 'kalu': 'kalau',\n",
       " 'kamsud': 'maksud',\n",
       " 'kaos/mug/jaket': '',\n",
       " 'karna': 'karena',\n",
       " 'karoke': 'karaoke',\n",
       " 'kasian': 'kasihan',\n",
       " 'kau': 'kamu',\n",
       " 'kayak': 'mirip',\n",
       " 'kayanya': 'kayaknya',\n",
       " 'kbnykn': 'kebanyakan',\n",
       " 'kbr': 'kabar',\n",
       " 'kbtln': 'kebetulan',\n",
       " 'kbykn': 'kebanyakan',\n",
       " 'kdg': 'kadang',\n",
       " 'kdng': 'kadang',\n",
       " 'kdpn': 'ke depan',\n",
       " 'kebawa': 'terbawa',\n",
       " 'kecakepan': 'kecakapan',\n",
       " 'keknya': 'sepertinya',\n",
       " 'kelaperan': 'kelaparan',\n",
       " 'kelar': 'selesai',\n",
       " 'keles': 'kali',\n",
       " 'keliatan': 'kelihatan',\n",
       " 'kemaren': 'kemarin',\n",
       " 'kenapah': 'kenapa',\n",
       " 'kenape': 'kenapa',\n",
       " 'kenaps': 'kenapa',\n",
       " 'kenapz': 'kenapa',\n",
       " 'kenceng': 'kencang',\n",
       " 'kepengen': 'ingin',\n",
       " 'kepngn': 'ingin',\n",
       " 'kepo': 'ingin tahu',\n",
       " 'kerikil': 'kerikil',\n",
       " 'kesampean': 'kesampaian',\n",
       " 'kesel': 'kesal',\n",
       " 'kesian': 'kasihan',\n",
       " 'ketawa': 'tertawa',\n",
       " 'keujanan': 'kehujanan',\n",
       " 'keyen': 'keren',\n",
       " 'kga': 'tidak',\n",
       " 'kgak': 'tidak',\n",
       " 'kgk': 'tidak',\n",
       " 'khabar': 'kabar',\n",
       " 'khan': 'kan',\n",
       " 'khanz': 'kan',\n",
       " 'khsny': 'khususnya',\n",
       " 'khwtr': 'khawatir',\n",
       " 'kirimin': 'kirimkan',\n",
       " 'kite': 'kita',\n",
       " 'kk': 'kakak',\n",
       " 'kl': 'kalau',\n",
       " 'klau': 'kalau',\n",
       " 'klh': 'kalah',\n",
       " 'kli': 'kali',\n",
       " 'klmpk': 'kelompok',\n",
       " 'klo': 'kalau',\n",
       " 'klp': 'kelompok',\n",
       " 'kls': 'kelas',\n",
       " 'klu': 'kalau',\n",
       " 'kluar': 'keluar',\n",
       " 'klw': 'kalau',\n",
       " 'km': 'kamu',\n",
       " 'kmaren': 'kemarin',\n",
       " 'kmi': 'kami',\n",
       " 'kmn': 'kemana',\n",
       " 'kmna': 'kemana',\n",
       " 'kmpret': 'kampret',\n",
       " 'kmps': 'kamus',\n",
       " 'kmr': 'kamar',\n",
       " 'kmren': 'kemarin',\n",
       " 'kmrin': 'kemarin',\n",
       " 'kmrn': 'kemarin',\n",
       " 'kmu': 'kamu',\n",
       " 'kn': 'kan',\n",
       " 'kna': 'kena',\n",
       " 'knapa': 'kenapa',\n",
       " 'kngen': 'kangen',\n",
       " 'knl': 'kenal',\n",
       " 'knp': 'kenapa',\n",
       " 'knpa': 'kenapa',\n",
       " 'kntr': 'kantor',\n",
       " 'knyng': 'kenyang',\n",
       " 'konsen': 'konsentrasi',\n",
       " 'koq': 'kok',\n",
       " 'kosan': 'kost',\n",
       " 'kowe': 'kamu',\n",
       " 'kpala': 'kepala',\n",
       " 'kpan': 'kapan',\n",
       " 'kpd': 'kepada',\n",
       " 'kpgn': 'ingin',\n",
       " 'kpn': 'kapan',\n",
       " 'kpngn': 'ingin',\n",
       " 'krg': 'kurang',\n",
       " 'krikil': 'kerikil',\n",
       " 'krja': 'kerja',\n",
       " 'krmh': 'ke rumah',\n",
       " 'krn': 'karena',\n",
       " 'krna': 'karena',\n",
       " 'krng': 'kurang',\n",
       " 'krupuk': 'kerupuk',\n",
       " 'ksh': 'kasih',\n",
       " 'ksian': 'kasihan',\n",
       " 'ksih': 'kasih',\n",
       " 'ksmptn': 'kesempatan',\n",
       " 'ksn': 'kesana',\n",
       " 'kt': 'kita',\n",
       " 'kta': 'kita',\n",
       " 'ktdrn': 'ketiduran',\n",
       " 'ktemu': 'ketemu',\n",
       " 'ktmpt': 'ke tempat',\n",
       " 'ktmu': 'ketemu',\n",
       " 'ktny': 'katanya',\n",
       " 'ktnya': 'katanya',\n",
       " 'ktr': 'kantor',\n",
       " 'kuq': 'kok',\n",
       " 'kuy': 'ayo',\n",
       " 'kw': 'kamu',\n",
       " 'kyak': 'seperti',\n",
       " 'kyaknya': 'sepertinya',\n",
       " 'kyanya': 'sepertinya',\n",
       " 'kyk': 'kayak',\n",
       " 'kykny': 'sepertinya',\n",
       " 'kyknya': 'sepertinya',\n",
       " 'kyny': 'sepertinya',\n",
       " 'kzl': 'kesal',\n",
       " 'laen': 'lain',\n",
       " 'laff': 'cinta',\n",
       " 'lagian': 'lagi',\n",
       " 'lam': 'salam',\n",
       " 'laper': 'lapar',\n",
       " 'lb': 'lembar',\n",
       " 'lbh': 'lebih',\n",
       " 'lbih': 'lebih',\n",
       " 'leh': 'boleh',\n",
       " 'lelaahh': 'lelah',\n",
       " 'lemes': 'lemas',\n",
       " 'lg': 'lagi',\n",
       " 'lgi': 'lagi',\n",
       " 'lgkp': 'lengkap',\n",
       " 'lgs': 'langsung',\n",
       " 'lgsg': 'langsung',\n",
       " 'lgsng': 'langsung',\n",
       " 'lgsung': 'langsung',\n",
       " 'liatin': 'lihat',\n",
       " 'lm': 'lama',\n",
       " 'lmyn': 'lumayan',\n",
       " 'lngkp': 'lengkap',\n",
       " 'lngsg': 'langsung',\n",
       " 'lngsng': 'langsung',\n",
       " 'lngsung': 'langsung',\n",
       " 'lnjt': 'lanjut',\n",
       " 'lnsg': 'langsung',\n",
       " 'lnsng': 'langsung',\n",
       " 'lo': 'kamu',\n",
       " 'loe': 'kamu',\n",
       " 'lom': 'belum',\n",
       " 'lov': 'cinta',\n",
       " 'love': 'cinta',\n",
       " 'low': 'kalau',\n",
       " 'lp': 'lupa',\n",
       " 'lpngn': 'lapangan',\n",
       " 'lpr': 'lapar',\n",
       " 'lsg': 'langsung',\n",
       " 'lu': 'kamu',\n",
       " 'luchu': 'lucu',\n",
       " 'lum': 'belum',\n",
       " 'lun': 'belum',\n",
       " 'luthu': 'lucu',\n",
       " 'luv': 'cinta',\n",
       " 'lvl': 'level',\n",
       " 'lw': 'kamu',\n",
       " 'lwt': 'lewat',\n",
       " 'maaci': 'terima kasih',\n",
       " 'maacih': 'terima kasih',\n",
       " 'maap': 'maaf',\n",
       " 'maen': 'main',\n",
       " 'mager': 'malas bergerak',\n",
       " 'makaci': 'terima kasih',\n",
       " 'makana': 'karena itu',\n",
       " 'makasi': 'terima kasih',\n",
       " 'makasihhh': 'terima kasih',\n",
       " 'make': 'pakai',\n",
       " 'makn': 'makan',\n",
       " 'malem': 'malam',\n",
       " 'malem2': 'malam-malam',\n",
       " 'malming': 'malam minggu',\n",
       " 'mamah': 'mama',\n",
       " 'mamam': 'makan',\n",
       " 'mampet': 'mampat',\n",
       " 'mane': 'mana',\n",
       " 'maneh': 'mana',\n",
       " 'manggil': 'panggil',\n",
       " 'mano': 'mana',\n",
       " 'mantep': 'mantap',\n",
       " 'masakin': 'masakan',\n",
       " 'mateng': 'matang',\n",
       " 'maw': 'mau',\n",
       " 'mcm': 'macam',\n",
       " 'mct': 'macet',\n",
       " 'mdg': 'lebih baik',\n",
       " 'mdgn': 'baikan',\n",
       " 'mdh': 'mudah',\n",
       " 'mdpt': 'mendapat',\n",
       " 'melulu': 'selalu',\n",
       " 'mendingan': 'lebih baik',\n",
       " 'menyempurnakan': '',\n",
       " 'merhatiin': 'memperhatikan',\n",
       " 'mesen': 'pesan',\n",
       " 'mgkn': 'mungkin',\n",
       " 'mhs': 'mahasiswa',\n",
       " 'mhsw': 'mahasiswa',\n",
       " 'miapa': 'demi apa',\n",
       " 'miapah': 'demi apa',\n",
       " 'mikirin': 'memikirkan',\n",
       " 'milih': 'pilih',\n",
       " 'minjem': 'pinjam',\n",
       " \"misal'a\": 'misalnya',\n",
       " 'mk': 'maka',\n",
       " 'mka': 'maka',\n",
       " 'mkan': 'makan',\n",
       " 'mkanan': 'makanan',\n",
       " 'mkanya': 'makanya',\n",
       " 'mkn': 'makan',\n",
       " 'mknan': 'makanan',\n",
       " 'mkny': 'maka itu',\n",
       " 'mksd': 'maksud',\n",
       " 'mksdny': 'maksudnya',\n",
       " 'mksdnya': 'maksudnya',\n",
       " 'mksdq': 'maksudku',\n",
       " 'mksh': 'terima kasih',\n",
       " 'mksih': 'terima kasih',\n",
       " 'mlah': 'malah',\n",
       " 'mlm': 'malam',\n",
       " 'mls': 'malas',\n",
       " 'mmg': 'memang',\n",
       " 'mn': 'mana',\n",
       " 'mna': 'mana',\n",
       " 'mndg': 'lebih baik',\n",
       " 'mndgn': 'lebih baik',\n",
       " 'mndgr': 'mendengar',\n",
       " 'mndi': 'mandi',\n",
       " 'mnding': 'lebih baik',\n",
       " 'mndptkn': 'mendapatkan',\n",
       " 'mng': 'menang',\n",
       " 'mnrt': 'menurut',\n",
       " 'mnsempurnakan': '',\n",
       " 'mnt': 'minta',\n",
       " 'mnta': 'minta',\n",
       " 'mntp': 'mantap',\n",
       " 'mnum': 'minum',\n",
       " 'mnyakitiku': 'menyakitiku',\n",
       " 'mnyngkn': 'menyenangkan',\n",
       " 'mo': 'mau',\n",
       " 'moga': 'semoga',\n",
       " 'mosok': 'masa',\n",
       " 'mreka': 'mereka',\n",
       " 'mrh': 'marah',\n",
       " 'mrk': 'mereka',\n",
       " 'ms': 'mas',\n",
       " 'msg': 'masing',\n",
       " 'msh': 'masih',\n",
       " 'msih': 'masih',\n",
       " 'msk': 'masuk',\n",
       " 'mski': 'meski',\n",
       " 'mskipun': 'meskipun',\n",
       " 'mskn': 'masakan',\n",
       " 'msl': 'misal',\n",
       " 'mslh': 'masalah',\n",
       " 'msti': 'harus',\n",
       " 'muke': 'muka',\n",
       " 'mulu': 'terus',\n",
       " 'musti': 'harus',\n",
       " 'muup': 'maaf',\n",
       " \"mu'uv\": 'maaf',\n",
       " 'mw': 'mau',\n",
       " 'mz': 'mas',\n",
       " 'nabung': 'tabung',\n",
       " 'naek': 'naik',\n",
       " 'nahan': 'tahan',\n",
       " 'nak': 'anak',\n",
       " 'nambah': 'tambah',\n",
       " 'nanya': 'tanya',\n",
       " 'napa': 'kenapa',\n",
       " 'napas': 'nafas',\n",
       " 'nape': 'kenapa',\n",
       " 'naq': 'anak',\n",
       " 'nasgor': 'nasi goreng',\n",
       " 'nax': 'anak',\n",
       " 'nda': 'tidak',\n",
       " 'ndak': 'tidak',\n",
       " 'ndax': 'tidak',\n",
       " 'ndk': 'tidak',\n",
       " 'negri': 'negeri',\n",
       " 'nelen': 'telan',\n",
       " 'nemenin': 'menemani',\n",
       " 'nemu': 'temu',\n",
       " 'nengok': 'tengok',\n",
       " 'ngabungin': 'menggabungkan',\n",
       " 'ngadain': 'mengadakan',\n",
       " 'ngajak': 'mengajak',\n",
       " 'ngajar': 'ajar',\n",
       " 'ngak': 'tidak',\n",
       " 'ngakak': 'terbahak-bahak',\n",
       " 'ngambek': 'marah',\n",
       " 'ngambil': 'ambil',\n",
       " 'nganter': 'antar',\n",
       " 'nganterin': 'antar',\n",
       " 'ngarep': 'mengharap',\n",
       " 'ngarepinnya': 'mengharapkannya',\n",
       " 'ngasi': 'kasih',\n",
       " 'ngasih': 'kasih',\n",
       " 'ngegosip': 'gosip',\n",
       " 'ngehadepin': 'menghadapi',\n",
       " 'ngeliatin': 'melihat',\n",
       " 'ngeluh': 'keluh',\n",
       " 'ngerasa': 'merasa',\n",
       " 'ngerasain': 'merasakan',\n",
       " 'ngerjain': 'mengerjakan',\n",
       " 'ngerokok': 'merokok',\n",
       " 'ngetik': 'ketik',\n",
       " 'ngga': 'tidak',\n",
       " 'nggak': 'tidak',\n",
       " 'nggax': 'tidak',\n",
       " 'nggesek': 'menggesek',\n",
       " 'nggk': 'tidak',\n",
       " 'nggosok': 'menggosok',\n",
       " 'ngibul': 'berbohong',\n",
       " 'ngidam': 'idam',\n",
       " 'ngikutin': 'ikuti',\n",
       " 'ngilangin': 'menghilangkan',\n",
       " 'nginep': 'menginap',\n",
       " 'ngingetin': 'mengingatkan',\n",
       " 'ngjk': 'mengajak',\n",
       " 'ngk': 'tidak',\n",
       " 'ngmbl': 'mengambil',\n",
       " 'ngmg': 'omong',\n",
       " 'ngmng': 'berbicara',\n",
       " 'ngmpl': 'berkumpul',\n",
       " 'ngmps': 'ke kampus',\n",
       " 'ngntk': 'mengantuk',\n",
       " 'ngntr': 'ke kantor',\n",
       " 'ngobatin': 'obati',\n",
       " 'ngobrol': 'bicara',\n",
       " 'ngomong': 'bicara',\n",
       " 'ngomongin': 'membicarakan',\n",
       " 'ngrasain': 'merasakan',\n",
       " 'ngundurin': 'mengundurkan',\n",
       " 'ngunyah': 'kunyah',\n",
       " 'ngurus': 'urus',\n",
       " 'ni': 'ini',\n",
       " 'nich': 'ini',\n",
       " 'ninggalin': 'tinggalkan',\n",
       " 'nmbh': 'tambah',\n",
       " 'nmny': 'namanya',\n",
       " 'nmpk': 'nampak',\n",
       " 'nmr': 'nomor',\n",
       " 'nnti': 'nanti',\n",
       " 'nntn': 'menonton',\n",
       " 'nnton': 'nonton',\n",
       " 'nolak': 'tolak',\n",
       " 'nraktir': 'traktir',\n",
       " 'ntah': 'entah',\n",
       " 'ntap': 'mantap',\n",
       " 'ntar': 'nanti',\n",
       " 'nti': 'nanti',\n",
       " 'ntn': 'menonton',\n",
       " 'nton': 'nonton',\n",
       " 'ntr': 'nanti',\n",
       " 'ntu': 'itu',\n",
       " 'nungguin': 'tunggu',\n",
       " 'nyakiti': 'menyakiti',\n",
       " 'nyakitin': 'menyakiti',\n",
       " 'nyalain': 'nyalakan',\n",
       " 'nyampe': 'sampai',\n",
       " 'nyangka': 'sangka',\n",
       " 'nyantai': 'santai',\n",
       " 'nyari': 'cari',\n",
       " 'nyebelin': 'menyebalkan',\n",
       " 'nyeremin': 'menyeramkan',\n",
       " 'nyesek': 'sesak',\n",
       " 'nyesel': 'menyesal',\n",
       " 'nyetel': 'setel',\n",
       " 'nyiksa': 'menyiksa',\n",
       " 'nyoba': 'coba',\n",
       " 'nyobain': 'coba',\n",
       " 'nyuci': 'cuci',\n",
       " 'nyukur': 'cukur',\n",
       " 'nyuruh': 'suruh',\n",
       " 'nyusul': 'susul',\n",
       " 'oc': 'oke',\n",
       " 'oce': 'oke',\n",
       " 'ohh': 'oh',\n",
       " 'ok': 'oke',\n",
       " 'okedech': 'oke',\n",
       " 'okedeh': 'oke',\n",
       " 'okeh': 'oke',\n",
       " 'okz': 'oke',\n",
       " 'ol': 'online',\n",
       " 'org': 'orang',\n",
       " 'org2': 'orang-orang',\n",
       " 'orng': 'orang',\n",
       " 'ortu': 'orangtua',\n",
       " 'ouch': 'oh',\n",
       " 'ouh': 'oh',\n",
       " 'owh': 'oh',\n",
       " 'pait': 'pahit',\n",
       " 'pake': 'pakai',\n",
       " 'pakek': 'pakai',\n",
       " 'pantesan': 'pantas',\n",
       " 'pasutri': 'pasangan suami istri',\n",
       " 'paz': 'pas',\n",
       " 'pcr': 'pacar',\n",
       " 'pcrn': 'pacaran',\n",
       " 'pcrny': 'pacarnya',\n",
       " 'pd': 'pada',\n",
       " 'pdahal': 'padahal',\n",
       " 'pdhal': 'padahal',\n",
       " 'pdhl': 'padahal',\n",
       " 'pedes': 'pedas',\n",
       " 'pegi': 'pergi',\n",
       " 'pengen': 'ingin',\n",
       " 'penghianat': 'pengkhianat',\n",
       " 'pengin': 'ingin',\n",
       " 'pesen': 'pesan',\n",
       " 'pg': 'pergi',\n",
       " 'pgen': 'ingin',\n",
       " 'pgn': 'ingin',\n",
       " 'pilem': 'film',\n",
       " 'pingin': 'ingin',\n",
       " 'pinjem': 'pinjam',\n",
       " 'pinter': 'pintar',\n",
       " 'pkai': 'pakai',\n",
       " 'pke': 'pakai',\n",
       " 'plg': 'pulang',\n",
       " 'plis': 'tolong',\n",
       " 'pljrn': 'pelajaran',\n",
       " 'plng': 'pulang',\n",
       " 'pmpuan': 'perempuan',\n",
       " 'pndh': 'pindah',\n",
       " 'pngen': 'ingin',\n",
       " 'pngn': 'ingin',\n",
       " 'pnjng': 'panjang',\n",
       " 'pnting': 'penting',\n",
       " 'pntng': 'penting',\n",
       " 'pny': 'punya',\n",
       " 'pnya': 'punya',\n",
       " 'pokonya': 'pokoknya',\n",
       " 'praktek': 'praktik',\n",
       " 'prasaan': 'perasaan',\n",
       " 'prgi': 'pergi',\n",
       " 'prmhn': 'perumahan',\n",
       " 'prmptn': 'perempatan',\n",
       " 'prnah': 'pernah',\n",
       " 'prnh': 'pernah',\n",
       " 'prthnkn': 'pertahankan',\n",
       " 'psg': 'pasang',\n",
       " 'psng': 'pasang',\n",
       " 'psr': 'pasar',\n",
       " 'psti': 'pasti',\n",
       " 'ptg': 'penting',\n",
       " 'punye': 'punya',\n",
       " 'puter': 'putar',\n",
       " 'puterin': 'putar',\n",
       " 'pzt': 'pasti',\n",
       " 'q': 'saya',\n",
       " 'qaqa': 'kakak',\n",
       " 'qq': 'kakak',\n",
       " 'qt': 'kita',\n",
       " 'qta': 'kita',\n",
       " 'rada': 'agak',\n",
       " 'rame': 'ramai',\n",
       " 'rame2': 'ramai-ramai',\n",
       " 'rasane': 'rasanya',\n",
       " 'rb': 'ribu',\n",
       " 'rmbt': 'rambut',\n",
       " 'rmh': 'rumah',\n",
       " 'rmhq': 'rumahku',\n",
       " 'rsk': 'rusak',\n",
       " 'sabeb': 'bebas',\n",
       " 'sabi': 'bisa',\n",
       " 'saje': 'saja',\n",
       " 'salfok': 'salah fokus',\n",
       " 'saltum': 'salah kostum',\n",
       " 'sambel': 'sambal',\n",
       " 'samo': 'sama',\n",
       " 'sampe': 'sampai',\n",
       " 'sans': 'santai',\n",
       " 'sape': 'siapa',\n",
       " 'sateny': 'satenya',\n",
       " ...}"
      ]
     },
     "execution_count": 35,
     "metadata": {},
     "output_type": "execute_result"
    }
   ],
   "source": [
    "kamus = create_kamus()\n",
    "kamus"
   ]
  },
  {
   "cell_type": "markdown",
   "id": "422c044f-a5e3-4553-ae4c-a4848d1aab34",
   "metadata": {
    "tags": []
   },
   "source": [
    "## Case Folding"
   ]
  },
  {
   "cell_type": "markdown",
   "id": "6e9b35f2-6609-41f7-bfa3-dff461d7867c",
   "metadata": {},
   "source": [
    "### Lowercase"
   ]
  },
  {
   "cell_type": "code",
   "execution_count": null,
   "id": "4d368300-e1c9-442f-ac37-da7d820a5d90",
   "metadata": {
    "tags": []
   },
   "outputs": [],
   "source": [
    "def tweet_lowercase(tweet):\n",
    "    tweet = tweet.lower()\n",
    "    return tweet"
   ]
  },
  {
   "cell_type": "code",
   "execution_count": null,
   "id": "619081d0-f3ba-4a9c-abc4-96736c352de5",
   "metadata": {
    "tags": []
   },
   "outputs": [
    {
     "name": "stdout",
     "output_type": "stream",
     "text": [
      "Sebelum Lower Case:\n",
      "Ini ADAlah Kalimat Testing yAaAaA!\n",
      "\n",
      "Sesudah Lower Case:\n",
      "ini adalah kalimat testing yaaaaa!\n"
     ]
    }
   ],
   "source": [
    "print(\"Sebelum Lower Case:\\nIni ADAlah Kalimat Testing yAaAaA!\")\n",
    "print()\n",
    "print(f\"Sesudah Lower Case:\\n{tweet_lowercase('Ini ADAlah Kalimat Testing yAaAaA!')}\")"
   ]
  },
  {
   "cell_type": "markdown",
   "id": "028bf718-accc-4ff0-9378-00e4d3aa7c74",
   "metadata": {},
   "source": [
    "#### Sebelum"
   ]
  },
  {
   "cell_type": "code",
   "execution_count": null,
   "id": "b29fabde-37e9-4175-9a35-639f4500379b",
   "metadata": {
    "tags": []
   },
   "outputs": [
    {
     "data": {
      "text/html": [
       "<div>\n",
       "<style scoped>\n",
       "    .dataframe tbody tr th:only-of-type {\n",
       "        vertical-align: middle;\n",
       "    }\n",
       "\n",
       "    .dataframe tbody tr th {\n",
       "        vertical-align: top;\n",
       "    }\n",
       "\n",
       "    .dataframe thead th {\n",
       "        text-align: right;\n",
       "    }\n",
       "</style>\n",
       "<table border=\"1\" class=\"dataframe\">\n",
       "  <thead>\n",
       "    <tr style=\"text-align: right;\">\n",
       "      <th></th>\n",
       "      <th>full_text</th>\n",
       "      <th>username</th>\n",
       "    </tr>\n",
       "  </thead>\n",
       "  <tbody>\n",
       "    <tr>\n",
       "      <th>0</th>\n",
       "      <td>@RoxasDepp @jay_Hainen Aku yakin actually Man ...</td>\n",
       "      <td>amdjfr</td>\n",
       "    </tr>\n",
       "    <tr>\n",
       "      <th>1</th>\n",
       "      <td>@WTEFPL @KhairilAnuar Lahhhh tak baik taw ckp ...</td>\n",
       "      <td>Fizhanmtdn</td>\n",
       "    </tr>\n",
       "    <tr>\n",
       "      <th>2</th>\n",
       "      <td>@buat_gaming @utdabout FA ada man city kalo Ch...</td>\n",
       "      <td>eupatreat</td>\n",
       "    </tr>\n",
       "    <tr>\n",
       "      <th>3</th>\n",
       "      <td>@beagleblueF1 @ManCity Rodri</td>\n",
       "      <td>Ritvars95LV</td>\n",
       "    </tr>\n",
       "    <tr>\n",
       "      <th>4</th>\n",
       "      <td>Malam ganjil. Gol ganjil Assalamualaikum piala...</td>\n",
       "      <td>abdanahmadd</td>\n",
       "    </tr>\n",
       "  </tbody>\n",
       "</table>\n",
       "</div>"
      ],
      "text/plain": [
       "                                           full_text     username\n",
       "0  @RoxasDepp @jay_Hainen Aku yakin actually Man ...       amdjfr\n",
       "1  @WTEFPL @KhairilAnuar Lahhhh tak baik taw ckp ...   Fizhanmtdn\n",
       "2  @buat_gaming @utdabout FA ada man city kalo Ch...    eupatreat\n",
       "3                      @beagleblueF1 @ManCity Rodri   Ritvars95LV\n",
       "4  Malam ganjil. Gol ganjil Assalamualaikum piala...  abdanahmadd"
      ]
     },
     "execution_count": 38,
     "metadata": {},
     "output_type": "execute_result"
    }
   ],
   "source": [
    "testing_data.head()"
   ]
  },
  {
   "cell_type": "code",
   "execution_count": null,
   "id": "fc6f8ff2-8ddd-4471-85d1-99586def4d22",
   "metadata": {
    "tags": []
   },
   "outputs": [],
   "source": [
    "testing_data.to_excel('Dataset/Preposessing/Testing/sebelum_casefolding.xlsx')"
   ]
  },
  {
   "cell_type": "markdown",
   "id": "9cef12e6-6ffc-4bcd-bb67-66a0b6c53d44",
   "metadata": {},
   "source": [
    "#### Implementasi"
   ]
  },
  {
   "cell_type": "code",
   "execution_count": null,
   "id": "fc206bd4-8555-4157-a469-c8893a77e103",
   "metadata": {
    "tags": []
   },
   "outputs": [
    {
     "name": "stdout",
     "output_type": "stream",
     "text": [
      "CPU times: user 1.37 ms, sys: 110 µs, total: 1.48 ms\n",
      "Wall time: 1.32 ms\n"
     ]
    }
   ],
   "source": [
    "%%time\n",
    "testing_data[\"full_text\"] = testing_data[\"full_text\"].apply(tweet_lowercase)"
   ]
  },
  {
   "cell_type": "markdown",
   "id": "97941cbd-4425-4d80-bbbb-cdb0179021c7",
   "metadata": {},
   "source": [
    "#### Sesudah"
   ]
  },
  {
   "cell_type": "code",
   "execution_count": null,
   "id": "32a4af9c-6286-46ba-9534-2e1a1dcc9705",
   "metadata": {
    "tags": []
   },
   "outputs": [
    {
     "data": {
      "text/html": [
       "<div>\n",
       "<style scoped>\n",
       "    .dataframe tbody tr th:only-of-type {\n",
       "        vertical-align: middle;\n",
       "    }\n",
       "\n",
       "    .dataframe tbody tr th {\n",
       "        vertical-align: top;\n",
       "    }\n",
       "\n",
       "    .dataframe thead th {\n",
       "        text-align: right;\n",
       "    }\n",
       "</style>\n",
       "<table border=\"1\" class=\"dataframe\">\n",
       "  <thead>\n",
       "    <tr style=\"text-align: right;\">\n",
       "      <th></th>\n",
       "      <th>full_text</th>\n",
       "      <th>username</th>\n",
       "    </tr>\n",
       "  </thead>\n",
       "  <tbody>\n",
       "    <tr>\n",
       "      <th>0</th>\n",
       "      <td>@roxasdepp @jay_hainen aku yakin actually man ...</td>\n",
       "      <td>amdjfr</td>\n",
       "    </tr>\n",
       "    <tr>\n",
       "      <th>1</th>\n",
       "      <td>@wtefpl @khairilanuar lahhhh tak baik taw ckp ...</td>\n",
       "      <td>Fizhanmtdn</td>\n",
       "    </tr>\n",
       "    <tr>\n",
       "      <th>2</th>\n",
       "      <td>@buat_gaming @utdabout fa ada man city kalo ch...</td>\n",
       "      <td>eupatreat</td>\n",
       "    </tr>\n",
       "    <tr>\n",
       "      <th>3</th>\n",
       "      <td>@beaglebluef1 @mancity rodri</td>\n",
       "      <td>Ritvars95LV</td>\n",
       "    </tr>\n",
       "    <tr>\n",
       "      <th>4</th>\n",
       "      <td>malam ganjil. gol ganjil assalamualaikum piala...</td>\n",
       "      <td>abdanahmadd</td>\n",
       "    </tr>\n",
       "    <tr>\n",
       "      <th>5</th>\n",
       "      <td>cole palmer ngebet pindah dari @mancity ke @ch...</td>\n",
       "      <td>kopibukudanpena</td>\n",
       "    </tr>\n",
       "    <tr>\n",
       "      <th>6</th>\n",
       "      <td>lihat statistik top score epl ternyata cold pa...</td>\n",
       "      <td>tejoharizola_</td>\n",
       "    </tr>\n",
       "    <tr>\n",
       "      <th>7</th>\n",
       "      <td>@keywai_ plg susah arsenal. easiest run in man...</td>\n",
       "      <td>MSallehuddin05</td>\n",
       "    </tr>\n",
       "    <tr>\n",
       "      <th>8</th>\n",
       "      <td>cold palmer semenjak man city lepas dia gue ud...</td>\n",
       "      <td>PunditNdut</td>\n",
       "    </tr>\n",
       "    <tr>\n",
       "      <th>9</th>\n",
       "      <td>@ahkirey gue mancity sama arsenal hahaha.</td>\n",
       "      <td>raedfield</td>\n",
       "    </tr>\n",
       "  </tbody>\n",
       "</table>\n",
       "</div>"
      ],
      "text/plain": [
       "                                           full_text         username\n",
       "0  @roxasdepp @jay_hainen aku yakin actually man ...           amdjfr\n",
       "1  @wtefpl @khairilanuar lahhhh tak baik taw ckp ...       Fizhanmtdn\n",
       "2  @buat_gaming @utdabout fa ada man city kalo ch...        eupatreat\n",
       "3                      @beaglebluef1 @mancity rodri       Ritvars95LV\n",
       "4  malam ganjil. gol ganjil assalamualaikum piala...      abdanahmadd\n",
       "5  cole palmer ngebet pindah dari @mancity ke @ch...  kopibukudanpena\n",
       "6  lihat statistik top score epl ternyata cold pa...    tejoharizola_\n",
       "7  @keywai_ plg susah arsenal. easiest run in man...   MSallehuddin05\n",
       "8  cold palmer semenjak man city lepas dia gue ud...       PunditNdut\n",
       "9          @ahkirey gue mancity sama arsenal hahaha.        raedfield"
      ]
     },
     "execution_count": 41,
     "metadata": {},
     "output_type": "execute_result"
    }
   ],
   "source": [
    "testing_data.head(10)"
   ]
  },
  {
   "cell_type": "code",
   "execution_count": null,
   "id": "82725b30-a332-4a5c-a68d-ed78dcca95d8",
   "metadata": {
    "tags": []
   },
   "outputs": [],
   "source": [
    "testing_data.to_excel('Dataset/Preposessing/Testing/sesudah_casefolding.xlsx')"
   ]
  },
  {
   "cell_type": "markdown",
   "id": "888a196f-5fa1-4fbc-94b3-37e3e27af189",
   "metadata": {
    "tags": []
   },
   "source": [
    "## Cleansing"
   ]
  },
  {
   "cell_type": "markdown",
   "id": "85d1dee7-224f-4281-bbf5-45547f237d68",
   "metadata": {},
   "source": [
    "### Menghapus username"
   ]
  },
  {
   "cell_type": "code",
   "execution_count": null,
   "id": "47f4be40-6a84-42b6-ac3d-8d544b770c5d",
   "metadata": {
    "tags": []
   },
   "outputs": [],
   "source": [
    "def tweet_delete_username(tweet):\n",
    "    userPattern       = '@[^\\s]+'\n",
    "    # Ngehapus kata \"username\" \n",
    "    tweet = re.sub(userPattern, '', tweet)\n",
    "    \n",
    "    return tweet"
   ]
  },
  {
   "cell_type": "code",
   "execution_count": null,
   "id": "8170bf7f-b728-4c14-9cd8-e1ddf7b5b2f2",
   "metadata": {
    "tags": []
   },
   "outputs": [
    {
     "name": "stdout",
     "output_type": "stream",
     "text": [
      "Sebelum:\n",
      "@Angel_siregar sebenernya aku suka sama kamu dulu, tapi kamu ternyata berubah\n",
      "\n",
      "Setelah:\n",
      " sebenernya aku suka sama kamu dulu, tapi kamu ternyata berubah\n"
     ]
    }
   ],
   "source": [
    "print(\"Sebelum:\\n@Angel_siregar sebenernya aku suka sama kamu dulu, tapi kamu ternyata berubah\")\n",
    "print()\n",
    "print(f\"Setelah:\\n{tweet_delete_username('@Angel_siregar sebenernya aku suka sama kamu dulu, tapi kamu ternyata berubah')}\")"
   ]
  },
  {
   "cell_type": "markdown",
   "id": "4a723d91-3b23-48ce-9b00-6326efff4d6c",
   "metadata": {},
   "source": [
    "#### Sebelum"
   ]
  },
  {
   "cell_type": "code",
   "execution_count": null,
   "id": "af26c569-8515-4b37-adbf-28cd3b3a1e9d",
   "metadata": {
    "tags": []
   },
   "outputs": [
    {
     "data": {
      "text/html": [
       "<div>\n",
       "<style scoped>\n",
       "    .dataframe tbody tr th:only-of-type {\n",
       "        vertical-align: middle;\n",
       "    }\n",
       "\n",
       "    .dataframe tbody tr th {\n",
       "        vertical-align: top;\n",
       "    }\n",
       "\n",
       "    .dataframe thead th {\n",
       "        text-align: right;\n",
       "    }\n",
       "</style>\n",
       "<table border=\"1\" class=\"dataframe\">\n",
       "  <thead>\n",
       "    <tr style=\"text-align: right;\">\n",
       "      <th></th>\n",
       "      <th>full_text</th>\n",
       "      <th>username</th>\n",
       "    </tr>\n",
       "  </thead>\n",
       "  <tbody>\n",
       "    <tr>\n",
       "      <th>0</th>\n",
       "      <td>@roxasdepp @jay_hainen aku yakin actually man ...</td>\n",
       "      <td>amdjfr</td>\n",
       "    </tr>\n",
       "    <tr>\n",
       "      <th>1</th>\n",
       "      <td>@wtefpl @khairilanuar lahhhh tak baik taw ckp ...</td>\n",
       "      <td>Fizhanmtdn</td>\n",
       "    </tr>\n",
       "    <tr>\n",
       "      <th>2</th>\n",
       "      <td>@buat_gaming @utdabout fa ada man city kalo ch...</td>\n",
       "      <td>eupatreat</td>\n",
       "    </tr>\n",
       "    <tr>\n",
       "      <th>3</th>\n",
       "      <td>@beaglebluef1 @mancity rodri</td>\n",
       "      <td>Ritvars95LV</td>\n",
       "    </tr>\n",
       "    <tr>\n",
       "      <th>4</th>\n",
       "      <td>malam ganjil. gol ganjil assalamualaikum piala...</td>\n",
       "      <td>abdanahmadd</td>\n",
       "    </tr>\n",
       "  </tbody>\n",
       "</table>\n",
       "</div>"
      ],
      "text/plain": [
       "                                           full_text     username\n",
       "0  @roxasdepp @jay_hainen aku yakin actually man ...       amdjfr\n",
       "1  @wtefpl @khairilanuar lahhhh tak baik taw ckp ...   Fizhanmtdn\n",
       "2  @buat_gaming @utdabout fa ada man city kalo ch...    eupatreat\n",
       "3                      @beaglebluef1 @mancity rodri   Ritvars95LV\n",
       "4  malam ganjil. gol ganjil assalamualaikum piala...  abdanahmadd"
      ]
     },
     "execution_count": 45,
     "metadata": {},
     "output_type": "execute_result"
    }
   ],
   "source": [
    "testing_data.head()"
   ]
  },
  {
   "cell_type": "code",
   "execution_count": null,
   "id": "69709090-3d11-46f5-aa05-342a3accac56",
   "metadata": {
    "tags": []
   },
   "outputs": [],
   "source": [
    "testing_data.to_excel('Dataset/Preposessing/Testing/sebelum_cleansing-hapususername.xlsx')"
   ]
  },
  {
   "cell_type": "markdown",
   "id": "5b2eaab0-bf9d-4196-90f8-90453fa96740",
   "metadata": {},
   "source": [
    "#### Implementasi"
   ]
  },
  {
   "cell_type": "code",
   "execution_count": null,
   "id": "c22a1460-b9cc-485b-a6d2-344e1a1d9ae1",
   "metadata": {
    "tags": []
   },
   "outputs": [
    {
     "name": "stdout",
     "output_type": "stream",
     "text": [
      "CPU times: user 1.32 ms, sys: 106 µs, total: 1.43 ms\n",
      "Wall time: 1.39 ms\n"
     ]
    }
   ],
   "source": [
    "%%time\n",
    "testing_data[\"full_text\"] = testing_data[\"full_text\"].apply(tweet_delete_username)"
   ]
  },
  {
   "cell_type": "markdown",
   "id": "922cd82f-e1c3-4f18-81c9-a1c4f2545bbe",
   "metadata": {},
   "source": [
    "#### Sesudah"
   ]
  },
  {
   "cell_type": "code",
   "execution_count": null,
   "id": "6b3665de-1c30-4f37-8538-543bebd7f0b3",
   "metadata": {
    "tags": []
   },
   "outputs": [
    {
     "data": {
      "text/html": [
       "<div>\n",
       "<style scoped>\n",
       "    .dataframe tbody tr th:only-of-type {\n",
       "        vertical-align: middle;\n",
       "    }\n",
       "\n",
       "    .dataframe tbody tr th {\n",
       "        vertical-align: top;\n",
       "    }\n",
       "\n",
       "    .dataframe thead th {\n",
       "        text-align: right;\n",
       "    }\n",
       "</style>\n",
       "<table border=\"1\" class=\"dataframe\">\n",
       "  <thead>\n",
       "    <tr style=\"text-align: right;\">\n",
       "      <th></th>\n",
       "      <th>full_text</th>\n",
       "      <th>username</th>\n",
       "    </tr>\n",
       "  </thead>\n",
       "  <tbody>\n",
       "    <tr>\n",
       "      <th>0</th>\n",
       "      <td>aku yakin actually man city lobby untuk ensu...</td>\n",
       "      <td>amdjfr</td>\n",
       "    </tr>\n",
       "    <tr>\n",
       "      <th>1</th>\n",
       "      <td>lahhhh tak baik taw ckp chelsea tu bawahan h...</td>\n",
       "      <td>Fizhanmtdn</td>\n",
       "    </tr>\n",
       "    <tr>\n",
       "      <th>2</th>\n",
       "      <td>fa ada man city kalo chelsea masih ada harap...</td>\n",
       "      <td>eupatreat</td>\n",
       "    </tr>\n",
       "    <tr>\n",
       "      <th>3</th>\n",
       "      <td>rodri</td>\n",
       "      <td>Ritvars95LV</td>\n",
       "    </tr>\n",
       "    <tr>\n",
       "      <th>4</th>\n",
       "      <td>malam ganjil. gol ganjil assalamualaikum piala...</td>\n",
       "      <td>abdanahmadd</td>\n",
       "    </tr>\n",
       "  </tbody>\n",
       "</table>\n",
       "</div>"
      ],
      "text/plain": [
       "                                           full_text     username\n",
       "0    aku yakin actually man city lobby untuk ensu...       amdjfr\n",
       "1    lahhhh tak baik taw ckp chelsea tu bawahan h...   Fizhanmtdn\n",
       "2    fa ada man city kalo chelsea masih ada harap...    eupatreat\n",
       "3                                             rodri   Ritvars95LV\n",
       "4  malam ganjil. gol ganjil assalamualaikum piala...  abdanahmadd"
      ]
     },
     "execution_count": 48,
     "metadata": {},
     "output_type": "execute_result"
    }
   ],
   "source": [
    "testing_data.head()"
   ]
  },
  {
   "cell_type": "code",
   "execution_count": null,
   "id": "ddd4e48e-00c6-477b-8ada-ef4ffbbc77fc",
   "metadata": {},
   "outputs": [],
   "source": [
    "testing_data.to_excel('Dataset/Preposessing/Testing/sesudah_cleansing-hapususername.xlsx')"
   ]
  },
  {
   "cell_type": "markdown",
   "id": "9ed28683-35c7-4b64-8257-54c223c6c1a6",
   "metadata": {},
   "source": [
    "### Menghapus url"
   ]
  },
  {
   "cell_type": "code",
   "execution_count": null,
   "id": "c94b527b-3338-4093-9c4f-381c7bb2b4c5",
   "metadata": {
    "tags": []
   },
   "outputs": [],
   "source": [
    "def tweet_delete_url(tweet):\n",
    "    urlPattern        = r\"((http://)[^ ]*|(https://)[^ ]*|(www\\.)[^ ]*)\" #Pola ngehapus url\n",
    "    tweet = re.sub(urlPattern, '', tweet)\n",
    "    return tweet"
   ]
  },
  {
   "cell_type": "code",
   "execution_count": null,
   "id": "97e095e7-6707-472b-87ec-450c08dd593b",
   "metadata": {
    "tags": []
   },
   "outputs": [
    {
     "name": "stdout",
     "output_type": "stream",
     "text": [
      "Sebelum:\n",
      "https://www.analyticsvidhya.com/blog/2022/01/text-cleaning-methods-in-nlp/ link belajar nlp\n",
      "\n",
      "Setelah:\n",
      " link belajar nlp\n"
     ]
    }
   ],
   "source": [
    "print(\"Sebelum:\\nhttps://www.analyticsvidhya.com/blog/2022/01/text-cleaning-methods-in-nlp/ link belajar nlp\")\n",
    "print()\n",
    "print(f\"Setelah:\\n{tweet_delete_url('https://www.analyticsvidhya.com/blog/2022/01/text-cleaning-methods-in-nlp/ link belajar nlp')}\")"
   ]
  },
  {
   "cell_type": "markdown",
   "id": "92da578d-6a59-4215-ae1d-b57db65fa355",
   "metadata": {},
   "source": [
    "#### Sebelum"
   ]
  },
  {
   "cell_type": "code",
   "execution_count": null,
   "id": "ad38d684-1c32-4eb6-bda7-76de0a6407c2",
   "metadata": {
    "tags": []
   },
   "outputs": [
    {
     "data": {
      "text/html": [
       "<div>\n",
       "<style scoped>\n",
       "    .dataframe tbody tr th:only-of-type {\n",
       "        vertical-align: middle;\n",
       "    }\n",
       "\n",
       "    .dataframe tbody tr th {\n",
       "        vertical-align: top;\n",
       "    }\n",
       "\n",
       "    .dataframe thead th {\n",
       "        text-align: right;\n",
       "    }\n",
       "</style>\n",
       "<table border=\"1\" class=\"dataframe\">\n",
       "  <thead>\n",
       "    <tr style=\"text-align: right;\">\n",
       "      <th></th>\n",
       "      <th>full_text</th>\n",
       "      <th>username</th>\n",
       "    </tr>\n",
       "  </thead>\n",
       "  <tbody>\n",
       "    <tr>\n",
       "      <th>0</th>\n",
       "      <td>aku yakin actually man city lobby untuk ensu...</td>\n",
       "      <td>amdjfr</td>\n",
       "    </tr>\n",
       "    <tr>\n",
       "      <th>1</th>\n",
       "      <td>lahhhh tak baik taw ckp chelsea tu bawahan h...</td>\n",
       "      <td>Fizhanmtdn</td>\n",
       "    </tr>\n",
       "    <tr>\n",
       "      <th>2</th>\n",
       "      <td>fa ada man city kalo chelsea masih ada harap...</td>\n",
       "      <td>eupatreat</td>\n",
       "    </tr>\n",
       "    <tr>\n",
       "      <th>3</th>\n",
       "      <td>rodri</td>\n",
       "      <td>Ritvars95LV</td>\n",
       "    </tr>\n",
       "    <tr>\n",
       "      <th>4</th>\n",
       "      <td>malam ganjil. gol ganjil assalamualaikum piala...</td>\n",
       "      <td>abdanahmadd</td>\n",
       "    </tr>\n",
       "  </tbody>\n",
       "</table>\n",
       "</div>"
      ],
      "text/plain": [
       "                                           full_text     username\n",
       "0    aku yakin actually man city lobby untuk ensu...       amdjfr\n",
       "1    lahhhh tak baik taw ckp chelsea tu bawahan h...   Fizhanmtdn\n",
       "2    fa ada man city kalo chelsea masih ada harap...    eupatreat\n",
       "3                                             rodri   Ritvars95LV\n",
       "4  malam ganjil. gol ganjil assalamualaikum piala...  abdanahmadd"
      ]
     },
     "execution_count": 52,
     "metadata": {},
     "output_type": "execute_result"
    }
   ],
   "source": [
    "testing_data.head()"
   ]
  },
  {
   "cell_type": "code",
   "execution_count": null,
   "id": "16eae00a-0c58-4eac-8911-7e07303d6b58",
   "metadata": {
    "tags": []
   },
   "outputs": [],
   "source": [
    "testing_data.to_excel('Dataset/Preposessing/Testing/sebelum_cleansing-hapusurl.xlsx')"
   ]
  },
  {
   "cell_type": "markdown",
   "id": "320acf51-e521-4d21-bc41-58a151147cda",
   "metadata": {},
   "source": [
    "#### Implementasi"
   ]
  },
  {
   "cell_type": "code",
   "execution_count": null,
   "id": "7524736f-51cc-4b56-9d72-b69c52cb0e03",
   "metadata": {
    "tags": []
   },
   "outputs": [
    {
     "name": "stdout",
     "output_type": "stream",
     "text": [
      "CPU times: user 6.68 ms, sys: 211 µs, total: 6.89 ms\n",
      "Wall time: 6.78 ms\n"
     ]
    }
   ],
   "source": [
    "%%time\n",
    "testing_data[\"full_text\"] = testing_data[\"full_text\"].apply(tweet_delete_url)"
   ]
  },
  {
   "cell_type": "markdown",
   "id": "2c911ed6-cc54-403f-b579-42bc94653ace",
   "metadata": {},
   "source": [
    "#### Sesudah"
   ]
  },
  {
   "cell_type": "code",
   "execution_count": null,
   "id": "adecf461-d905-4052-9412-fedffc9148dd",
   "metadata": {
    "tags": []
   },
   "outputs": [
    {
     "data": {
      "text/html": [
       "<div>\n",
       "<style scoped>\n",
       "    .dataframe tbody tr th:only-of-type {\n",
       "        vertical-align: middle;\n",
       "    }\n",
       "\n",
       "    .dataframe tbody tr th {\n",
       "        vertical-align: top;\n",
       "    }\n",
       "\n",
       "    .dataframe thead th {\n",
       "        text-align: right;\n",
       "    }\n",
       "</style>\n",
       "<table border=\"1\" class=\"dataframe\">\n",
       "  <thead>\n",
       "    <tr style=\"text-align: right;\">\n",
       "      <th></th>\n",
       "      <th>full_text</th>\n",
       "      <th>username</th>\n",
       "    </tr>\n",
       "  </thead>\n",
       "  <tbody>\n",
       "    <tr>\n",
       "      <th>0</th>\n",
       "      <td>aku yakin actually man city lobby untuk ensu...</td>\n",
       "      <td>amdjfr</td>\n",
       "    </tr>\n",
       "    <tr>\n",
       "      <th>1</th>\n",
       "      <td>lahhhh tak baik taw ckp chelsea tu bawahan h...</td>\n",
       "      <td>Fizhanmtdn</td>\n",
       "    </tr>\n",
       "    <tr>\n",
       "      <th>2</th>\n",
       "      <td>fa ada man city kalo chelsea masih ada harap...</td>\n",
       "      <td>eupatreat</td>\n",
       "    </tr>\n",
       "    <tr>\n",
       "      <th>3</th>\n",
       "      <td>rodri</td>\n",
       "      <td>Ritvars95LV</td>\n",
       "    </tr>\n",
       "    <tr>\n",
       "      <th>4</th>\n",
       "      <td>malam ganjil. gol ganjil assalamualaikum piala...</td>\n",
       "      <td>abdanahmadd</td>\n",
       "    </tr>\n",
       "  </tbody>\n",
       "</table>\n",
       "</div>"
      ],
      "text/plain": [
       "                                           full_text     username\n",
       "0    aku yakin actually man city lobby untuk ensu...       amdjfr\n",
       "1    lahhhh tak baik taw ckp chelsea tu bawahan h...   Fizhanmtdn\n",
       "2    fa ada man city kalo chelsea masih ada harap...    eupatreat\n",
       "3                                             rodri   Ritvars95LV\n",
       "4  malam ganjil. gol ganjil assalamualaikum piala...  abdanahmadd"
      ]
     },
     "execution_count": 55,
     "metadata": {},
     "output_type": "execute_result"
    }
   ],
   "source": [
    "testing_data.head()"
   ]
  },
  {
   "cell_type": "code",
   "execution_count": null,
   "id": "8bcbdba4-2433-4ffc-a77d-cd089c5de8ef",
   "metadata": {},
   "outputs": [],
   "source": [
    "testing_data.to_excel('Dataset/Preposessing/Testing/sesudah_cleansing-hapusurl.xlsx')"
   ]
  },
  {
   "cell_type": "markdown",
   "id": "e06c367f-49ad-4c2b-9497-43ab57ffa299",
   "metadata": {},
   "source": [
    "### Menghapus kelebihan huruf"
   ]
  },
  {
   "cell_type": "code",
   "execution_count": null,
   "id": "f2380b6d-7d2a-4935-953e-d96cfac0de18",
   "metadata": {
    "tags": []
   },
   "outputs": [],
   "source": [
    "def tweet_delete_extra_letters(tweet):\n",
    "    sequencePattern   = r'([A-Za-z])\\1{2,}' #Pola ngehapus karakter yang punya kelebihan huruf\n",
    "    seqReplacePattern = r'\\1' #Pola ngereplace yang kelebihan huruf tiga kali\n",
    "    tweet = re.sub(sequencePattern, seqReplacePattern, tweet)\n",
    "    \n",
    "    return tweet"
   ]
  },
  {
   "cell_type": "code",
   "execution_count": null,
   "id": "670ee60c-49f0-4821-a2e5-c76cef88b86e",
   "metadata": {
    "tags": []
   },
   "outputs": [
    {
     "name": "stdout",
     "output_type": "stream",
     "text": [
      "Sebelum:\n",
      "Aku ganteng banget gillaaaaaa saat main gitar, manfaat banget\n",
      "\n",
      "Sebelum:\n",
      "Aku ganteng banget gila saat main gitar, manfaat banget\n"
     ]
    }
   ],
   "source": [
    "print(\"Sebelum:\\nAku ganteng banget gillaaaaaa saat main gitar, manfaat banget\")\n",
    "print()\n",
    "print(f\"Sebelum:\\n{tweet_delete_extra_letters('Aku ganteng banget gilllaaaaaa saat main gitar, manfaat banget')}\")"
   ]
  },
  {
   "cell_type": "markdown",
   "id": "73acff70-a985-4a02-a288-d5b87c084739",
   "metadata": {},
   "source": [
    "#### Sebelum"
   ]
  },
  {
   "cell_type": "code",
   "execution_count": null,
   "id": "043b59b3-fe70-4d08-83b0-7cc2247231f9",
   "metadata": {
    "tags": []
   },
   "outputs": [
    {
     "data": {
      "text/html": [
       "<div>\n",
       "<style scoped>\n",
       "    .dataframe tbody tr th:only-of-type {\n",
       "        vertical-align: middle;\n",
       "    }\n",
       "\n",
       "    .dataframe tbody tr th {\n",
       "        vertical-align: top;\n",
       "    }\n",
       "\n",
       "    .dataframe thead th {\n",
       "        text-align: right;\n",
       "    }\n",
       "</style>\n",
       "<table border=\"1\" class=\"dataframe\">\n",
       "  <thead>\n",
       "    <tr style=\"text-align: right;\">\n",
       "      <th></th>\n",
       "      <th>full_text</th>\n",
       "      <th>username</th>\n",
       "    </tr>\n",
       "  </thead>\n",
       "  <tbody>\n",
       "    <tr>\n",
       "      <th>0</th>\n",
       "      <td>aku yakin actually man city lobby untuk ensu...</td>\n",
       "      <td>amdjfr</td>\n",
       "    </tr>\n",
       "    <tr>\n",
       "      <th>1</th>\n",
       "      <td>lahhhh tak baik taw ckp chelsea tu bawahan h...</td>\n",
       "      <td>Fizhanmtdn</td>\n",
       "    </tr>\n",
       "    <tr>\n",
       "      <th>2</th>\n",
       "      <td>fa ada man city kalo chelsea masih ada harap...</td>\n",
       "      <td>eupatreat</td>\n",
       "    </tr>\n",
       "    <tr>\n",
       "      <th>3</th>\n",
       "      <td>rodri</td>\n",
       "      <td>Ritvars95LV</td>\n",
       "    </tr>\n",
       "    <tr>\n",
       "      <th>4</th>\n",
       "      <td>malam ganjil. gol ganjil assalamualaikum piala...</td>\n",
       "      <td>abdanahmadd</td>\n",
       "    </tr>\n",
       "  </tbody>\n",
       "</table>\n",
       "</div>"
      ],
      "text/plain": [
       "                                           full_text     username\n",
       "0    aku yakin actually man city lobby untuk ensu...       amdjfr\n",
       "1    lahhhh tak baik taw ckp chelsea tu bawahan h...   Fizhanmtdn\n",
       "2    fa ada man city kalo chelsea masih ada harap...    eupatreat\n",
       "3                                             rodri   Ritvars95LV\n",
       "4  malam ganjil. gol ganjil assalamualaikum piala...  abdanahmadd"
      ]
     },
     "execution_count": 59,
     "metadata": {},
     "output_type": "execute_result"
    }
   ],
   "source": [
    "testing_data.head()"
   ]
  },
  {
   "cell_type": "code",
   "execution_count": null,
   "id": "e7618a02-cc23-409c-91b6-1acfa2b41296",
   "metadata": {},
   "outputs": [],
   "source": [
    "testing_data.to_excel('Dataset/Preposessing/Testing/sebelum_cleansing-kelebihanhuruf.xlsx')"
   ]
  },
  {
   "cell_type": "markdown",
   "id": "f78b944d-63fd-4ada-bdd8-e48ac3549b5e",
   "metadata": {},
   "source": [
    "#### Implementasi"
   ]
  },
  {
   "cell_type": "code",
   "execution_count": null,
   "id": "1b63d61f-551e-44da-811c-4d13556620be",
   "metadata": {
    "tags": []
   },
   "outputs": [
    {
     "name": "stdout",
     "output_type": "stream",
     "text": [
      "CPU times: user 7.26 ms, sys: 0 ns, total: 7.26 ms\n",
      "Wall time: 7.15 ms\n"
     ]
    }
   ],
   "source": [
    "%%time\n",
    "testing_data[\"full_text\"] = testing_data[\"full_text\"].apply(tweet_delete_extra_letters)"
   ]
  },
  {
   "cell_type": "markdown",
   "id": "2cb5918b-e538-4382-a57b-9accfbbcbd5e",
   "metadata": {},
   "source": [
    "#### Sesudah"
   ]
  },
  {
   "cell_type": "code",
   "execution_count": null,
   "id": "508a7cc1-e3e6-4715-b723-b893972c8fc7",
   "metadata": {
    "tags": []
   },
   "outputs": [
    {
     "data": {
      "text/html": [
       "<div>\n",
       "<style scoped>\n",
       "    .dataframe tbody tr th:only-of-type {\n",
       "        vertical-align: middle;\n",
       "    }\n",
       "\n",
       "    .dataframe tbody tr th {\n",
       "        vertical-align: top;\n",
       "    }\n",
       "\n",
       "    .dataframe thead th {\n",
       "        text-align: right;\n",
       "    }\n",
       "</style>\n",
       "<table border=\"1\" class=\"dataframe\">\n",
       "  <thead>\n",
       "    <tr style=\"text-align: right;\">\n",
       "      <th></th>\n",
       "      <th>full_text</th>\n",
       "      <th>username</th>\n",
       "    </tr>\n",
       "  </thead>\n",
       "  <tbody>\n",
       "    <tr>\n",
       "      <th>0</th>\n",
       "      <td>aku yakin actually man city lobby untuk ensu...</td>\n",
       "      <td>amdjfr</td>\n",
       "    </tr>\n",
       "    <tr>\n",
       "      <th>1</th>\n",
       "      <td>lah tak baik taw ckp chelsea tu bawahan heba...</td>\n",
       "      <td>Fizhanmtdn</td>\n",
       "    </tr>\n",
       "    <tr>\n",
       "      <th>2</th>\n",
       "      <td>fa ada man city kalo chelsea masih ada harap...</td>\n",
       "      <td>eupatreat</td>\n",
       "    </tr>\n",
       "    <tr>\n",
       "      <th>3</th>\n",
       "      <td>rodri</td>\n",
       "      <td>Ritvars95LV</td>\n",
       "    </tr>\n",
       "    <tr>\n",
       "      <th>4</th>\n",
       "      <td>malam ganjil. gol ganjil assalamualaikum piala...</td>\n",
       "      <td>abdanahmadd</td>\n",
       "    </tr>\n",
       "  </tbody>\n",
       "</table>\n",
       "</div>"
      ],
      "text/plain": [
       "                                           full_text     username\n",
       "0    aku yakin actually man city lobby untuk ensu...       amdjfr\n",
       "1    lah tak baik taw ckp chelsea tu bawahan heba...   Fizhanmtdn\n",
       "2    fa ada man city kalo chelsea masih ada harap...    eupatreat\n",
       "3                                             rodri   Ritvars95LV\n",
       "4  malam ganjil. gol ganjil assalamualaikum piala...  abdanahmadd"
      ]
     },
     "execution_count": 62,
     "metadata": {},
     "output_type": "execute_result"
    }
   ],
   "source": [
    "testing_data.head()"
   ]
  },
  {
   "cell_type": "code",
   "execution_count": null,
   "id": "40fee61b-fb73-4d21-b36c-63529f04f606",
   "metadata": {},
   "outputs": [],
   "source": [
    "testing_data.to_excel('Dataset/Preposessing/Testing/sesudah_cleansing-kelebihanhuruf.xlsx')"
   ]
  },
  {
   "cell_type": "markdown",
   "id": "736ceab9-4ad7-4228-87ea-7df2f089e6cd",
   "metadata": {},
   "source": [
    "### Menghapus Noise"
   ]
  },
  {
   "cell_type": "code",
   "execution_count": null,
   "id": "fb8629b4-fa98-4d2c-9dcd-722f8deb157c",
   "metadata": {
    "tags": []
   },
   "outputs": [],
   "source": [
    "def tweet_delete_noise(tweet):\n",
    "        tweet = re.sub(r'(asslamu alaikum|assalamualaikum|asalamualaikum|assalamu\\'alaikum|Assalamu alaikum|Assalamualaikum warahmatullahi wabarakatuh|ass wr\\. wb\\.|ass)', '', tweet)\n",
    "        tweet = re.sub(r'\\b(dah|doi|dih|kok|pol|brow|emyu|skin|anjir|anjay|njir|bjir|jir|njay|anjoy|ajg|min|admin|gan|sis|sih|ke|di|dari|lah|kudu|oalah|lha|yah|yha|amp|n|nih|loo|hadeuh|waduh|sok|na|cing|hadeuh|loh|lho|bro|cui|cuy|yuk|yok|kuy|kan)\\b', '', tweet)\n",
    "        return tweet"
   ]
  },
  {
   "cell_type": "code",
   "execution_count": null,
   "id": "b6dd318d-8068-46e2-a4cb-276f1d04c525",
   "metadata": {
    "tags": []
   },
   "outputs": [
    {
     "name": "stdout",
     "output_type": "stream",
     "text": [
      "Sebelum:\n",
      "jir nadin amizah cantik banget cuy, pengen jadi suaminya.\n",
      "\n",
      "Sebelum:\n",
      " nadin amizah cantik banget , pengen jadi suaminya.\n"
     ]
    }
   ],
   "source": [
    "print(\"Sebelum:\\njir nadin amizah cantik banget cuy, pengen jadi suaminya.\")\n",
    "print()\n",
    "print(f\"Sebelum:\\n{tweet_delete_noise('jir nadin amizah cantik banget cuy, pengen jadi suaminya.')}\")"
   ]
  },
  {
   "cell_type": "markdown",
   "id": "b375f61d-a517-4036-8db3-75990d934042",
   "metadata": {},
   "source": [
    "#### Sebelum"
   ]
  },
  {
   "cell_type": "code",
   "execution_count": null,
   "id": "8700f272-b823-42b3-bcc7-e0a44e22d26c",
   "metadata": {
    "tags": []
   },
   "outputs": [
    {
     "data": {
      "text/html": [
       "<div>\n",
       "<style scoped>\n",
       "    .dataframe tbody tr th:only-of-type {\n",
       "        vertical-align: middle;\n",
       "    }\n",
       "\n",
       "    .dataframe tbody tr th {\n",
       "        vertical-align: top;\n",
       "    }\n",
       "\n",
       "    .dataframe thead th {\n",
       "        text-align: right;\n",
       "    }\n",
       "</style>\n",
       "<table border=\"1\" class=\"dataframe\">\n",
       "  <thead>\n",
       "    <tr style=\"text-align: right;\">\n",
       "      <th></th>\n",
       "      <th>full_text</th>\n",
       "      <th>username</th>\n",
       "    </tr>\n",
       "  </thead>\n",
       "  <tbody>\n",
       "    <tr>\n",
       "      <th>0</th>\n",
       "      <td>aku yakin actually man city lobby untuk ensu...</td>\n",
       "      <td>amdjfr</td>\n",
       "    </tr>\n",
       "    <tr>\n",
       "      <th>1</th>\n",
       "      <td>lah tak baik taw ckp chelsea tu bawahan heba...</td>\n",
       "      <td>Fizhanmtdn</td>\n",
       "    </tr>\n",
       "    <tr>\n",
       "      <th>2</th>\n",
       "      <td>fa ada man city kalo chelsea masih ada harap...</td>\n",
       "      <td>eupatreat</td>\n",
       "    </tr>\n",
       "    <tr>\n",
       "      <th>3</th>\n",
       "      <td>rodri</td>\n",
       "      <td>Ritvars95LV</td>\n",
       "    </tr>\n",
       "    <tr>\n",
       "      <th>4</th>\n",
       "      <td>malam ganjil. gol ganjil assalamualaikum piala...</td>\n",
       "      <td>abdanahmadd</td>\n",
       "    </tr>\n",
       "  </tbody>\n",
       "</table>\n",
       "</div>"
      ],
      "text/plain": [
       "                                           full_text     username\n",
       "0    aku yakin actually man city lobby untuk ensu...       amdjfr\n",
       "1    lah tak baik taw ckp chelsea tu bawahan heba...   Fizhanmtdn\n",
       "2    fa ada man city kalo chelsea masih ada harap...    eupatreat\n",
       "3                                             rodri   Ritvars95LV\n",
       "4  malam ganjil. gol ganjil assalamualaikum piala...  abdanahmadd"
      ]
     },
     "execution_count": 66,
     "metadata": {},
     "output_type": "execute_result"
    }
   ],
   "source": [
    "testing_data.head()"
   ]
  },
  {
   "cell_type": "code",
   "execution_count": null,
   "id": "8b1d584a-ea16-4519-b090-b39950c85576",
   "metadata": {},
   "outputs": [],
   "source": [
    "testing_data.to_excel('Dataset/Preposessing/Testing/sebelum_cleansing-menghapusnoise.xlsx')"
   ]
  },
  {
   "cell_type": "markdown",
   "id": "858320d4-7b92-4537-aa92-1947a0ac8345",
   "metadata": {},
   "source": [
    "#### Implementasi"
   ]
  },
  {
   "cell_type": "code",
   "execution_count": null,
   "id": "1d4c1b50-35bf-47b0-ab85-a9b7227393c2",
   "metadata": {
    "tags": []
   },
   "outputs": [
    {
     "name": "stdout",
     "output_type": "stream",
     "text": [
      "CPU times: user 13 ms, sys: 0 ns, total: 13 ms\n",
      "Wall time: 13.1 ms\n"
     ]
    }
   ],
   "source": [
    "%%time\n",
    "testing_data[\"full_text\"] = testing_data[\"full_text\"].apply(tweet_delete_noise)"
   ]
  },
  {
   "cell_type": "markdown",
   "id": "66fb0465-86ef-491d-b311-529d9d23e195",
   "metadata": {},
   "source": [
    "#### Sesudah"
   ]
  },
  {
   "cell_type": "code",
   "execution_count": null,
   "id": "50d98b36-6920-4405-bff4-bd29970ef40d",
   "metadata": {
    "tags": []
   },
   "outputs": [
    {
     "data": {
      "text/html": [
       "<div>\n",
       "<style scoped>\n",
       "    .dataframe tbody tr th:only-of-type {\n",
       "        vertical-align: middle;\n",
       "    }\n",
       "\n",
       "    .dataframe tbody tr th {\n",
       "        vertical-align: top;\n",
       "    }\n",
       "\n",
       "    .dataframe thead th {\n",
       "        text-align: right;\n",
       "    }\n",
       "</style>\n",
       "<table border=\"1\" class=\"dataframe\">\n",
       "  <thead>\n",
       "    <tr style=\"text-align: right;\">\n",
       "      <th></th>\n",
       "      <th>full_text</th>\n",
       "      <th>username</th>\n",
       "    </tr>\n",
       "  </thead>\n",
       "  <tbody>\n",
       "    <tr>\n",
       "      <th>0</th>\n",
       "      <td>aku yakin actually man city lobby untuk ensu...</td>\n",
       "      <td>amdjfr</td>\n",
       "    </tr>\n",
       "    <tr>\n",
       "      <th>1</th>\n",
       "      <td>tak baik taw ckp chelsea tu bawahan hebat j...</td>\n",
       "      <td>Fizhanmtdn</td>\n",
       "    </tr>\n",
       "    <tr>\n",
       "      <th>2</th>\n",
       "      <td>fa ada man city kalo chelsea masih ada harap...</td>\n",
       "      <td>eupatreat</td>\n",
       "    </tr>\n",
       "    <tr>\n",
       "      <th>3</th>\n",
       "      <td>rodri</td>\n",
       "      <td>Ritvars95LV</td>\n",
       "    </tr>\n",
       "    <tr>\n",
       "      <th>4</th>\n",
       "      <td>malam ganjil. gol ganjil  piala inggriss ekhhe...</td>\n",
       "      <td>abdanahmadd</td>\n",
       "    </tr>\n",
       "  </tbody>\n",
       "</table>\n",
       "</div>"
      ],
      "text/plain": [
       "                                           full_text     username\n",
       "0    aku yakin actually man city lobby untuk ensu...       amdjfr\n",
       "1     tak baik taw ckp chelsea tu bawahan hebat j...   Fizhanmtdn\n",
       "2    fa ada man city kalo chelsea masih ada harap...    eupatreat\n",
       "3                                             rodri   Ritvars95LV\n",
       "4  malam ganjil. gol ganjil  piala inggriss ekhhe...  abdanahmadd"
      ]
     },
     "execution_count": 69,
     "metadata": {},
     "output_type": "execute_result"
    }
   ],
   "source": [
    "testing_data.head()"
   ]
  },
  {
   "cell_type": "code",
   "execution_count": null,
   "id": "51bc8a6b-989f-4418-adf6-4c3234be797c",
   "metadata": {},
   "outputs": [],
   "source": [
    "testing_data.to_excel('Dataset/Preposessing/Testing/sesudah_cleansing-menghapusnoise.xlsx')"
   ]
  },
  {
   "cell_type": "markdown",
   "id": "a2051487-629e-408d-b638-1bb3511612b9",
   "metadata": {},
   "source": [
    "### Menghapus new line dan new text"
   ]
  },
  {
   "cell_type": "code",
   "execution_count": null,
   "id": "8cc9e083-0bee-4d78-8b87-d51d3435fbfe",
   "metadata": {
    "tags": []
   },
   "outputs": [],
   "source": [
    "def tweet_delete_new_line_new_text(tweet):\n",
    "    tweet = re.sub(r'\\\\[nt]', ' ', tweet)\n",
    "    return tweet"
   ]
  },
  {
   "cell_type": "code",
   "execution_count": null,
   "id": "192bf58b-2a7a-4a68-a053-33aeb5e37ff3",
   "metadata": {
    "tags": []
   },
   "outputs": [
    {
     "name": "stdout",
     "output_type": "stream",
     "text": [
      "Sebelum:\n",
      "Aku ganteng banget gillaaaaaa saat main gitar, \n",
      "manfaat\t banget\n",
      "\n",
      "Setelah:\n",
      "Aku ganteng banget gilllaaaaaa saat main gitar,   manfaat  banget\n"
     ]
    }
   ],
   "source": [
    "print(\"Sebelum:\\nAku ganteng banget gillaaaaaa saat main gitar, \\nmanfaat\\t banget\")\n",
    "print()\n",
    "string_to_print = \"Aku ganteng banget gilllaaaaaa saat main gitar, \\\\n manfaat\\\\t banget\"\n",
    "print(f\"Setelah:\\n{tweet_delete_new_line_new_text(string_to_print)}\")"
   ]
  },
  {
   "cell_type": "markdown",
   "id": "2c40d2fb-9bb2-42ed-8d74-369651d3e5e7",
   "metadata": {},
   "source": [
    "#### Sebelum"
   ]
  },
  {
   "cell_type": "code",
   "execution_count": null,
   "id": "e81394ea-1036-410d-a570-8e3dc8fff40e",
   "metadata": {
    "tags": []
   },
   "outputs": [
    {
     "data": {
      "text/html": [
       "<div>\n",
       "<style scoped>\n",
       "    .dataframe tbody tr th:only-of-type {\n",
       "        vertical-align: middle;\n",
       "    }\n",
       "\n",
       "    .dataframe tbody tr th {\n",
       "        vertical-align: top;\n",
       "    }\n",
       "\n",
       "    .dataframe thead th {\n",
       "        text-align: right;\n",
       "    }\n",
       "</style>\n",
       "<table border=\"1\" class=\"dataframe\">\n",
       "  <thead>\n",
       "    <tr style=\"text-align: right;\">\n",
       "      <th></th>\n",
       "      <th>full_text</th>\n",
       "      <th>username</th>\n",
       "    </tr>\n",
       "  </thead>\n",
       "  <tbody>\n",
       "    <tr>\n",
       "      <th>0</th>\n",
       "      <td>aku yakin actually man city lobby untuk ensu...</td>\n",
       "      <td>amdjfr</td>\n",
       "    </tr>\n",
       "    <tr>\n",
       "      <th>1</th>\n",
       "      <td>tak baik taw ckp chelsea tu bawahan hebat j...</td>\n",
       "      <td>Fizhanmtdn</td>\n",
       "    </tr>\n",
       "    <tr>\n",
       "      <th>2</th>\n",
       "      <td>fa ada man city kalo chelsea masih ada harap...</td>\n",
       "      <td>eupatreat</td>\n",
       "    </tr>\n",
       "    <tr>\n",
       "      <th>3</th>\n",
       "      <td>rodri</td>\n",
       "      <td>Ritvars95LV</td>\n",
       "    </tr>\n",
       "    <tr>\n",
       "      <th>4</th>\n",
       "      <td>malam ganjil. gol ganjil  piala inggriss ekhhe...</td>\n",
       "      <td>abdanahmadd</td>\n",
       "    </tr>\n",
       "  </tbody>\n",
       "</table>\n",
       "</div>"
      ],
      "text/plain": [
       "                                           full_text     username\n",
       "0    aku yakin actually man city lobby untuk ensu...       amdjfr\n",
       "1     tak baik taw ckp chelsea tu bawahan hebat j...   Fizhanmtdn\n",
       "2    fa ada man city kalo chelsea masih ada harap...    eupatreat\n",
       "3                                             rodri   Ritvars95LV\n",
       "4  malam ganjil. gol ganjil  piala inggriss ekhhe...  abdanahmadd"
      ]
     },
     "execution_count": 73,
     "metadata": {},
     "output_type": "execute_result"
    }
   ],
   "source": [
    "testing_data.head()"
   ]
  },
  {
   "cell_type": "code",
   "execution_count": null,
   "id": "b7d00291-8fda-4e6c-bdfb-94524757e3aa",
   "metadata": {},
   "outputs": [],
   "source": [
    "testing_data.to_excel('Dataset/Preposessing/Testing/sebelum_cleansing-newline.xlsx')"
   ]
  },
  {
   "cell_type": "markdown",
   "id": "f3c72602-ad35-4403-a45e-99339f2a61fa",
   "metadata": {},
   "source": [
    "#### Implementasi"
   ]
  },
  {
   "cell_type": "code",
   "execution_count": null,
   "id": "ee780691-aaa5-4c7f-9750-aae65f77622c",
   "metadata": {
    "tags": []
   },
   "outputs": [
    {
     "name": "stdout",
     "output_type": "stream",
     "text": [
      "CPU times: user 1.19 ms, sys: 92 µs, total: 1.28 ms\n",
      "Wall time: 1.25 ms\n"
     ]
    }
   ],
   "source": [
    "%%time\n",
    "testing_data[\"full_text\"] = testing_data[\"full_text\"].apply(tweet_delete_new_line_new_text)"
   ]
  },
  {
   "cell_type": "markdown",
   "id": "fa0ed9f9-46d9-44e8-911f-daed48ad3f96",
   "metadata": {},
   "source": [
    "#### Sesudah"
   ]
  },
  {
   "cell_type": "code",
   "execution_count": null,
   "id": "b90008be-d2bb-49ee-84ac-12ff4223aa69",
   "metadata": {
    "tags": []
   },
   "outputs": [
    {
     "data": {
      "text/html": [
       "<div>\n",
       "<style scoped>\n",
       "    .dataframe tbody tr th:only-of-type {\n",
       "        vertical-align: middle;\n",
       "    }\n",
       "\n",
       "    .dataframe tbody tr th {\n",
       "        vertical-align: top;\n",
       "    }\n",
       "\n",
       "    .dataframe thead th {\n",
       "        text-align: right;\n",
       "    }\n",
       "</style>\n",
       "<table border=\"1\" class=\"dataframe\">\n",
       "  <thead>\n",
       "    <tr style=\"text-align: right;\">\n",
       "      <th></th>\n",
       "      <th>full_text</th>\n",
       "      <th>username</th>\n",
       "    </tr>\n",
       "  </thead>\n",
       "  <tbody>\n",
       "    <tr>\n",
       "      <th>0</th>\n",
       "      <td>aku yakin actually man city lobby untuk ensu...</td>\n",
       "      <td>amdjfr</td>\n",
       "    </tr>\n",
       "    <tr>\n",
       "      <th>1</th>\n",
       "      <td>tak baik taw ckp chelsea tu bawahan hebat j...</td>\n",
       "      <td>Fizhanmtdn</td>\n",
       "    </tr>\n",
       "    <tr>\n",
       "      <th>2</th>\n",
       "      <td>fa ada man city kalo chelsea masih ada harap...</td>\n",
       "      <td>eupatreat</td>\n",
       "    </tr>\n",
       "    <tr>\n",
       "      <th>3</th>\n",
       "      <td>rodri</td>\n",
       "      <td>Ritvars95LV</td>\n",
       "    </tr>\n",
       "    <tr>\n",
       "      <th>4</th>\n",
       "      <td>malam ganjil. gol ganjil  piala inggriss ekhhe...</td>\n",
       "      <td>abdanahmadd</td>\n",
       "    </tr>\n",
       "  </tbody>\n",
       "</table>\n",
       "</div>"
      ],
      "text/plain": [
       "                                           full_text     username\n",
       "0    aku yakin actually man city lobby untuk ensu...       amdjfr\n",
       "1     tak baik taw ckp chelsea tu bawahan hebat j...   Fizhanmtdn\n",
       "2    fa ada man city kalo chelsea masih ada harap...    eupatreat\n",
       "3                                             rodri   Ritvars95LV\n",
       "4  malam ganjil. gol ganjil  piala inggriss ekhhe...  abdanahmadd"
      ]
     },
     "execution_count": 76,
     "metadata": {},
     "output_type": "execute_result"
    }
   ],
   "source": [
    "testing_data.head()"
   ]
  },
  {
   "cell_type": "code",
   "execution_count": null,
   "id": "15c7e56d-69fc-402a-b836-1dd562ade6a7",
   "metadata": {},
   "outputs": [],
   "source": [
    "testing_data.to_excel('Dataset/Preposessing/Testing/sesudah_cleansing-newline.xlsx')"
   ]
  },
  {
   "cell_type": "markdown",
   "id": "181bb0e4-dbc1-4a00-a981-40ea7836efcb",
   "metadata": {
    "tags": []
   },
   "source": [
    "### Menghapus angka"
   ]
  },
  {
   "cell_type": "code",
   "execution_count": null,
   "id": "139185eb-5795-4566-9a4d-63f285f9a3e0",
   "metadata": {
    "tags": []
   },
   "outputs": [],
   "source": [
    "def tweet_delete_number(tweet):\n",
    "    number = r'\\d+' #Pola ngehapus angka\n",
    "    tweet = re.sub(number, '', tweet)\n",
    "    return tweet"
   ]
  },
  {
   "cell_type": "code",
   "execution_count": null,
   "id": "63898283-d4d1-4158-93b7-16311760503d",
   "metadata": {
    "tags": []
   },
   "outputs": [
    {
     "name": "stdout",
     "output_type": "stream",
     "text": [
      "Sebelum:\n",
      "in242i adal1321ah kalimat2 testing 12312yaaaaa!\n",
      "\n",
      "Sebelum:\n",
      "ini adalah kalimat testing yaaaaa!\n"
     ]
    }
   ],
   "source": [
    "print(\"Sebelum:\\nin242i adal1321ah kalimat2 testing 12312yaaaaa!\")\n",
    "print()\n",
    "print(f\"Sebelum:\\n{tweet_delete_number('in242i adal1321ah kalimat2 testing 12312yaaaaa!')}\")"
   ]
  },
  {
   "cell_type": "markdown",
   "id": "dae632ae-5d3a-4c1d-9978-5568197ff57f",
   "metadata": {},
   "source": [
    "#### Sebelum"
   ]
  },
  {
   "cell_type": "code",
   "execution_count": null,
   "id": "25e3f995-a67f-4cac-89ef-7e54ec23cf04",
   "metadata": {
    "tags": []
   },
   "outputs": [
    {
     "data": {
      "text/html": [
       "<div>\n",
       "<style scoped>\n",
       "    .dataframe tbody tr th:only-of-type {\n",
       "        vertical-align: middle;\n",
       "    }\n",
       "\n",
       "    .dataframe tbody tr th {\n",
       "        vertical-align: top;\n",
       "    }\n",
       "\n",
       "    .dataframe thead th {\n",
       "        text-align: right;\n",
       "    }\n",
       "</style>\n",
       "<table border=\"1\" class=\"dataframe\">\n",
       "  <thead>\n",
       "    <tr style=\"text-align: right;\">\n",
       "      <th></th>\n",
       "      <th>full_text</th>\n",
       "      <th>username</th>\n",
       "    </tr>\n",
       "  </thead>\n",
       "  <tbody>\n",
       "    <tr>\n",
       "      <th>0</th>\n",
       "      <td>aku yakin actually man city lobby untuk ensu...</td>\n",
       "      <td>amdjfr</td>\n",
       "    </tr>\n",
       "    <tr>\n",
       "      <th>1</th>\n",
       "      <td>tak baik taw ckp chelsea tu bawahan hebat j...</td>\n",
       "      <td>Fizhanmtdn</td>\n",
       "    </tr>\n",
       "    <tr>\n",
       "      <th>2</th>\n",
       "      <td>fa ada man city kalo chelsea masih ada harap...</td>\n",
       "      <td>eupatreat</td>\n",
       "    </tr>\n",
       "    <tr>\n",
       "      <th>3</th>\n",
       "      <td>rodri</td>\n",
       "      <td>Ritvars95LV</td>\n",
       "    </tr>\n",
       "    <tr>\n",
       "      <th>4</th>\n",
       "      <td>malam ganjil. gol ganjil  piala inggriss ekhhe...</td>\n",
       "      <td>abdanahmadd</td>\n",
       "    </tr>\n",
       "  </tbody>\n",
       "</table>\n",
       "</div>"
      ],
      "text/plain": [
       "                                           full_text     username\n",
       "0    aku yakin actually man city lobby untuk ensu...       amdjfr\n",
       "1     tak baik taw ckp chelsea tu bawahan hebat j...   Fizhanmtdn\n",
       "2    fa ada man city kalo chelsea masih ada harap...    eupatreat\n",
       "3                                             rodri   Ritvars95LV\n",
       "4  malam ganjil. gol ganjil  piala inggriss ekhhe...  abdanahmadd"
      ]
     },
     "execution_count": 80,
     "metadata": {},
     "output_type": "execute_result"
    }
   ],
   "source": [
    "testing_data.head()"
   ]
  },
  {
   "cell_type": "code",
   "execution_count": null,
   "id": "3f78d2e9-9e09-4b36-b548-99598b2f8c8e",
   "metadata": {},
   "outputs": [],
   "source": [
    "testing_data.to_excel('Dataset/Preposessing/Testing/sebelum_cleansing-menghapusangka.xlsx')"
   ]
  },
  {
   "cell_type": "markdown",
   "id": "74d193d1-7c3a-48b1-a842-63434ff0b902",
   "metadata": {},
   "source": [
    "#### Implementasi"
   ]
  },
  {
   "cell_type": "code",
   "execution_count": null,
   "id": "dab2a768-750e-4edb-8c00-08f89e01fdd0",
   "metadata": {
    "tags": []
   },
   "outputs": [
    {
     "name": "stdout",
     "output_type": "stream",
     "text": [
      "CPU times: user 5.34 ms, sys: 0 ns, total: 5.34 ms\n",
      "Wall time: 5.25 ms\n"
     ]
    }
   ],
   "source": [
    "%%time\n",
    "testing_data[\"full_text\"] = testing_data[\"full_text\"].apply(tweet_delete_number)"
   ]
  },
  {
   "cell_type": "markdown",
   "id": "189c7d00-005c-4dee-8333-0c3c716eef7c",
   "metadata": {},
   "source": [
    "#### Sesudah"
   ]
  },
  {
   "cell_type": "code",
   "execution_count": null,
   "id": "86f367ba-608c-4740-afce-8b47f8f8782c",
   "metadata": {
    "tags": []
   },
   "outputs": [
    {
     "data": {
      "text/html": [
       "<div>\n",
       "<style scoped>\n",
       "    .dataframe tbody tr th:only-of-type {\n",
       "        vertical-align: middle;\n",
       "    }\n",
       "\n",
       "    .dataframe tbody tr th {\n",
       "        vertical-align: top;\n",
       "    }\n",
       "\n",
       "    .dataframe thead th {\n",
       "        text-align: right;\n",
       "    }\n",
       "</style>\n",
       "<table border=\"1\" class=\"dataframe\">\n",
       "  <thead>\n",
       "    <tr style=\"text-align: right;\">\n",
       "      <th></th>\n",
       "      <th>full_text</th>\n",
       "      <th>username</th>\n",
       "    </tr>\n",
       "  </thead>\n",
       "  <tbody>\n",
       "    <tr>\n",
       "      <th>0</th>\n",
       "      <td>aku yakin actually man city lobby untuk ensu...</td>\n",
       "      <td>amdjfr</td>\n",
       "    </tr>\n",
       "    <tr>\n",
       "      <th>1</th>\n",
       "      <td>tak baik taw ckp chelsea tu bawahan hebat j...</td>\n",
       "      <td>Fizhanmtdn</td>\n",
       "    </tr>\n",
       "    <tr>\n",
       "      <th>2</th>\n",
       "      <td>fa ada man city kalo chelsea masih ada harap...</td>\n",
       "      <td>eupatreat</td>\n",
       "    </tr>\n",
       "    <tr>\n",
       "      <th>3</th>\n",
       "      <td>rodri</td>\n",
       "      <td>Ritvars95LV</td>\n",
       "    </tr>\n",
       "    <tr>\n",
       "      <th>4</th>\n",
       "      <td>malam ganjil. gol ganjil  piala inggriss ekhhe...</td>\n",
       "      <td>abdanahmadd</td>\n",
       "    </tr>\n",
       "  </tbody>\n",
       "</table>\n",
       "</div>"
      ],
      "text/plain": [
       "                                           full_text     username\n",
       "0    aku yakin actually man city lobby untuk ensu...       amdjfr\n",
       "1     tak baik taw ckp chelsea tu bawahan hebat j...   Fizhanmtdn\n",
       "2    fa ada man city kalo chelsea masih ada harap...    eupatreat\n",
       "3                                             rodri   Ritvars95LV\n",
       "4  malam ganjil. gol ganjil  piala inggriss ekhhe...  abdanahmadd"
      ]
     },
     "execution_count": 83,
     "metadata": {},
     "output_type": "execute_result"
    }
   ],
   "source": [
    "testing_data.head()"
   ]
  },
  {
   "cell_type": "code",
   "execution_count": null,
   "id": "ccc41980-26e1-425f-947b-01b6bc0a5e33",
   "metadata": {},
   "outputs": [],
   "source": [
    "testing_data.to_excel('Dataset/Preposessing/Testing/sesudah_cleansing-menghapusangka.xlsx')"
   ]
  },
  {
   "cell_type": "markdown",
   "id": "4de44a31-86c8-4af3-b594-383d461c80f1",
   "metadata": {
    "tags": []
   },
   "source": [
    "### Menghapus tanda baca"
   ]
  },
  {
   "cell_type": "code",
   "execution_count": null,
   "id": "d79f50f9-1d2a-43c0-8e13-8283c8c6a0a6",
   "metadata": {
    "tags": []
   },
   "outputs": [],
   "source": [
    "def tweet_delete_punctuation(tweet):\n",
    "    punctuationPattern = r'[^\\w\\s]' \n",
    "    tweet = re.sub(punctuationPattern, ' ', tweet)\n",
    "    \n",
    "    return tweet"
   ]
  },
  {
   "cell_type": "code",
   "execution_count": null,
   "id": "6b8e0c4e-bb6c-4f5d-b180-378e421da8c9",
   "metadata": {
    "tags": []
   },
   "outputs": [
    {
     "name": "stdout",
     "output_type": "stream",
     "text": [
      "Sebelum:\n",
      "eh seriusan?@pak_adang nasi padangnya enak banget gilaa! jadi pengen goyang nasi padan,g,.!!!! ehehe:)\n",
      "\n",
      "Sebelum:\n",
      "eh seriusan  pak_adang nasi padangnya enak banget gilaa  jadi pengen goyang nasi padan g       ehehe  \n"
     ]
    }
   ],
   "source": [
    "print(\"Sebelum:\\neh seriusan?@pak_adang nasi padangnya enak banget gilaa! jadi pengen goyang nasi padan,g,.!!!! ehehe:)\")\n",
    "print()\n",
    "print(f\"Sebelum:\\n{tweet_delete_punctuation('eh seriusan?@pak_adang nasi padangnya enak banget gilaa! jadi pengen goyang nasi padan,g,.!!!! ehehe:)')}\")"
   ]
  },
  {
   "cell_type": "markdown",
   "id": "e49cadbf-1f5c-462a-ba04-f058f9c68f0f",
   "metadata": {
    "tags": []
   },
   "source": [
    "#### Sebelum"
   ]
  },
  {
   "cell_type": "code",
   "execution_count": null,
   "id": "a4c58355-ee97-438b-93a7-168f6941ae58",
   "metadata": {
    "tags": []
   },
   "outputs": [
    {
     "data": {
      "text/html": [
       "<div>\n",
       "<style scoped>\n",
       "    .dataframe tbody tr th:only-of-type {\n",
       "        vertical-align: middle;\n",
       "    }\n",
       "\n",
       "    .dataframe tbody tr th {\n",
       "        vertical-align: top;\n",
       "    }\n",
       "\n",
       "    .dataframe thead th {\n",
       "        text-align: right;\n",
       "    }\n",
       "</style>\n",
       "<table border=\"1\" class=\"dataframe\">\n",
       "  <thead>\n",
       "    <tr style=\"text-align: right;\">\n",
       "      <th></th>\n",
       "      <th>full_text</th>\n",
       "      <th>username</th>\n",
       "    </tr>\n",
       "  </thead>\n",
       "  <tbody>\n",
       "    <tr>\n",
       "      <th>0</th>\n",
       "      <td>aku yakin actually man city lobby untuk ensu...</td>\n",
       "      <td>amdjfr</td>\n",
       "    </tr>\n",
       "    <tr>\n",
       "      <th>1</th>\n",
       "      <td>tak baik taw ckp chelsea tu bawahan hebat j...</td>\n",
       "      <td>Fizhanmtdn</td>\n",
       "    </tr>\n",
       "    <tr>\n",
       "      <th>2</th>\n",
       "      <td>fa ada man city kalo chelsea masih ada harap...</td>\n",
       "      <td>eupatreat</td>\n",
       "    </tr>\n",
       "    <tr>\n",
       "      <th>3</th>\n",
       "      <td>rodri</td>\n",
       "      <td>Ritvars95LV</td>\n",
       "    </tr>\n",
       "    <tr>\n",
       "      <th>4</th>\n",
       "      <td>malam ganjil. gol ganjil  piala inggriss ekhhe...</td>\n",
       "      <td>abdanahmadd</td>\n",
       "    </tr>\n",
       "  </tbody>\n",
       "</table>\n",
       "</div>"
      ],
      "text/plain": [
       "                                           full_text     username\n",
       "0    aku yakin actually man city lobby untuk ensu...       amdjfr\n",
       "1     tak baik taw ckp chelsea tu bawahan hebat j...   Fizhanmtdn\n",
       "2    fa ada man city kalo chelsea masih ada harap...    eupatreat\n",
       "3                                             rodri   Ritvars95LV\n",
       "4  malam ganjil. gol ganjil  piala inggriss ekhhe...  abdanahmadd"
      ]
     },
     "execution_count": 87,
     "metadata": {},
     "output_type": "execute_result"
    }
   ],
   "source": [
    "testing_data.head()"
   ]
  },
  {
   "cell_type": "code",
   "execution_count": null,
   "id": "214b8aa8-bd81-4fcd-abfa-d97a58378787",
   "metadata": {},
   "outputs": [],
   "source": [
    "testing_data.to_excel('Dataset/Preposessing/Testing/sebelum_cleansing-menghapustandabaca.xlsx')"
   ]
  },
  {
   "cell_type": "markdown",
   "id": "b43fe16c-6a39-49e6-89bf-d8e126ecf75e",
   "metadata": {},
   "source": [
    "#### Implementasi"
   ]
  },
  {
   "cell_type": "code",
   "execution_count": null,
   "id": "0f70586f-27ad-47fe-a9cc-d02d53f80b1c",
   "metadata": {
    "tags": []
   },
   "outputs": [
    {
     "name": "stdout",
     "output_type": "stream",
     "text": [
      "CPU times: user 3.04 ms, sys: 0 ns, total: 3.04 ms\n",
      "Wall time: 3 ms\n"
     ]
    }
   ],
   "source": [
    "%%time\n",
    "testing_data[\"full_text\"] = testing_data[\"full_text\"].apply(tweet_delete_punctuation)"
   ]
  },
  {
   "cell_type": "markdown",
   "id": "65df8a5b-9c3c-4ffb-94ef-d1f7cc11a46e",
   "metadata": {},
   "source": [
    "#### Sesudah"
   ]
  },
  {
   "cell_type": "code",
   "execution_count": null,
   "id": "fe6b6e89-9d05-4ed7-9b49-43a6974658a5",
   "metadata": {
    "tags": []
   },
   "outputs": [
    {
     "data": {
      "text/html": [
       "<div>\n",
       "<style scoped>\n",
       "    .dataframe tbody tr th:only-of-type {\n",
       "        vertical-align: middle;\n",
       "    }\n",
       "\n",
       "    .dataframe tbody tr th {\n",
       "        vertical-align: top;\n",
       "    }\n",
       "\n",
       "    .dataframe thead th {\n",
       "        text-align: right;\n",
       "    }\n",
       "</style>\n",
       "<table border=\"1\" class=\"dataframe\">\n",
       "  <thead>\n",
       "    <tr style=\"text-align: right;\">\n",
       "      <th></th>\n",
       "      <th>full_text</th>\n",
       "      <th>username</th>\n",
       "    </tr>\n",
       "  </thead>\n",
       "  <tbody>\n",
       "    <tr>\n",
       "      <th>0</th>\n",
       "      <td>aku yakin actually man city lobby untuk ensu...</td>\n",
       "      <td>amdjfr</td>\n",
       "    </tr>\n",
       "    <tr>\n",
       "      <th>1</th>\n",
       "      <td>tak baik taw ckp chelsea tu bawahan hebat j...</td>\n",
       "      <td>Fizhanmtdn</td>\n",
       "    </tr>\n",
       "    <tr>\n",
       "      <th>2</th>\n",
       "      <td>fa ada man city kalo chelsea masih ada harap...</td>\n",
       "      <td>eupatreat</td>\n",
       "    </tr>\n",
       "    <tr>\n",
       "      <th>3</th>\n",
       "      <td>rodri</td>\n",
       "      <td>Ritvars95LV</td>\n",
       "    </tr>\n",
       "    <tr>\n",
       "      <th>4</th>\n",
       "      <td>malam ganjil  gol ganjil  piala inggriss ekhhe...</td>\n",
       "      <td>abdanahmadd</td>\n",
       "    </tr>\n",
       "  </tbody>\n",
       "</table>\n",
       "</div>"
      ],
      "text/plain": [
       "                                           full_text     username\n",
       "0    aku yakin actually man city lobby untuk ensu...       amdjfr\n",
       "1     tak baik taw ckp chelsea tu bawahan hebat j...   Fizhanmtdn\n",
       "2    fa ada man city kalo chelsea masih ada harap...    eupatreat\n",
       "3                                             rodri   Ritvars95LV\n",
       "4  malam ganjil  gol ganjil  piala inggriss ekhhe...  abdanahmadd"
      ]
     },
     "execution_count": 90,
     "metadata": {},
     "output_type": "execute_result"
    }
   ],
   "source": [
    "testing_data.head()"
   ]
  },
  {
   "cell_type": "code",
   "execution_count": null,
   "id": "51d82542-7d62-40b8-b3d4-6e5dcd9a95af",
   "metadata": {},
   "outputs": [],
   "source": [
    "testing_data.to_excel('Dataset/Preposessing/Testing/sesudah_cleansing-menghapustandabaca.xlsx')"
   ]
  },
  {
   "cell_type": "markdown",
   "id": "187fd0cb-394d-4c5e-92c1-9b10ea7d813e",
   "metadata": {
    "tags": []
   },
   "source": [
    "### Menghapus Extra Spasi"
   ]
  },
  {
   "cell_type": "code",
   "execution_count": null,
   "id": "782da536-3514-414d-9c0f-b09fe5c980e6",
   "metadata": {
    "tags": []
   },
   "outputs": [],
   "source": [
    "def tweet_delete_extra_space(tweet):\n",
    "    tweet = re.sub(r\"\\s+\", \" \", tweet)\n",
    "    tweet = re.sub(r\"^\\s+|\\s+$\", \"\", tweet)\n",
    "    \n",
    "    return tweet"
   ]
  },
  {
   "cell_type": "code",
   "execution_count": null,
   "id": "dce73189-1531-4a06-b3b8-fc955b23ad3f",
   "metadata": {
    "tags": []
   },
   "outputs": [
    {
     "name": "stdout",
     "output_type": "stream",
     "text": [
      "Sebelum:\n",
      "yoooo  . apa kabar? \n",
      "\n",
      "Sesudah:\n",
      "yoooo. apa kabar?\n"
     ]
    }
   ],
   "source": [
    "print(\"Sebelum:\\nyoooo  . apa kabar? \")\n",
    "print()\n",
    "print(f\"Sesudah:\\n{tweet_delete_extra_space('yoooo.   apa kabar? ')}\")"
   ]
  },
  {
   "cell_type": "markdown",
   "id": "4d2ef0cf-5931-4c74-980c-be0c3fcbe279",
   "metadata": {},
   "source": [
    "#### Sebelum"
   ]
  },
  {
   "cell_type": "code",
   "execution_count": null,
   "id": "6dfd233a-f8ff-490d-9cf1-d5ab4fd13916",
   "metadata": {
    "tags": []
   },
   "outputs": [
    {
     "data": {
      "text/html": [
       "<div>\n",
       "<style scoped>\n",
       "    .dataframe tbody tr th:only-of-type {\n",
       "        vertical-align: middle;\n",
       "    }\n",
       "\n",
       "    .dataframe tbody tr th {\n",
       "        vertical-align: top;\n",
       "    }\n",
       "\n",
       "    .dataframe thead th {\n",
       "        text-align: right;\n",
       "    }\n",
       "</style>\n",
       "<table border=\"1\" class=\"dataframe\">\n",
       "  <thead>\n",
       "    <tr style=\"text-align: right;\">\n",
       "      <th></th>\n",
       "      <th>full_text</th>\n",
       "      <th>username</th>\n",
       "    </tr>\n",
       "  </thead>\n",
       "  <tbody>\n",
       "    <tr>\n",
       "      <th>0</th>\n",
       "      <td>aku yakin actually man city lobby untuk ensu...</td>\n",
       "      <td>amdjfr</td>\n",
       "    </tr>\n",
       "    <tr>\n",
       "      <th>1</th>\n",
       "      <td>tak baik taw ckp chelsea tu bawahan hebat j...</td>\n",
       "      <td>Fizhanmtdn</td>\n",
       "    </tr>\n",
       "    <tr>\n",
       "      <th>2</th>\n",
       "      <td>fa ada man city kalo chelsea masih ada harap...</td>\n",
       "      <td>eupatreat</td>\n",
       "    </tr>\n",
       "    <tr>\n",
       "      <th>3</th>\n",
       "      <td>rodri</td>\n",
       "      <td>Ritvars95LV</td>\n",
       "    </tr>\n",
       "    <tr>\n",
       "      <th>4</th>\n",
       "      <td>malam ganjil  gol ganjil  piala inggriss ekhhe...</td>\n",
       "      <td>abdanahmadd</td>\n",
       "    </tr>\n",
       "  </tbody>\n",
       "</table>\n",
       "</div>"
      ],
      "text/plain": [
       "                                           full_text     username\n",
       "0    aku yakin actually man city lobby untuk ensu...       amdjfr\n",
       "1     tak baik taw ckp chelsea tu bawahan hebat j...   Fizhanmtdn\n",
       "2    fa ada man city kalo chelsea masih ada harap...    eupatreat\n",
       "3                                             rodri   Ritvars95LV\n",
       "4  malam ganjil  gol ganjil  piala inggriss ekhhe...  abdanahmadd"
      ]
     },
     "execution_count": 94,
     "metadata": {},
     "output_type": "execute_result"
    }
   ],
   "source": [
    "testing_data.head()"
   ]
  },
  {
   "cell_type": "code",
   "execution_count": null,
   "id": "13328396-a2f1-42c5-8aa0-281538da1805",
   "metadata": {},
   "outputs": [],
   "source": [
    "testing_data.to_excel('Dataset/Preposessing/Testing/sebelum_cleansing-menghapusextraspasi.xlsx')"
   ]
  },
  {
   "cell_type": "markdown",
   "id": "14e2a2ab-50eb-46ec-8908-25e059879359",
   "metadata": {},
   "source": [
    "#### Implementasi"
   ]
  },
  {
   "cell_type": "code",
   "execution_count": null,
   "id": "b9e65496-e5c9-4120-a6d4-081495bf1002",
   "metadata": {
    "tags": []
   },
   "outputs": [
    {
     "name": "stdout",
     "output_type": "stream",
     "text": [
      "CPU times: user 13 ms, sys: 0 ns, total: 13 ms\n",
      "Wall time: 12.8 ms\n"
     ]
    }
   ],
   "source": [
    "%%time\n",
    "testing_data[\"full_text\"] = testing_data[\"full_text\"].apply(tweet_delete_extra_space)"
   ]
  },
  {
   "cell_type": "markdown",
   "id": "b16e68e7-e331-4e58-bf1c-46e17a0d1e01",
   "metadata": {},
   "source": [
    "#### Sesudah"
   ]
  },
  {
   "cell_type": "code",
   "execution_count": null,
   "id": "e6efabfe-6646-4f81-bcaa-cc7541f7c556",
   "metadata": {
    "tags": []
   },
   "outputs": [
    {
     "data": {
      "text/html": [
       "<div>\n",
       "<style scoped>\n",
       "    .dataframe tbody tr th:only-of-type {\n",
       "        vertical-align: middle;\n",
       "    }\n",
       "\n",
       "    .dataframe tbody tr th {\n",
       "        vertical-align: top;\n",
       "    }\n",
       "\n",
       "    .dataframe thead th {\n",
       "        text-align: right;\n",
       "    }\n",
       "</style>\n",
       "<table border=\"1\" class=\"dataframe\">\n",
       "  <thead>\n",
       "    <tr style=\"text-align: right;\">\n",
       "      <th></th>\n",
       "      <th>full_text</th>\n",
       "      <th>username</th>\n",
       "    </tr>\n",
       "  </thead>\n",
       "  <tbody>\n",
       "    <tr>\n",
       "      <th>0</th>\n",
       "      <td>aku yakin actually man city lobby untuk ensure...</td>\n",
       "      <td>amdjfr</td>\n",
       "    </tr>\n",
       "    <tr>\n",
       "      <th>1</th>\n",
       "      <td>tak baik taw ckp chelsea tu bawahan hebat jer ...</td>\n",
       "      <td>Fizhanmtdn</td>\n",
       "    </tr>\n",
       "    <tr>\n",
       "      <th>2</th>\n",
       "      <td>fa ada man city kalo chelsea masih ada harapan...</td>\n",
       "      <td>eupatreat</td>\n",
       "    </tr>\n",
       "    <tr>\n",
       "      <th>3</th>\n",
       "      <td>rodri</td>\n",
       "      <td>Ritvars95LV</td>\n",
       "    </tr>\n",
       "    <tr>\n",
       "      <th>4</th>\n",
       "      <td>malam ganjil gol ganjil piala inggriss ekhhem</td>\n",
       "      <td>abdanahmadd</td>\n",
       "    </tr>\n",
       "  </tbody>\n",
       "</table>\n",
       "</div>"
      ],
      "text/plain": [
       "                                           full_text     username\n",
       "0  aku yakin actually man city lobby untuk ensure...       amdjfr\n",
       "1  tak baik taw ckp chelsea tu bawahan hebat jer ...   Fizhanmtdn\n",
       "2  fa ada man city kalo chelsea masih ada harapan...    eupatreat\n",
       "3                                              rodri  Ritvars95LV\n",
       "4      malam ganjil gol ganjil piala inggriss ekhhem  abdanahmadd"
      ]
     },
     "execution_count": 97,
     "metadata": {},
     "output_type": "execute_result"
    }
   ],
   "source": [
    "testing_data.head()"
   ]
  },
  {
   "cell_type": "code",
   "execution_count": null,
   "id": "2f3e4739-691d-47b9-930a-bc33c98e4913",
   "metadata": {},
   "outputs": [],
   "source": [
    "testing_data.to_excel('Dataset/Preposessing/Testing/sesudah_cleansing-menghapusextraspasi.xlsx')"
   ]
  },
  {
   "cell_type": "markdown",
   "id": "60ba3f70-5aed-49cd-a289-049a84590502",
   "metadata": {},
   "source": [
    "## Tokenization"
   ]
  },
  {
   "cell_type": "code",
   "execution_count": null,
   "id": "454caed4-dd55-4448-946a-2b05e87d55e1",
   "metadata": {
    "tags": []
   },
   "outputs": [],
   "source": [
    "from nltk.tokenize import word_tokenize "
   ]
  },
  {
   "cell_type": "code",
   "execution_count": null,
   "id": "86a1d759-67f3-41f5-9d6c-0d0db43d6b79",
   "metadata": {
    "tags": []
   },
   "outputs": [],
   "source": [
    "def tweet_tokenize(tweet):\n",
    "    return word_tokenize(tweet)"
   ]
  },
  {
   "cell_type": "code",
   "execution_count": null,
   "id": "b8095858-91ba-4613-b109-ad699a239006",
   "metadata": {
    "tags": []
   },
   "outputs": [
    {
     "name": "stdout",
     "output_type": "stream",
     "text": [
      "['Kalo', 'kamu', 'pertukaran', 'pelajar', 'ke', 'Korea', ',', 'maka', 'aku', 'akan', 'setia', 'menunggumu', 'disini', '.']\n"
     ]
    }
   ],
   "source": [
    "example = \"Kalo kamu pertukaran pelajar ke Korea, maka aku akan setia menunggumu disini.\"\n",
    "tokens = tweet_tokenize(example)\n",
    "print(tokens)"
   ]
  },
  {
   "cell_type": "markdown",
   "id": "b85a7f7a-c4c6-45bc-8316-7b2ab426d60a",
   "metadata": {},
   "source": [
    "#### Sebelum"
   ]
  },
  {
   "cell_type": "code",
   "execution_count": null,
   "id": "d389b554-ee5b-4f4b-9acc-37f335f2147d",
   "metadata": {
    "tags": []
   },
   "outputs": [
    {
     "data": {
      "text/html": [
       "<div>\n",
       "<style scoped>\n",
       "    .dataframe tbody tr th:only-of-type {\n",
       "        vertical-align: middle;\n",
       "    }\n",
       "\n",
       "    .dataframe tbody tr th {\n",
       "        vertical-align: top;\n",
       "    }\n",
       "\n",
       "    .dataframe thead th {\n",
       "        text-align: right;\n",
       "    }\n",
       "</style>\n",
       "<table border=\"1\" class=\"dataframe\">\n",
       "  <thead>\n",
       "    <tr style=\"text-align: right;\">\n",
       "      <th></th>\n",
       "      <th>full_text</th>\n",
       "      <th>username</th>\n",
       "    </tr>\n",
       "  </thead>\n",
       "  <tbody>\n",
       "    <tr>\n",
       "      <th>0</th>\n",
       "      <td>aku yakin actually man city lobby untuk ensure...</td>\n",
       "      <td>amdjfr</td>\n",
       "    </tr>\n",
       "    <tr>\n",
       "      <th>1</th>\n",
       "      <td>tak baik taw ckp chelsea tu bawahan hebat jer ...</td>\n",
       "      <td>Fizhanmtdn</td>\n",
       "    </tr>\n",
       "    <tr>\n",
       "      <th>2</th>\n",
       "      <td>fa ada man city kalo chelsea masih ada harapan...</td>\n",
       "      <td>eupatreat</td>\n",
       "    </tr>\n",
       "    <tr>\n",
       "      <th>3</th>\n",
       "      <td>rodri</td>\n",
       "      <td>Ritvars95LV</td>\n",
       "    </tr>\n",
       "    <tr>\n",
       "      <th>4</th>\n",
       "      <td>malam ganjil gol ganjil piala inggriss ekhhem</td>\n",
       "      <td>abdanahmadd</td>\n",
       "    </tr>\n",
       "  </tbody>\n",
       "</table>\n",
       "</div>"
      ],
      "text/plain": [
       "                                           full_text     username\n",
       "0  aku yakin actually man city lobby untuk ensure...       amdjfr\n",
       "1  tak baik taw ckp chelsea tu bawahan hebat jer ...   Fizhanmtdn\n",
       "2  fa ada man city kalo chelsea masih ada harapan...    eupatreat\n",
       "3                                              rodri  Ritvars95LV\n",
       "4      malam ganjil gol ganjil piala inggriss ekhhem  abdanahmadd"
      ]
     },
     "execution_count": 102,
     "metadata": {},
     "output_type": "execute_result"
    }
   ],
   "source": [
    "testing_data.head()"
   ]
  },
  {
   "cell_type": "code",
   "execution_count": null,
   "id": "a7ba24a7-5817-4f83-885f-c1e88e67644b",
   "metadata": {},
   "outputs": [],
   "source": [
    "testing_data.to_excel('Dataset/Preposessing/Testing/sebelum_tokenization.xlsx')"
   ]
  },
  {
   "cell_type": "markdown",
   "id": "89133f96-0b09-4f54-84ab-ef1891277de5",
   "metadata": {},
   "source": [
    "#### Implementasi"
   ]
  },
  {
   "cell_type": "code",
   "execution_count": null,
   "id": "06da4377-c935-470c-a075-ffcbcc0b9085",
   "metadata": {
    "tags": []
   },
   "outputs": [
    {
     "name": "stdout",
     "output_type": "stream",
     "text": [
      "CPU times: user 95.9 ms, sys: 3.7 ms, total: 99.6 ms\n",
      "Wall time: 98.5 ms\n"
     ]
    }
   ],
   "source": [
    "%%time\n",
    "testing_data['full_text'] = testing_data['full_text'].apply(tweet_tokenize)"
   ]
  },
  {
   "cell_type": "markdown",
   "id": "d46bb356-3ff0-43cd-9290-6294321c564b",
   "metadata": {},
   "source": [
    "#### Sesudah"
   ]
  },
  {
   "cell_type": "code",
   "execution_count": null,
   "id": "d251514f-6486-449b-b4c4-60d9c23e1409",
   "metadata": {
    "tags": []
   },
   "outputs": [
    {
     "data": {
      "text/html": [
       "<div>\n",
       "<style scoped>\n",
       "    .dataframe tbody tr th:only-of-type {\n",
       "        vertical-align: middle;\n",
       "    }\n",
       "\n",
       "    .dataframe tbody tr th {\n",
       "        vertical-align: top;\n",
       "    }\n",
       "\n",
       "    .dataframe thead th {\n",
       "        text-align: right;\n",
       "    }\n",
       "</style>\n",
       "<table border=\"1\" class=\"dataframe\">\n",
       "  <thead>\n",
       "    <tr style=\"text-align: right;\">\n",
       "      <th></th>\n",
       "      <th>full_text</th>\n",
       "      <th>username</th>\n",
       "    </tr>\n",
       "  </thead>\n",
       "  <tbody>\n",
       "    <tr>\n",
       "      <th>0</th>\n",
       "      <td>[aku, yakin, actually, man, city, lobby, untuk...</td>\n",
       "      <td>amdjfr</td>\n",
       "    </tr>\n",
       "    <tr>\n",
       "      <th>1</th>\n",
       "      <td>[tak, baik, taw, ckp, chelsea, tu, bawahan, he...</td>\n",
       "      <td>Fizhanmtdn</td>\n",
       "    </tr>\n",
       "    <tr>\n",
       "      <th>2</th>\n",
       "      <td>[fa, ada, man, city, kalo, chelsea, masih, ada...</td>\n",
       "      <td>eupatreat</td>\n",
       "    </tr>\n",
       "    <tr>\n",
       "      <th>3</th>\n",
       "      <td>[rodri]</td>\n",
       "      <td>Ritvars95LV</td>\n",
       "    </tr>\n",
       "    <tr>\n",
       "      <th>4</th>\n",
       "      <td>[malam, ganjil, gol, ganjil, piala, inggriss, ...</td>\n",
       "      <td>abdanahmadd</td>\n",
       "    </tr>\n",
       "  </tbody>\n",
       "</table>\n",
       "</div>"
      ],
      "text/plain": [
       "                                           full_text     username\n",
       "0  [aku, yakin, actually, man, city, lobby, untuk...       amdjfr\n",
       "1  [tak, baik, taw, ckp, chelsea, tu, bawahan, he...   Fizhanmtdn\n",
       "2  [fa, ada, man, city, kalo, chelsea, masih, ada...    eupatreat\n",
       "3                                            [rodri]  Ritvars95LV\n",
       "4  [malam, ganjil, gol, ganjil, piala, inggriss, ...  abdanahmadd"
      ]
     },
     "execution_count": 105,
     "metadata": {},
     "output_type": "execute_result"
    }
   ],
   "source": [
    "testing_data.head()"
   ]
  },
  {
   "cell_type": "code",
   "execution_count": null,
   "id": "884c177c-45d8-4017-a341-da62b0a50ba7",
   "metadata": {},
   "outputs": [],
   "source": [
    "testing_data.to_excel('Dataset/Preposessing/Testing/sesudah_tokenization.xlsx')"
   ]
  },
  {
   "cell_type": "markdown",
   "id": "da4c33c1-7e4c-4c69-8989-e3a13e3e508a",
   "metadata": {},
   "source": [
    "## Normalization"
   ]
  },
  {
   "cell_type": "code",
   "execution_count": null,
   "id": "512f8dd4-f82e-4b92-876c-458ee44a00e8",
   "metadata": {
    "tags": []
   },
   "outputs": [],
   "source": [
    "def tweet_replace_contractions(tweet):\n",
    "    pattern = re.compile(r'\\b(' + '|'.join(re.escape(contraction) for contraction in kamus.keys()) + r')\\b')\n",
    "    # Replace the contractions with their corresponding replacements\n",
    "    tweet = pattern.sub(lambda x: kamus[x.group()], tweet)\n",
    "    return tweet"
   ]
  },
  {
   "cell_type": "code",
   "execution_count": null,
   "id": "df385d33-d5c0-42bd-a3ad-850632cd41a7",
   "metadata": {
    "tags": []
   },
   "outputs": [
    {
     "name": "stdout",
     "output_type": "stream",
     "text": [
      "kalau\n",
      "kamu\n",
      "pertukaran\n",
      "pelajar\n",
      "ke\n",
      "Korea\n",
      ",\n",
      "maka\n",
      "saya\n",
      "akan\n",
      "setia\n",
      "menunggumu\n",
      "disini\n",
      ".\n"
     ]
    }
   ],
   "source": [
    "example = \"klo kmu pertukaran pelajar ke Korea, maka ak akan setia menunggumu disini.\"\n",
    "tokens = tweet_tokenize(example)\n",
    "tokenz_with_expanded_contractions = [tweet_replace_contractions(tweet) for tweet in tokens]\n",
    "\n",
    "# Print the result\n",
    "for tweet in tokenz_with_expanded_contractions:\n",
    "    print(tweet)"
   ]
  },
  {
   "cell_type": "markdown",
   "id": "b1e8bd6c-9184-40b5-88bc-a90ead971e66",
   "metadata": {},
   "source": [
    "#### Sebelum"
   ]
  },
  {
   "cell_type": "code",
   "execution_count": null,
   "id": "bd25f679-fc12-4197-8244-00d318f43f7c",
   "metadata": {
    "tags": []
   },
   "outputs": [
    {
     "data": {
      "text/html": [
       "<div>\n",
       "<style scoped>\n",
       "    .dataframe tbody tr th:only-of-type {\n",
       "        vertical-align: middle;\n",
       "    }\n",
       "\n",
       "    .dataframe tbody tr th {\n",
       "        vertical-align: top;\n",
       "    }\n",
       "\n",
       "    .dataframe thead th {\n",
       "        text-align: right;\n",
       "    }\n",
       "</style>\n",
       "<table border=\"1\" class=\"dataframe\">\n",
       "  <thead>\n",
       "    <tr style=\"text-align: right;\">\n",
       "      <th></th>\n",
       "      <th>full_text</th>\n",
       "      <th>username</th>\n",
       "    </tr>\n",
       "  </thead>\n",
       "  <tbody>\n",
       "    <tr>\n",
       "      <th>0</th>\n",
       "      <td>[aku, yakin, actually, man, city, lobby, untuk...</td>\n",
       "      <td>amdjfr</td>\n",
       "    </tr>\n",
       "    <tr>\n",
       "      <th>1</th>\n",
       "      <td>[tak, baik, taw, ckp, chelsea, tu, bawahan, he...</td>\n",
       "      <td>Fizhanmtdn</td>\n",
       "    </tr>\n",
       "    <tr>\n",
       "      <th>2</th>\n",
       "      <td>[fa, ada, man, city, kalo, chelsea, masih, ada...</td>\n",
       "      <td>eupatreat</td>\n",
       "    </tr>\n",
       "    <tr>\n",
       "      <th>3</th>\n",
       "      <td>[rodri]</td>\n",
       "      <td>Ritvars95LV</td>\n",
       "    </tr>\n",
       "    <tr>\n",
       "      <th>4</th>\n",
       "      <td>[malam, ganjil, gol, ganjil, piala, inggriss, ...</td>\n",
       "      <td>abdanahmadd</td>\n",
       "    </tr>\n",
       "  </tbody>\n",
       "</table>\n",
       "</div>"
      ],
      "text/plain": [
       "                                           full_text     username\n",
       "0  [aku, yakin, actually, man, city, lobby, untuk...       amdjfr\n",
       "1  [tak, baik, taw, ckp, chelsea, tu, bawahan, he...   Fizhanmtdn\n",
       "2  [fa, ada, man, city, kalo, chelsea, masih, ada...    eupatreat\n",
       "3                                            [rodri]  Ritvars95LV\n",
       "4  [malam, ganjil, gol, ganjil, piala, inggriss, ...  abdanahmadd"
      ]
     },
     "execution_count": 109,
     "metadata": {},
     "output_type": "execute_result"
    }
   ],
   "source": [
    "testing_data.head()"
   ]
  },
  {
   "cell_type": "code",
   "execution_count": null,
   "id": "de9b6db2-9676-4ae7-8ecf-2074573d5d80",
   "metadata": {},
   "outputs": [],
   "source": [
    "testing_data.to_excel('Dataset/Preposessing/Testing/sebelum_normalization.xlsx')"
   ]
  },
  {
   "cell_type": "markdown",
   "id": "f909ba85-667f-4927-8e6f-d305d1ae3671",
   "metadata": {},
   "source": [
    "#### Implementasi"
   ]
  },
  {
   "cell_type": "code",
   "execution_count": null,
   "id": "55e41df3-9723-43c1-97cf-61e28245e060",
   "metadata": {
    "tags": []
   },
   "outputs": [
    {
     "name": "stdout",
     "output_type": "stream",
     "text": [
      "CPU times: user 11.4 s, sys: 0 ns, total: 11.4 s\n",
      "Wall time: 11.4 s\n"
     ]
    }
   ],
   "source": [
    "%%time\n",
    "for i in range(0,len(testing_data)):\n",
    "    himpunan_kata=[]\n",
    "    for tokenize_tweet in testing_data[\"full_text\"][i]:\n",
    "        tokenize_tweet = tweet_replace_contractions(tokenize_tweet)\n",
    "        himpunan_kata.append(tokenize_tweet)\n",
    "    testing_data[\"full_text\"][i]=himpunan_kata\n",
    "    i+1"
   ]
  },
  {
   "cell_type": "markdown",
   "id": "efd92c55-38a7-44b9-81ab-c2acc4e8ebe5",
   "metadata": {},
   "source": [
    "#### Sesudah"
   ]
  },
  {
   "cell_type": "code",
   "execution_count": null,
   "id": "3a3aca80-3ccf-45d0-8c01-16881a641328",
   "metadata": {
    "tags": []
   },
   "outputs": [
    {
     "data": {
      "text/html": [
       "<div>\n",
       "<style scoped>\n",
       "    .dataframe tbody tr th:only-of-type {\n",
       "        vertical-align: middle;\n",
       "    }\n",
       "\n",
       "    .dataframe tbody tr th {\n",
       "        vertical-align: top;\n",
       "    }\n",
       "\n",
       "    .dataframe thead th {\n",
       "        text-align: right;\n",
       "    }\n",
       "</style>\n",
       "<table border=\"1\" class=\"dataframe\">\n",
       "  <thead>\n",
       "    <tr style=\"text-align: right;\">\n",
       "      <th></th>\n",
       "      <th>full_text</th>\n",
       "      <th>username</th>\n",
       "    </tr>\n",
       "  </thead>\n",
       "  <tbody>\n",
       "    <tr>\n",
       "      <th>0</th>\n",
       "      <td>[saya, yakin, actually, man, city, lobby, untu...</td>\n",
       "      <td>amdjfr</td>\n",
       "    </tr>\n",
       "    <tr>\n",
       "      <th>1</th>\n",
       "      <td>[tak, baik, taw, cukup, chelsea, itu, bawahan,...</td>\n",
       "      <td>Fizhanmtdn</td>\n",
       "    </tr>\n",
       "    <tr>\n",
       "      <th>2</th>\n",
       "      <td>[fa, ada, man, city, kalau, chelsea, masih, ad...</td>\n",
       "      <td>eupatreat</td>\n",
       "    </tr>\n",
       "    <tr>\n",
       "      <th>3</th>\n",
       "      <td>[rodri]</td>\n",
       "      <td>Ritvars95LV</td>\n",
       "    </tr>\n",
       "    <tr>\n",
       "      <th>4</th>\n",
       "      <td>[malam, ganjil, gol, ganjil, piala, inggriss, ...</td>\n",
       "      <td>abdanahmadd</td>\n",
       "    </tr>\n",
       "  </tbody>\n",
       "</table>\n",
       "</div>"
      ],
      "text/plain": [
       "                                           full_text     username\n",
       "0  [saya, yakin, actually, man, city, lobby, untu...       amdjfr\n",
       "1  [tak, baik, taw, cukup, chelsea, itu, bawahan,...   Fizhanmtdn\n",
       "2  [fa, ada, man, city, kalau, chelsea, masih, ad...    eupatreat\n",
       "3                                            [rodri]  Ritvars95LV\n",
       "4  [malam, ganjil, gol, ganjil, piala, inggriss, ...  abdanahmadd"
      ]
     },
     "execution_count": 112,
     "metadata": {},
     "output_type": "execute_result"
    }
   ],
   "source": [
    "testing_data.head()"
   ]
  },
  {
   "cell_type": "code",
   "execution_count": null,
   "id": "63e3ce03-b65d-4360-9cae-19381b9ff644",
   "metadata": {},
   "outputs": [],
   "source": [
    "testing_data.to_excel('Dataset/Preposessing/Testing/sesudah_normalization.xlsx')"
   ]
  },
  {
   "cell_type": "markdown",
   "id": "5797c863-d657-4680-b828-c3fe49bda5e6",
   "metadata": {},
   "source": [
    "### Stopwords"
   ]
  },
  {
   "cell_type": "code",
   "execution_count": null,
   "id": "1bb45ffc-df2b-4782-a5e4-b45b415c32f6",
   "metadata": {
    "tags": []
   },
   "outputs": [],
   "source": [
    "def tweet_stopwords_removal(tweet):\n",
    "    factory = StopWordRemoverFactory()\n",
    "    stopword = factory.create_stop_word_remover()\n",
    "    tweet = stopword.remove(tweet)\n",
    "    return tweet"
   ]
  },
  {
   "cell_type": "code",
   "execution_count": null,
   "id": "a74553a1-28fc-4001-9fb9-86eeb6abe381",
   "metadata": {
    "tags": []
   },
   "outputs": [
    {
     "name": "stdout",
     "output_type": "stream",
     "text": [
      "klo kmu pertukaran pelajar  Korea ,  ak  setia menunggumu  sini . "
     ]
    }
   ],
   "source": [
    "example = \"klo kmu pertukaran pelajar ke Korea, maka ak akan setia menunggumu di sini.\"\n",
    "tokens = tweet_tokenize(example)\n",
    "tokenz_with_stop_removed = [tweet_stopwords_removal(tweet) for tweet in tokens]\n",
    "\n",
    "# Print the result\n",
    "for tweet in tokenz_with_stop_removed:\n",
    "    print(tweet,end=\" \")"
   ]
  },
  {
   "cell_type": "markdown",
   "id": "6483fcfb-f52f-4d18-87e5-a9038041278a",
   "metadata": {},
   "source": [
    "#### Sebelum"
   ]
  },
  {
   "cell_type": "code",
   "execution_count": null,
   "id": "501bebc2-d098-4b66-8591-120eced53336",
   "metadata": {
    "tags": []
   },
   "outputs": [
    {
     "data": {
      "text/html": [
       "<div>\n",
       "<style scoped>\n",
       "    .dataframe tbody tr th:only-of-type {\n",
       "        vertical-align: middle;\n",
       "    }\n",
       "\n",
       "    .dataframe tbody tr th {\n",
       "        vertical-align: top;\n",
       "    }\n",
       "\n",
       "    .dataframe thead th {\n",
       "        text-align: right;\n",
       "    }\n",
       "</style>\n",
       "<table border=\"1\" class=\"dataframe\">\n",
       "  <thead>\n",
       "    <tr style=\"text-align: right;\">\n",
       "      <th></th>\n",
       "      <th>full_text</th>\n",
       "      <th>username</th>\n",
       "    </tr>\n",
       "  </thead>\n",
       "  <tbody>\n",
       "    <tr>\n",
       "      <th>0</th>\n",
       "      <td>[saya, yakin, actually, man, city, lobby, untu...</td>\n",
       "      <td>amdjfr</td>\n",
       "    </tr>\n",
       "    <tr>\n",
       "      <th>1</th>\n",
       "      <td>[tak, baik, taw, cukup, chelsea, itu, bawahan,...</td>\n",
       "      <td>Fizhanmtdn</td>\n",
       "    </tr>\n",
       "    <tr>\n",
       "      <th>2</th>\n",
       "      <td>[fa, ada, man, city, kalau, chelsea, masih, ad...</td>\n",
       "      <td>eupatreat</td>\n",
       "    </tr>\n",
       "    <tr>\n",
       "      <th>3</th>\n",
       "      <td>[rodri]</td>\n",
       "      <td>Ritvars95LV</td>\n",
       "    </tr>\n",
       "    <tr>\n",
       "      <th>4</th>\n",
       "      <td>[malam, ganjil, gol, ganjil, piala, inggriss, ...</td>\n",
       "      <td>abdanahmadd</td>\n",
       "    </tr>\n",
       "  </tbody>\n",
       "</table>\n",
       "</div>"
      ],
      "text/plain": [
       "                                           full_text     username\n",
       "0  [saya, yakin, actually, man, city, lobby, untu...       amdjfr\n",
       "1  [tak, baik, taw, cukup, chelsea, itu, bawahan,...   Fizhanmtdn\n",
       "2  [fa, ada, man, city, kalau, chelsea, masih, ad...    eupatreat\n",
       "3                                            [rodri]  Ritvars95LV\n",
       "4  [malam, ganjil, gol, ganjil, piala, inggriss, ...  abdanahmadd"
      ]
     },
     "execution_count": 116,
     "metadata": {},
     "output_type": "execute_result"
    }
   ],
   "source": [
    "testing_data.head()"
   ]
  },
  {
   "cell_type": "code",
   "execution_count": null,
   "id": "c4893b2f-9df1-4552-b644-1b30d42a8c1f",
   "metadata": {},
   "outputs": [],
   "source": [
    "testing_data.to_excel('Dataset/Preposessing/Testing/sebelum_stopword.xlsx')"
   ]
  },
  {
   "cell_type": "markdown",
   "id": "0778b780-66e5-4c7d-a211-fd16f5795ca5",
   "metadata": {},
   "source": [
    "#### Implementasi"
   ]
  },
  {
   "cell_type": "code",
   "execution_count": null,
   "id": "ddf78e36-2b0d-4a2b-bcb9-51ea2be38c37",
   "metadata": {
    "tags": []
   },
   "outputs": [
    {
     "name": "stdout",
     "output_type": "stream",
     "text": [
      "CPU times: user 642 ms, sys: 12.2 ms, total: 654 ms\n",
      "Wall time: 644 ms\n"
     ]
    }
   ],
   "source": [
    "%%time\n",
    "for i in range(0,len(testing_data)):\n",
    "    himpunan_kata=[]\n",
    "    for tokenize_tweet in testing_data[\"full_text\"][i]:\n",
    "        tokenize_tweet = tweet_stopwords_removal(tokenize_tweet)\n",
    "        if tokenize_tweet == \"\":\n",
    "            pass\n",
    "        else:\n",
    "            himpunan_kata.append(tokenize_tweet)\n",
    "    testing_data[\"full_text\"][i]=himpunan_kata\n",
    "    i+1"
   ]
  },
  {
   "cell_type": "markdown",
   "id": "45e61c1a-3ddd-4c67-bee5-89e5c180e19e",
   "metadata": {},
   "source": [
    "#### Sesudah"
   ]
  },
  {
   "cell_type": "code",
   "execution_count": null,
   "id": "035e2466-f989-43d1-bfa1-f3e531833e88",
   "metadata": {
    "tags": []
   },
   "outputs": [
    {
     "data": {
      "text/html": [
       "<div>\n",
       "<style scoped>\n",
       "    .dataframe tbody tr th:only-of-type {\n",
       "        vertical-align: middle;\n",
       "    }\n",
       "\n",
       "    .dataframe tbody tr th {\n",
       "        vertical-align: top;\n",
       "    }\n",
       "\n",
       "    .dataframe thead th {\n",
       "        text-align: right;\n",
       "    }\n",
       "</style>\n",
       "<table border=\"1\" class=\"dataframe\">\n",
       "  <thead>\n",
       "    <tr style=\"text-align: right;\">\n",
       "      <th></th>\n",
       "      <th>full_text</th>\n",
       "      <th>username</th>\n",
       "    </tr>\n",
       "  </thead>\n",
       "  <tbody>\n",
       "    <tr>\n",
       "      <th>0</th>\n",
       "      <td>[yakin, actually, man, city, lobby, ensure, te...</td>\n",
       "      <td>amdjfr</td>\n",
       "    </tr>\n",
       "    <tr>\n",
       "      <th>1</th>\n",
       "      <td>[tak, baik, taw, cukup, chelsea, bawahan, heba...</td>\n",
       "      <td>Fizhanmtdn</td>\n",
       "    </tr>\n",
       "    <tr>\n",
       "      <th>2</th>\n",
       "      <td>[fa, man, city, kalau, chelsea, harapan, menang]</td>\n",
       "      <td>eupatreat</td>\n",
       "    </tr>\n",
       "    <tr>\n",
       "      <th>3</th>\n",
       "      <td>[rodri]</td>\n",
       "      <td>Ritvars95LV</td>\n",
       "    </tr>\n",
       "    <tr>\n",
       "      <th>4</th>\n",
       "      <td>[malam, ganjil, gol, ganjil, piala, inggriss, ...</td>\n",
       "      <td>abdanahmadd</td>\n",
       "    </tr>\n",
       "  </tbody>\n",
       "</table>\n",
       "</div>"
      ],
      "text/plain": [
       "                                           full_text     username\n",
       "0  [yakin, actually, man, city, lobby, ensure, te...       amdjfr\n",
       "1  [tak, baik, taw, cukup, chelsea, bawahan, heba...   Fizhanmtdn\n",
       "2   [fa, man, city, kalau, chelsea, harapan, menang]    eupatreat\n",
       "3                                            [rodri]  Ritvars95LV\n",
       "4  [malam, ganjil, gol, ganjil, piala, inggriss, ...  abdanahmadd"
      ]
     },
     "execution_count": 119,
     "metadata": {},
     "output_type": "execute_result"
    }
   ],
   "source": [
    "testing_data.head()"
   ]
  },
  {
   "cell_type": "code",
   "execution_count": null,
   "id": "584cb865-d09f-49a3-8f12-b5e627652561",
   "metadata": {},
   "outputs": [],
   "source": [
    "testing_data.to_excel('Dataset/Preposessing/Testing/sesudah_stopword.xlsx')"
   ]
  },
  {
   "cell_type": "markdown",
   "id": "91f272e0-bd2a-48f9-b433-03dab22a3138",
   "metadata": {},
   "source": [
    "## Emoji Transformation"
   ]
  },
  {
   "cell_type": "code",
   "execution_count": null,
   "id": "7bf5ca0a-e535-4662-824b-3a3c33ad8a98",
   "metadata": {
    "tags": []
   },
   "outputs": [
    {
     "name": "stdout",
     "output_type": "stream",
     "text": [
      "Collecting emoji\n",
      "  Downloading emoji-2.11.1-py2.py3-none-any.whl.metadata (5.3 kB)\n",
      "Downloading emoji-2.11.1-py2.py3-none-any.whl (433 kB)\n",
      "\u001b[2K   \u001b[90m━━━━━━━━━━━━━━━━━━━━━━━━━━━━━━━━━━━━━━━━\u001b[0m \u001b[32m433.8/433.8 kB\u001b[0m \u001b[31m33.3 MB/s\u001b[0m eta \u001b[36m0:00:00\u001b[0m\n",
      "\u001b[?25hInstalling collected packages: emoji\n",
      "Successfully installed emoji-2.11.1\n"
     ]
    }
   ],
   "source": [
    "! pip install emoji"
   ]
  },
  {
   "cell_type": "code",
   "execution_count": null,
   "id": "173231ea-ad04-48c5-853d-470508a3df91",
   "metadata": {
    "tags": []
   },
   "outputs": [],
   "source": [
    "import emoji"
   ]
  },
  {
   "cell_type": "code",
   "execution_count": null,
   "id": "7c3207b8-740f-4016-a134-c1698b2de660",
   "metadata": {
    "tags": []
   },
   "outputs": [
    {
     "name": "stdout",
     "output_type": "stream",
     "text": [
      "Collecting googletrans\n",
      "  Downloading googletrans-3.0.0.tar.gz (17 kB)\n",
      "  Preparing metadata (setup.py) ... \u001b[?25ldone\n",
      "\u001b[?25hCollecting httpx==0.13.3 (from googletrans)\n",
      "  Downloading httpx-0.13.3-py3-none-any.whl.metadata (25 kB)\n",
      "Requirement already satisfied: certifi in /home/ec2-user/anaconda3/envs/python3/lib/python3.10/site-packages (from httpx==0.13.3->googletrans) (2024.2.2)\n",
      "Collecting hstspreload (from httpx==0.13.3->googletrans)\n",
      "  Downloading hstspreload-2024.4.1-py3-none-any.whl.metadata (2.1 kB)\n",
      "Requirement already satisfied: sniffio in /home/ec2-user/anaconda3/envs/python3/lib/python3.10/site-packages (from httpx==0.13.3->googletrans) (1.3.0)\n",
      "Collecting chardet==3.* (from httpx==0.13.3->googletrans)\n",
      "  Downloading chardet-3.0.4-py2.py3-none-any.whl.metadata (3.2 kB)\n",
      "Collecting idna==2.* (from httpx==0.13.3->googletrans)\n",
      "  Downloading idna-2.10-py2.py3-none-any.whl.metadata (9.1 kB)\n",
      "Collecting rfc3986<2,>=1.3 (from httpx==0.13.3->googletrans)\n",
      "  Downloading rfc3986-1.5.0-py2.py3-none-any.whl.metadata (6.5 kB)\n",
      "Collecting httpcore==0.9.* (from httpx==0.13.3->googletrans)\n",
      "  Downloading httpcore-0.9.1-py3-none-any.whl.metadata (4.6 kB)\n",
      "Collecting h11<0.10,>=0.8 (from httpcore==0.9.*->httpx==0.13.3->googletrans)\n",
      "  Downloading h11-0.9.0-py2.py3-none-any.whl.metadata (8.1 kB)\n",
      "Collecting h2==3.* (from httpcore==0.9.*->httpx==0.13.3->googletrans)\n",
      "  Downloading h2-3.2.0-py2.py3-none-any.whl.metadata (32 kB)\n",
      "Collecting hyperframe<6,>=5.2.0 (from h2==3.*->httpcore==0.9.*->httpx==0.13.3->googletrans)\n",
      "  Downloading hyperframe-5.2.0-py2.py3-none-any.whl.metadata (7.2 kB)\n",
      "Collecting hpack<4,>=3.0 (from h2==3.*->httpcore==0.9.*->httpx==0.13.3->googletrans)\n",
      "  Downloading hpack-3.0.0-py2.py3-none-any.whl.metadata (7.0 kB)\n",
      "Downloading httpx-0.13.3-py3-none-any.whl (55 kB)\n",
      "\u001b[2K   \u001b[90m━━━━━━━━━━━━━━━━━━━━━━━━━━━━━━━━━━━━━━━━\u001b[0m \u001b[32m55.1/55.1 kB\u001b[0m \u001b[31m10.9 MB/s\u001b[0m eta \u001b[36m0:00:00\u001b[0m\n",
      "\u001b[?25hDownloading chardet-3.0.4-py2.py3-none-any.whl (133 kB)\n",
      "\u001b[2K   \u001b[90m━━━━━━━━━━━━━━━━━━━━━━━━━━━━━━━━━━━━━━━━\u001b[0m \u001b[32m133.4/133.4 kB\u001b[0m \u001b[31m18.3 MB/s\u001b[0m eta \u001b[36m0:00:00\u001b[0m\n",
      "\u001b[?25hDownloading httpcore-0.9.1-py3-none-any.whl (42 kB)\n",
      "\u001b[2K   \u001b[90m━━━━━━━━━━━━━━━━━━━━━━━━━━━━━━━━━━━━━━━━\u001b[0m \u001b[32m42.6/42.6 kB\u001b[0m \u001b[31m8.5 MB/s\u001b[0m eta \u001b[36m0:00:00\u001b[0m\n",
      "\u001b[?25hDownloading idna-2.10-py2.py3-none-any.whl (58 kB)\n",
      "\u001b[2K   \u001b[90m━━━━━━━━━━━━━━━━━━━━━━━━━━━━━━━━━━━━━━━━\u001b[0m \u001b[32m58.8/58.8 kB\u001b[0m \u001b[31m12.2 MB/s\u001b[0m eta \u001b[36m0:00:00\u001b[0m\n",
      "\u001b[?25hDownloading h2-3.2.0-py2.py3-none-any.whl (65 kB)\n",
      "\u001b[2K   \u001b[90m━━━━━━━━━━━━━━━━━━━━━━━━━━━━━━━━━━━━━━━━\u001b[0m \u001b[32m65.0/65.0 kB\u001b[0m \u001b[31m12.7 MB/s\u001b[0m eta \u001b[36m0:00:00\u001b[0m\n",
      "\u001b[?25hDownloading rfc3986-1.5.0-py2.py3-none-any.whl (31 kB)\n",
      "Downloading hstspreload-2024.4.1-py3-none-any.whl (1.1 MB)\n",
      "\u001b[2K   \u001b[90m━━━━━━━━━━━━━━━━━━━━━━━━━━━━━━━━━━━━━━━━\u001b[0m \u001b[32m1.1/1.1 MB\u001b[0m \u001b[31m85.0 MB/s\u001b[0m eta \u001b[36m0:00:00\u001b[0m\n",
      "\u001b[?25hDownloading h11-0.9.0-py2.py3-none-any.whl (53 kB)\n",
      "\u001b[2K   \u001b[90m━━━━━━━━━━━━━━━━━━━━━━━━━━━━━━━━━━━━━━━━\u001b[0m \u001b[32m53.6/53.6 kB\u001b[0m \u001b[31m10.0 MB/s\u001b[0m eta \u001b[36m0:00:00\u001b[0m\n",
      "\u001b[?25hDownloading hpack-3.0.0-py2.py3-none-any.whl (38 kB)\n",
      "Downloading hyperframe-5.2.0-py2.py3-none-any.whl (12 kB)\n",
      "Building wheels for collected packages: googletrans\n",
      "  Building wheel for googletrans (setup.py) ... \u001b[?25ldone\n",
      "\u001b[?25h  Created wheel for googletrans: filename=googletrans-3.0.0-py3-none-any.whl size=15715 sha256=b756c93dea8acfb79e11dfa31db73dc4ce7f82449bbd01c752249d41a2cff431\n",
      "  Stored in directory: /home/ec2-user/.cache/pip/wheels/b3/81/ea/8b030407f8ebfc2f857814e086bb22ca2d4fea1a7be63652ab\n",
      "Successfully built googletrans\n",
      "Installing collected packages: rfc3986, hyperframe, hpack, h11, chardet, idna, hstspreload, h2, httpcore, httpx, googletrans\n",
      "  Attempting uninstall: hyperframe\n",
      "    Found existing installation: hyperframe 6.0.1\n",
      "    Uninstalling hyperframe-6.0.1:\n",
      "      Successfully uninstalled hyperframe-6.0.1\n",
      "  Attempting uninstall: hpack\n",
      "    Found existing installation: hpack 4.0.0\n",
      "    Uninstalling hpack-4.0.0:\n",
      "      Successfully uninstalled hpack-4.0.0\n",
      "  Attempting uninstall: h11\n",
      "    Found existing installation: h11 0.14.0\n",
      "    Uninstalling h11-0.14.0:\n",
      "      Successfully uninstalled h11-0.14.0\n",
      "  Attempting uninstall: chardet\n",
      "    Found existing installation: chardet 5.2.0\n",
      "    Uninstalling chardet-5.2.0:\n",
      "      Successfully uninstalled chardet-5.2.0\n",
      "  Attempting uninstall: idna\n",
      "    Found existing installation: idna 3.6\n",
      "    Uninstalling idna-3.6:\n",
      "      Successfully uninstalled idna-3.6\n",
      "  Attempting uninstall: h2\n",
      "    Found existing installation: h2 4.1.0\n",
      "    Uninstalling h2-4.1.0:\n",
      "      Successfully uninstalled h2-4.1.0\n",
      "  Attempting uninstall: httpcore\n",
      "    Found existing installation: httpcore 1.0.4\n",
      "    Uninstalling httpcore-1.0.4:\n",
      "      Successfully uninstalled httpcore-1.0.4\n",
      "  Attempting uninstall: httpx\n",
      "    Found existing installation: httpx 0.27.0\n",
      "    Uninstalling httpx-0.27.0:\n",
      "      Successfully uninstalled httpx-0.27.0\n",
      "\u001b[31mERROR: pip's dependency resolver does not currently take into account all the packages that are installed. This behaviour is the source of the following dependency conflicts.\n",
      "jupyterlab 4.1.2 requires httpx>=0.25.0, but you have httpx 0.13.3 which is incompatible.\n",
      "sparkmagic 0.21.0 requires pandas<2.0.0,>=0.17.1, but you have pandas 2.2.0 which is incompatible.\n",
      "sphinx 7.2.6 requires docutils<0.21,>=0.18.1, but you have docutils 0.16 which is incompatible.\u001b[0m\u001b[31m\n",
      "\u001b[0mSuccessfully installed chardet-3.0.4 googletrans-3.0.0 h11-0.9.0 h2-3.2.0 hpack-3.0.0 hstspreload-2024.4.1 httpcore-0.9.1 httpx-0.13.3 hyperframe-5.2.0 idna-2.10 rfc3986-1.5.0\n"
     ]
    }
   ],
   "source": [
    "! pip install googletrans"
   ]
  },
  {
   "cell_type": "code",
   "execution_count": null,
   "id": "74192a46-a32f-45e6-97fa-6b359b1145b0",
   "metadata": {
    "tags": []
   },
   "outputs": [],
   "source": [
    "from googletrans import Translator"
   ]
  },
  {
   "cell_type": "code",
   "execution_count": null,
   "id": "1f46abce-7c87-4f57-b252-2c1c09735e41",
   "metadata": {
    "tags": []
   },
   "outputs": [],
   "source": [
    "def tweet_delete_emoji(tweet):\n",
    "    tweet = emoji.demojize(tweet)\n",
    "    return tweet"
   ]
  },
  {
   "cell_type": "code",
   "execution_count": null,
   "id": "ba373122-bafd-47b2-8ae8-a002dc38d9d1",
   "metadata": {
    "tags": []
   },
   "outputs": [
    {
     "name": "stdout",
     "output_type": "stream",
     "text": [
      "klo kmu pertukaran pelajar ke Korea :smiling_face_with_heart-eyes: , maka ak akan setia menunggumu di sini :red_heart::red_heart::red_heart: . "
     ]
    }
   ],
   "source": [
    "example = \"klo kmu pertukaran pelajar ke Korea 😍,  maka ak akan setia menunggumu di sini ❤️❤️❤️.\"\n",
    "tokens = tweet_tokenize(example)\n",
    "tokenz_with_emoji_removed = [tweet_delete_emoji(tweet) for tweet in tokens]\n",
    "\n",
    "# Print the result\n",
    "for tweet in tokenz_with_emoji_removed:\n",
    "    print(tweet,end=\" \")"
   ]
  },
  {
   "cell_type": "markdown",
   "id": "09721db9-a915-4c80-b4ac-c64cab437f82",
   "metadata": {},
   "source": [
    "#### Sebelum"
   ]
  },
  {
   "cell_type": "code",
   "execution_count": null,
   "id": "eaebe970-e50d-475c-8091-578aff222307",
   "metadata": {
    "tags": []
   },
   "outputs": [
    {
     "data": {
      "text/html": [
       "<div>\n",
       "<style scoped>\n",
       "    .dataframe tbody tr th:only-of-type {\n",
       "        vertical-align: middle;\n",
       "    }\n",
       "\n",
       "    .dataframe tbody tr th {\n",
       "        vertical-align: top;\n",
       "    }\n",
       "\n",
       "    .dataframe thead th {\n",
       "        text-align: right;\n",
       "    }\n",
       "</style>\n",
       "<table border=\"1\" class=\"dataframe\">\n",
       "  <thead>\n",
       "    <tr style=\"text-align: right;\">\n",
       "      <th></th>\n",
       "      <th>full_text</th>\n",
       "      <th>username</th>\n",
       "    </tr>\n",
       "  </thead>\n",
       "  <tbody>\n",
       "    <tr>\n",
       "      <th>0</th>\n",
       "      <td>[yakin, actually, man, city, lobby, ensure, te...</td>\n",
       "      <td>amdjfr</td>\n",
       "    </tr>\n",
       "    <tr>\n",
       "      <th>1</th>\n",
       "      <td>[tak, baik, taw, cukup, chelsea, bawahan, heba...</td>\n",
       "      <td>Fizhanmtdn</td>\n",
       "    </tr>\n",
       "    <tr>\n",
       "      <th>2</th>\n",
       "      <td>[fa, man, city, kalau, chelsea, harapan, menang]</td>\n",
       "      <td>eupatreat</td>\n",
       "    </tr>\n",
       "    <tr>\n",
       "      <th>3</th>\n",
       "      <td>[rodri]</td>\n",
       "      <td>Ritvars95LV</td>\n",
       "    </tr>\n",
       "    <tr>\n",
       "      <th>4</th>\n",
       "      <td>[malam, ganjil, gol, ganjil, piala, inggriss, ...</td>\n",
       "      <td>abdanahmadd</td>\n",
       "    </tr>\n",
       "  </tbody>\n",
       "</table>\n",
       "</div>"
      ],
      "text/plain": [
       "                                           full_text     username\n",
       "0  [yakin, actually, man, city, lobby, ensure, te...       amdjfr\n",
       "1  [tak, baik, taw, cukup, chelsea, bawahan, heba...   Fizhanmtdn\n",
       "2   [fa, man, city, kalau, chelsea, harapan, menang]    eupatreat\n",
       "3                                            [rodri]  Ritvars95LV\n",
       "4  [malam, ganjil, gol, ganjil, piala, inggriss, ...  abdanahmadd"
      ]
     },
     "execution_count": 123,
     "metadata": {},
     "output_type": "execute_result"
    }
   ],
   "source": [
    "testing_data.head()"
   ]
  },
  {
   "cell_type": "code",
   "execution_count": null,
   "id": "9b44312d-dbb9-4b59-b4c3-17f95053f8f9",
   "metadata": {},
   "outputs": [],
   "source": [
    "testing_data.to_excel('Dataset/Preposessing/Testing/sebelum_emoji.xlsx')"
   ]
  },
  {
   "cell_type": "markdown",
   "id": "5006f1bf-9bcb-4b53-86b3-3fabb9a346b7",
   "metadata": {},
   "source": [
    "#### Implementasi"
   ]
  },
  {
   "cell_type": "code",
   "execution_count": null,
   "id": "c2e42805-91fa-4d96-b66e-020fb31a698e",
   "metadata": {
    "tags": []
   },
   "outputs": [
    {
     "name": "stdout",
     "output_type": "stream",
     "text": [
      "CPU times: user 709 ms, sys: 4.15 ms, total: 713 ms\n",
      "Wall time: 703 ms\n"
     ]
    }
   ],
   "source": [
    "%%time\n",
    "for i in range(0,len(testing_data)):\n",
    "    himpunan_kata=[]\n",
    "    for tokenize_tweet in testing_data[\"full_text\"][i]:\n",
    "        tokenize_tweet = tweet_delete_emoji(tokenize_tweet)\n",
    "        if tokenize_tweet == \"\":\n",
    "            pass\n",
    "        else:\n",
    "            himpunan_kata.append(tokenize_tweet)\n",
    "    testing_data[\"full_text\"][i]=himpunan_kata\n",
    "    i+1"
   ]
  },
  {
   "cell_type": "markdown",
   "id": "b24656a8-9127-472d-8258-2d7922e203b5",
   "metadata": {},
   "source": [
    "#### Sesudah"
   ]
  },
  {
   "cell_type": "code",
   "execution_count": null,
   "id": "5c8bddf6-77be-4761-9d5c-1ff15cb442ee",
   "metadata": {
    "tags": []
   },
   "outputs": [
    {
     "data": {
      "text/html": [
       "<div>\n",
       "<style scoped>\n",
       "    .dataframe tbody tr th:only-of-type {\n",
       "        vertical-align: middle;\n",
       "    }\n",
       "\n",
       "    .dataframe tbody tr th {\n",
       "        vertical-align: top;\n",
       "    }\n",
       "\n",
       "    .dataframe thead th {\n",
       "        text-align: right;\n",
       "    }\n",
       "</style>\n",
       "<table border=\"1\" class=\"dataframe\">\n",
       "  <thead>\n",
       "    <tr style=\"text-align: right;\">\n",
       "      <th></th>\n",
       "      <th>full_text</th>\n",
       "      <th>username</th>\n",
       "    </tr>\n",
       "  </thead>\n",
       "  <tbody>\n",
       "    <tr>\n",
       "      <th>0</th>\n",
       "      <td>[yakin, actually, man, city, lobby, ensure, te...</td>\n",
       "      <td>amdjfr</td>\n",
       "    </tr>\n",
       "    <tr>\n",
       "      <th>1</th>\n",
       "      <td>[tak, baik, taw, cukup, chelsea, bawahan, heba...</td>\n",
       "      <td>Fizhanmtdn</td>\n",
       "    </tr>\n",
       "    <tr>\n",
       "      <th>2</th>\n",
       "      <td>[fa, man, city, kalau, chelsea, harapan, menang]</td>\n",
       "      <td>eupatreat</td>\n",
       "    </tr>\n",
       "    <tr>\n",
       "      <th>3</th>\n",
       "      <td>[rodri]</td>\n",
       "      <td>Ritvars95LV</td>\n",
       "    </tr>\n",
       "    <tr>\n",
       "      <th>4</th>\n",
       "      <td>[malam, ganjil, gol, ganjil, piala, inggriss, ...</td>\n",
       "      <td>abdanahmadd</td>\n",
       "    </tr>\n",
       "  </tbody>\n",
       "</table>\n",
       "</div>"
      ],
      "text/plain": [
       "                                           full_text     username\n",
       "0  [yakin, actually, man, city, lobby, ensure, te...       amdjfr\n",
       "1  [tak, baik, taw, cukup, chelsea, bawahan, heba...   Fizhanmtdn\n",
       "2   [fa, man, city, kalau, chelsea, harapan, menang]    eupatreat\n",
       "3                                            [rodri]  Ritvars95LV\n",
       "4  [malam, ganjil, gol, ganjil, piala, inggriss, ...  abdanahmadd"
      ]
     },
     "execution_count": 126,
     "metadata": {},
     "output_type": "execute_result"
    }
   ],
   "source": [
    "testing_data.head()"
   ]
  },
  {
   "cell_type": "code",
   "execution_count": null,
   "id": "28d47955-d46e-4a2c-9d7d-f7c4179aa275",
   "metadata": {},
   "outputs": [],
   "source": [
    "testing_data.to_excel('Dataset/Preposessing/Testing/sebelum_emoji.xlsx')"
   ]
  },
  {
   "cell_type": "markdown",
   "id": "631d2e3e-15eb-43f0-a540-c4f41a7b32f0",
   "metadata": {},
   "source": [
    "## Clean"
   ]
  }
 ],
 "metadata": {
  "kernelspec": {
   "display_name": "Python 3",
   "language": "python",
   "name": "python3"
  },
  "language_info": {
   "codemirror_mode": {
    "name": "ipython",
    "version": 3
   },
   "file_extension": ".py",
   "mimetype": "text/x-python",
   "name": "python",
   "nbconvert_exporter": "python",
   "pygments_lexer": "ipython3",
   "version": "3.11.5"
  }
 },
 "nbformat": 4,
 "nbformat_minor": 5
}
