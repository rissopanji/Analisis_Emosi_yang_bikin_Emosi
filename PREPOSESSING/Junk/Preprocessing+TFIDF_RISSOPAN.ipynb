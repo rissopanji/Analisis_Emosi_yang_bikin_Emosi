{
 "cells": [
  {
   "cell_type": "markdown",
   "id": "4d4b444c",
   "metadata": {},
   "source": [
    "## **Preposessing Dataset Training**\n",
    "\n",
    "---\n",
    "\n",
    "NIM/NAMA     : 10120729/Rissopan Panji Prayogi"
   ]
  },
  {
   "cell_type": "markdown",
   "id": "2c1057f6",
   "metadata": {},
   "source": [
    "## Installing Package"
   ]
  },
  {
   "cell_type": "code",
   "execution_count": 3,
   "id": "cd7b1767-1c30-4129-ab82-b019e3a80e2d",
   "metadata": {
    "execution": {
     "iopub.execute_input": "2024-05-20T00:33:21.867887Z",
     "iopub.status.busy": "2024-05-20T00:33:21.866916Z",
     "iopub.status.idle": "2024-05-20T00:34:18.292972Z",
     "shell.execute_reply": "2024-05-20T00:34:18.291492Z"
    },
    "tags": []
   },
   "outputs": [
    {
     "name": "stdout",
     "output_type": "stream",
     "text": [
      "Requirement already satisfied: sastrawi in c:\\users\\temp\\miniconda3\\lib\\site-packages (1.0.1)\n"
     ]
    }
   ],
   "source": [
    "! pip install sastrawi"
   ]
  },
  {
   "cell_type": "markdown",
   "id": "ad0f5381",
   "metadata": {},
   "source": [
    "## Import Library"
   ]
  },
  {
   "cell_type": "code",
   "execution_count": 4,
   "id": "bf6ba0d2-3ab7-44d2-9a67-5a0ed171b85f",
   "metadata": {
    "tags": []
   },
   "outputs": [],
   "source": [
    "import pandas as pd\n",
    "import numpy\n",
    "import collections\n",
    "import matplotlib.pyplot as plt\n",
    "import seaborn as sns\n",
    "%matplotlib inline\n",
    "\n",
    "import re\n",
    "from nltk import tokenize\n",
    "from Sastrawi.StopWordRemover.StopWordRemoverFactory import StopWordRemoverFactory\n",
    "\n",
    "import warnings\n",
    "warnings.filterwarnings(\"ignore\")\n",
    "\n",
    "from IPython.display import display, HTML"
   ]
  },
  {
   "cell_type": "markdown",
   "id": "23cdc988-e8bd-431f-9c56-f9b7f657367b",
   "metadata": {
    "tags": []
   },
   "source": [
    "# Load Data"
   ]
  },
  {
   "cell_type": "code",
   "execution_count": 5,
   "id": "85da2d93-3fca-45a8-be37-cc53757d8718",
   "metadata": {
    "tags": []
   },
   "outputs": [],
   "source": [
    "\n",
    "train_data = pd.DataFrame({\n",
    "    'full_text': [\n",
    "        \"Menurut Sri dan Cahyana, ChatGPT masuk dalam kategori pioneer alias pelopor seperti Super Apps dan Metaverse.\",\n",
    "        \"ChatGPT revolusioner dibanding search engine yang memberikan sumber-sumber jawaban, karena bisa merespon pertanyaan langsung membuatkan bentuk sumber jawabannya.\",\n",
    "        \"Rekor yang pernah dicapai ChatGPT, masih menurut data dari buku ini, adalah lulus ujian kedokteran di Amerika Serikat (AS). Hal ini bisa dicapai karena ChatGPT dilatih menggunakan dataset 300 miliar kata yang berasal dari dataset berukuran 570 GB dan terdiri dari crawled laman, buku, Wikipedia dll.\"\n",
    "    ]\n",
    "})\n"
   ]
  },
  {
   "cell_type": "markdown",
   "id": "a6a39c0f-f0f0-462b-9b4f-878cca6da25d",
   "metadata": {
    "tags": []
   },
   "source": [
    "# EDA"
   ]
  },
  {
   "cell_type": "markdown",
   "id": "27f13fae-1676-41b4-8832-53924802862a",
   "metadata": {},
   "source": [
    "Sebelum melakukan preprossing pada data, akan dilakukan eda secara singkat untuk melihat tipe data dan null values pada data."
   ]
  },
  {
   "cell_type": "code",
   "execution_count": 6,
   "id": "3119b05d-8d13-427b-8c9f-23aae89fcf28",
   "metadata": {
    "tags": []
   },
   "outputs": [
    {
     "data": {
      "text/html": [
       "<div>\n",
       "<style scoped>\n",
       "    .dataframe tbody tr th:only-of-type {\n",
       "        vertical-align: middle;\n",
       "    }\n",
       "\n",
       "    .dataframe tbody tr th {\n",
       "        vertical-align: top;\n",
       "    }\n",
       "\n",
       "    .dataframe thead th {\n",
       "        text-align: right;\n",
       "    }\n",
       "</style>\n",
       "<table border=\"1\" class=\"dataframe\">\n",
       "  <thead>\n",
       "    <tr style=\"text-align: right;\">\n",
       "      <th></th>\n",
       "      <th>full_text</th>\n",
       "    </tr>\n",
       "  </thead>\n",
       "  <tbody>\n",
       "    <tr>\n",
       "      <th>0</th>\n",
       "      <td>Menurut Sri dan Cahyana, ChatGPT masuk dalam k...</td>\n",
       "    </tr>\n",
       "    <tr>\n",
       "      <th>1</th>\n",
       "      <td>ChatGPT revolusioner dibanding search engine y...</td>\n",
       "    </tr>\n",
       "    <tr>\n",
       "      <th>2</th>\n",
       "      <td>Rekor yang pernah dicapai ChatGPT, masih menur...</td>\n",
       "    </tr>\n",
       "  </tbody>\n",
       "</table>\n",
       "</div>"
      ],
      "text/plain": [
       "                                           full_text\n",
       "0  Menurut Sri dan Cahyana, ChatGPT masuk dalam k...\n",
       "1  ChatGPT revolusioner dibanding search engine y...\n",
       "2  Rekor yang pernah dicapai ChatGPT, masih menur..."
      ]
     },
     "execution_count": 6,
     "metadata": {},
     "output_type": "execute_result"
    }
   ],
   "source": [
    "train_data"
   ]
  },
  {
   "cell_type": "markdown",
   "id": "f7bc35d6-0c0a-401a-a253-1c217660c0b5",
   "metadata": {},
   "source": [
    "## Null Values"
   ]
  },
  {
   "cell_type": "code",
   "execution_count": 7,
   "id": "b49ae05e-2af9-4309-8277-d851a1620f62",
   "metadata": {
    "tags": []
   },
   "outputs": [
    {
     "name": "stdout",
     "output_type": "stream",
     "text": [
      "Jumlah null values: 0\n"
     ]
    }
   ],
   "source": [
    "null_count = train_data.isnull().sum().sum()\n",
    "print(\"Jumlah null values:\", null_count)\n"
   ]
  },
  {
   "cell_type": "markdown",
   "id": "ad4a747a-c8c8-435b-bbb7-d958403e6de8",
   "metadata": {},
   "source": [
    "## Data Types"
   ]
  },
  {
   "cell_type": "code",
   "execution_count": 8,
   "id": "81000f35-90d4-4019-9337-2384744cf933",
   "metadata": {
    "tags": []
   },
   "outputs": [
    {
     "name": "stdout",
     "output_type": "stream",
     "text": [
      "Rata-rata panjang karakter setiap paragraf: 189.67\n"
     ]
    }
   ],
   "source": [
    "# Bagi teks menjadi beberapa paragraf\n",
    "paragraphs = train_data['full_text'].str.split('\\n').explode()\n",
    "\n",
    "# Hitung panjang karakter dari setiap paragraf\n",
    "lengths = paragraphs.str.len()\n",
    "\n",
    "# Hitung rata-rata panjang karakter\n",
    "average_length = lengths.mean()\n",
    "\n",
    "print(f\"Rata-rata panjang karakter setiap paragraf: {average_length:.2f}\")\n"
   ]
  },
  {
   "cell_type": "code",
   "execution_count": 9,
   "id": "33aad1cd-e0a1-4bc2-a354-4cfc1c9a18cc",
   "metadata": {
    "tags": []
   },
   "outputs": [
    {
     "name": "stdout",
     "output_type": "stream",
     "text": [
      "Jumlah panjang karakter : 3\n"
     ]
    }
   ],
   "source": [
    "total_length = len(train_data)\n",
    "print(f\"Jumlah panjang karakter : {total_length}\")"
   ]
  },
  {
   "cell_type": "code",
   "execution_count": 10,
   "id": "b05b53ca-5d3f-4b22-80f5-835ce84b836a",
   "metadata": {
    "tags": []
   },
   "outputs": [
    {
     "name": "stdout",
     "output_type": "stream",
     "text": [
      "Jumlah kata: 80\n"
     ]
    }
   ],
   "source": [
    "# Memisahkan teks menjadi kata-kata\n",
    "words = train_data['full_text'].str.split().explode()\n",
    "\n",
    "# Menghitung jumlah kata\n",
    "word_count = len(words)\n",
    "\n",
    "print(f\"Jumlah kata: {word_count}\")\n"
   ]
  },
  {
   "cell_type": "code",
   "execution_count": 11,
   "id": "cfc79ca5-72b4-4729-935e-c6a5d37faabf",
   "metadata": {
    "tags": []
   },
   "outputs": [
    {
     "data": {
      "image/png": "[encoded data removed]",
      "text/plain": [
       "<Figure size 1000x500 with 1 Axes>"
      ]
     },
     "metadata": {},
     "output_type": "display_data"
    }
   ],
   "source": [
    "from wordcloud import WordCloud\n",
    "import matplotlib.pyplot as plt\n",
    "\n",
    "# Memisahkan teks menjadi kata-kata\n",
    "words = train_data['full_text'].str.split().explode()\n",
    "\n",
    "# Menggabungkan kata-kata menjadi satu string\n",
    "all_words = ' '.join(words)\n",
    "\n",
    "# Membuat wordcloud\n",
    "wordcloud = WordCloud(width=800, height=400, background_color='white').generate(all_words)\n",
    "\n",
    "# Menampilkan wordcloud\n",
    "plt.figure(figsize=(10, 5))\n",
    "plt.imshow(wordcloud, interpolation='bilinear')\n",
    "plt.axis('off')\n",
    "plt.show()\n"
   ]
  },
  {
   "cell_type": "markdown",
   "id": "377fdcc1-317f-4423-b1a4-7526e3f750f9",
   "metadata": {},
   "source": [
    "# Preprocessing"
   ]
  },
  {
   "cell_type": "code",
   "execution_count": 12,
   "id": "029d2489",
   "metadata": {},
   "outputs": [],
   "source": [
    "import copy\n",
    "\n",
    "train_data_copy = copy.deepcopy(train_data)\n"
   ]
  },
  {
   "cell_type": "code",
   "execution_count": 13,
   "id": "e9c60a40",
   "metadata": {},
   "outputs": [],
   "source": [
    "import copy\n",
    "\n",
    "train_data_2 = copy.deepcopy(train_data)"
   ]
  },
  {
   "cell_type": "markdown",
   "id": "422c044f-a5e3-4553-ae4c-a4848d1aab34",
   "metadata": {
    "tags": []
   },
   "source": [
    "## Case Folding"
   ]
  },
  {
   "cell_type": "markdown",
   "id": "6e9b35f2-6609-41f7-bfa3-dff461d7867c",
   "metadata": {},
   "source": [
    "### Lowercase"
   ]
  },
  {
   "cell_type": "code",
   "execution_count": 14,
   "id": "4d368300-e1c9-442f-ac37-da7d820a5d90",
   "metadata": {
    "tags": []
   },
   "outputs": [],
   "source": [
    "def full_text_lowercase(full_text):\n",
    "    full_text = full_text.lower()\n",
    "    return full_text"
   ]
  },
  {
   "cell_type": "code",
   "execution_count": 15,
   "id": "fc206bd4-8555-4157-a469-c8893a77e103",
   "metadata": {
    "tags": []
   },
   "outputs": [
    {
     "name": "stdout",
     "output_type": "stream",
     "text": [
      "CPU times: total: 0 ns\n",
      "Wall time: 1 ms\n"
     ]
    }
   ],
   "source": [
    "%%time\n",
    "train_data[\"full_text\"] = train_data[\"full_text\"].apply(full_text_lowercase)"
   ]
  },
  {
   "cell_type": "code",
   "execution_count": 16,
   "id": "32a4af9c-6286-46ba-9534-2e1a1dcc9705",
   "metadata": {
    "tags": []
   },
   "outputs": [
    {
     "data": {
      "text/html": [
       "<table border=\"1\" class=\"dataframe\">\n",
       "  <thead>\n",
       "    <tr style=\"text-align: right;\">\n",
       "      <th></th>\n",
       "      <th>Before</th>\n",
       "      <th>After</th>\n",
       "    </tr>\n",
       "  </thead>\n",
       "  <tbody>\n",
       "    <tr>\n",
       "      <th>0</th>\n",
       "      <td>Menurut Sri dan Cahyana, ChatGPT masuk dalam kategori pioneer alias pelopor seperti Super Apps dan Metaverse.</td>\n",
       "      <td>menurut sri dan cahyana, chatgpt masuk dalam kategori pioneer alias pelopor seperti super apps dan metaverse.</td>\n",
       "    </tr>\n",
       "    <tr>\n",
       "      <th>1</th>\n",
       "      <td>ChatGPT revolusioner dibanding search engine yang memberikan sumber-sumber jawaban, karena bisa merespon pertanyaan langsung membuatkan bentuk sumber jawabannya.</td>\n",
       "      <td>chatgpt revolusioner dibanding search engine yang memberikan sumber-sumber jawaban, karena bisa merespon pertanyaan langsung membuatkan bentuk sumber jawabannya.</td>\n",
       "    </tr>\n",
       "    <tr>\n",
       "      <th>2</th>\n",
       "      <td>Rekor yang pernah dicapai ChatGPT, masih menurut data dari buku ini, adalah lulus ujian kedokteran di Amerika Serikat (AS). Hal ini bisa dicapai karena ChatGPT dilatih menggunakan dataset 300 miliar kata yang berasal dari dataset berukuran 570 GB dan terdiri dari crawled laman, buku, Wikipedia dll.</td>\n",
       "      <td>rekor yang pernah dicapai chatgpt, masih menurut data dari buku ini, adalah lulus ujian kedokteran di amerika serikat (as). hal ini bisa dicapai karena chatgpt dilatih menggunakan dataset 300 miliar kata yang berasal dari dataset berukuran 570 gb dan terdiri dari crawled laman, buku, wikipedia dll.</td>\n",
       "    </tr>\n",
       "  </tbody>\n",
       "</table>"
      ],
      "text/plain": [
       "<IPython.core.display.HTML object>"
      ]
     },
     "metadata": {},
     "output_type": "display_data"
    }
   ],
   "source": [
    "comparison_df = pd.DataFrame({\n",
    "    'Before ': train_data_copy['full_text'],\n",
    "    'After ': train_data['full_text']\n",
    "})\n",
    "\n",
    "\n",
    "pd.options.display.max_colwidth = 150\n",
    "\n",
    "\n",
    "display(HTML(comparison_df.head(10).to_html()))"
   ]
  },
  {
   "cell_type": "code",
   "execution_count": 17,
   "id": "937c0cce",
   "metadata": {},
   "outputs": [
    {
     "name": "stdout",
     "output_type": "stream",
     "text": [
      "CPU times: total: 0 ns\n",
      "Wall time: 1e+03 µs\n"
     ]
    }
   ],
   "source": [
    "%%time\n",
    "train_data_copy[\"full_text\"] = train_data_copy[\"full_text\"].apply(full_text_lowercase)"
   ]
  },
  {
   "cell_type": "markdown",
   "id": "888a196f-5fa1-4fbc-94b3-37e3e27af189",
   "metadata": {
    "tags": []
   },
   "source": [
    "## Cleansing"
   ]
  },
  {
   "cell_type": "markdown",
   "id": "85d1dee7-224f-4281-bbf5-45547f237d68",
   "metadata": {},
   "source": [
    "### Menghapus username"
   ]
  },
  {
   "cell_type": "code",
   "execution_count": 18,
   "id": "47f4be40-6a84-42b6-ac3d-8d544b770c5d",
   "metadata": {
    "tags": []
   },
   "outputs": [],
   "source": [
    "def full_text_delete_username(full_text):\n",
    "    userPattern       = '@[^\\s]+'\n",
    "    # Ngehapus kata \"username\" \n",
    "    full_text = re.sub(userPattern, '', full_text)\n",
    "    \n",
    "    return full_text"
   ]
  },
  {
   "cell_type": "code",
   "execution_count": 19,
   "id": "c22a1460-b9cc-485b-a6d2-344e1a1d9ae1",
   "metadata": {
    "tags": []
   },
   "outputs": [
    {
     "name": "stdout",
     "output_type": "stream",
     "text": [
      "CPU times: total: 0 ns\n",
      "Wall time: 0 ns\n"
     ]
    }
   ],
   "source": [
    "%%time\n",
    "train_data[\"full_text\"] = train_data[\"full_text\"].apply(full_text_delete_username)"
   ]
  },
  {
   "cell_type": "code",
   "execution_count": 20,
   "id": "6b3665de-1c30-4f37-8538-543bebd7f0b3",
   "metadata": {
    "tags": []
   },
   "outputs": [
    {
     "data": {
      "text/html": [
       "<table border=\"1\" class=\"dataframe\">\n",
       "  <thead>\n",
       "    <tr style=\"text-align: right;\">\n",
       "      <th></th>\n",
       "      <th>Before</th>\n",
       "      <th>After</th>\n",
       "    </tr>\n",
       "  </thead>\n",
       "  <tbody>\n",
       "    <tr>\n",
       "      <th>0</th>\n",
       "      <td>menurut sri dan cahyana, chatgpt masuk dalam kategori pioneer alias pelopor seperti super apps dan metaverse.</td>\n",
       "      <td>menurut sri dan cahyana, chatgpt masuk dalam kategori pioneer alias pelopor seperti super apps dan metaverse.</td>\n",
       "    </tr>\n",
       "    <tr>\n",
       "      <th>1</th>\n",
       "      <td>chatgpt revolusioner dibanding search engine yang memberikan sumber-sumber jawaban, karena bisa merespon pertanyaan langsung membuatkan bentuk sumber jawabannya.</td>\n",
       "      <td>chatgpt revolusioner dibanding search engine yang memberikan sumber-sumber jawaban, karena bisa merespon pertanyaan langsung membuatkan bentuk sumber jawabannya.</td>\n",
       "    </tr>\n",
       "    <tr>\n",
       "      <th>2</th>\n",
       "      <td>rekor yang pernah dicapai chatgpt, masih menurut data dari buku ini, adalah lulus ujian kedokteran di amerika serikat (as). hal ini bisa dicapai karena chatgpt dilatih menggunakan dataset 300 miliar kata yang berasal dari dataset berukuran 570 gb dan terdiri dari crawled laman, buku, wikipedia dll.</td>\n",
       "      <td>rekor yang pernah dicapai chatgpt, masih menurut data dari buku ini, adalah lulus ujian kedokteran di amerika serikat (as). hal ini bisa dicapai karena chatgpt dilatih menggunakan dataset 300 miliar kata yang berasal dari dataset berukuran 570 gb dan terdiri dari crawled laman, buku, wikipedia dll.</td>\n",
       "    </tr>\n",
       "  </tbody>\n",
       "</table>"
      ],
      "text/plain": [
       "<IPython.core.display.HTML object>"
      ]
     },
     "metadata": {},
     "output_type": "display_data"
    }
   ],
   "source": [
    "comparison_df = pd.DataFrame({\n",
    "    'Before ': train_data_copy['full_text'],\n",
    "    'After ': train_data['full_text']\n",
    "})\n",
    "\n",
    "\n",
    "pd.options.display.max_colwidth = 150\n",
    "\n",
    "\n",
    "display(HTML(comparison_df.head(10).to_html()))"
   ]
  },
  {
   "cell_type": "code",
   "execution_count": 21,
   "id": "60ab09bf",
   "metadata": {},
   "outputs": [
    {
     "name": "stdout",
     "output_type": "stream",
     "text": [
      "CPU times: total: 0 ns\n",
      "Wall time: 998 µs\n"
     ]
    }
   ],
   "source": [
    "%%time\n",
    "train_data_copy[\"full_text\"] = train_data_copy[\"full_text\"].apply(full_text_delete_username)"
   ]
  },
  {
   "cell_type": "markdown",
   "id": "9ed28683-35c7-4b64-8257-54c223c6c1a6",
   "metadata": {},
   "source": [
    "### Menghapus url"
   ]
  },
  {
   "cell_type": "code",
   "execution_count": 22,
   "id": "c94b527b-3338-4093-9c4f-381c7bb2b4c5",
   "metadata": {
    "tags": []
   },
   "outputs": [],
   "source": [
    "def full_text_delete_url(full_text):\n",
    "    urlPattern        = r\"((http://)[^ ]*|(https://)[^ ]*|(www\\.)[^ ]*|url)\" #Pola ngehapus url\n",
    "    full_text = re.sub(urlPattern, '', full_text)\n",
    "    return full_text"
   ]
  },
  {
   "cell_type": "code",
   "execution_count": 23,
   "id": "7524736f-51cc-4b56-9d72-b69c52cb0e03",
   "metadata": {
    "tags": []
   },
   "outputs": [
    {
     "name": "stdout",
     "output_type": "stream",
     "text": [
      "CPU times: total: 0 ns\n",
      "Wall time: 1 ms\n"
     ]
    }
   ],
   "source": [
    "%%time\n",
    "train_data[\"full_text\"] = train_data[\"full_text\"].apply(full_text_delete_url)"
   ]
  },
  {
   "cell_type": "code",
   "execution_count": 24,
   "id": "adecf461-d905-4052-9412-fedffc9148dd",
   "metadata": {
    "tags": []
   },
   "outputs": [
    {
     "data": {
      "text/html": [
       "<table border=\"1\" class=\"dataframe\">\n",
       "  <thead>\n",
       "    <tr style=\"text-align: right;\">\n",
       "      <th></th>\n",
       "      <th>Before</th>\n",
       "      <th>After</th>\n",
       "    </tr>\n",
       "  </thead>\n",
       "  <tbody>\n",
       "    <tr>\n",
       "      <th>0</th>\n",
       "      <td>menurut sri dan cahyana, chatgpt masuk dalam kategori pioneer alias pelopor seperti super apps dan metaverse.</td>\n",
       "      <td>menurut sri dan cahyana, chatgpt masuk dalam kategori pioneer alias pelopor seperti super apps dan metaverse.</td>\n",
       "    </tr>\n",
       "    <tr>\n",
       "      <th>1</th>\n",
       "      <td>chatgpt revolusioner dibanding search engine yang memberikan sumber-sumber jawaban, karena bisa merespon pertanyaan langsung membuatkan bentuk sumber jawabannya.</td>\n",
       "      <td>chatgpt revolusioner dibanding search engine yang memberikan sumber-sumber jawaban, karena bisa merespon pertanyaan langsung membuatkan bentuk sumber jawabannya.</td>\n",
       "    </tr>\n",
       "    <tr>\n",
       "      <th>2</th>\n",
       "      <td>rekor yang pernah dicapai chatgpt, masih menurut data dari buku ini, adalah lulus ujian kedokteran di amerika serikat (as). hal ini bisa dicapai karena chatgpt dilatih menggunakan dataset 300 miliar kata yang berasal dari dataset berukuran 570 gb dan terdiri dari crawled laman, buku, wikipedia dll.</td>\n",
       "      <td>rekor yang pernah dicapai chatgpt, masih menurut data dari buku ini, adalah lulus ujian kedokteran di amerika serikat (as). hal ini bisa dicapai karena chatgpt dilatih menggunakan dataset 300 miliar kata yang berasal dari dataset berukuran 570 gb dan terdiri dari crawled laman, buku, wikipedia dll.</td>\n",
       "    </tr>\n",
       "  </tbody>\n",
       "</table>"
      ],
      "text/plain": [
       "<IPython.core.display.HTML object>"
      ]
     },
     "metadata": {},
     "output_type": "display_data"
    }
   ],
   "source": [
    "comparison_df = pd.DataFrame({\n",
    "    'Before ': train_data_copy['full_text'],\n",
    "    'After ': train_data['full_text']\n",
    "})\n",
    "\n",
    "\n",
    "pd.options.display.max_colwidth = 150\n",
    "\n",
    "\n",
    "display(HTML(comparison_df.head(10).to_html()))"
   ]
  },
  {
   "cell_type": "code",
   "execution_count": 25,
   "id": "1c49a7fa",
   "metadata": {},
   "outputs": [
    {
     "name": "stdout",
     "output_type": "stream",
     "text": [
      "CPU times: total: 0 ns\n",
      "Wall time: 1 ms\n"
     ]
    }
   ],
   "source": [
    "%%time\n",
    "train_data_copy[\"full_text\"] = train_data_copy[\"full_text\"].apply(full_text_delete_url)"
   ]
  },
  {
   "cell_type": "markdown",
   "id": "e06c367f-49ad-4c2b-9497-43ab57ffa299",
   "metadata": {},
   "source": [
    "### Menghapus kelebihan huruf"
   ]
  },
  {
   "cell_type": "code",
   "execution_count": 26,
   "id": "f2380b6d-7d2a-4935-953e-d96cfac0de18",
   "metadata": {
    "tags": []
   },
   "outputs": [],
   "source": [
    "def full_text_delete_extra_letters(full_text):\n",
    "    sequencePattern   = r'([A-Za-z])\\1{2,}' #Pola ngehapus karakter yang punya kelebihan huruf\n",
    "    seqReplacePattern = r'\\1' #Pola ngereplace yang kelebihan huruf tiga kali\n",
    "    full_text = re.sub(sequencePattern, seqReplacePattern, full_text)\n",
    "    \n",
    "    return full_text"
   ]
  },
  {
   "cell_type": "code",
   "execution_count": 27,
   "id": "1b63d61f-551e-44da-811c-4d13556620be",
   "metadata": {
    "tags": []
   },
   "outputs": [
    {
     "name": "stdout",
     "output_type": "stream",
     "text": [
      "CPU times: total: 0 ns\n",
      "Wall time: 1.01 ms\n"
     ]
    }
   ],
   "source": [
    "%%time\n",
    "train_data[\"full_text\"] = train_data[\"full_text\"].apply(full_text_delete_extra_letters)"
   ]
  },
  {
   "cell_type": "code",
   "execution_count": 28,
   "id": "508a7cc1-e3e6-4715-b723-b893972c8fc7",
   "metadata": {
    "tags": []
   },
   "outputs": [
    {
     "data": {
      "text/html": [
       "<table border=\"1\" class=\"dataframe\">\n",
       "  <thead>\n",
       "    <tr style=\"text-align: right;\">\n",
       "      <th></th>\n",
       "      <th>Before</th>\n",
       "      <th>After</th>\n",
       "    </tr>\n",
       "  </thead>\n",
       "  <tbody>\n",
       "    <tr>\n",
       "      <th>0</th>\n",
       "      <td>menurut sri dan cahyana, chatgpt masuk dalam kategori pioneer alias pelopor seperti super apps dan metaverse.</td>\n",
       "      <td>menurut sri dan cahyana, chatgpt masuk dalam kategori pioneer alias pelopor seperti super apps dan metaverse.</td>\n",
       "    </tr>\n",
       "    <tr>\n",
       "      <th>1</th>\n",
       "      <td>chatgpt revolusioner dibanding search engine yang memberikan sumber-sumber jawaban, karena bisa merespon pertanyaan langsung membuatkan bentuk sumber jawabannya.</td>\n",
       "      <td>chatgpt revolusioner dibanding search engine yang memberikan sumber-sumber jawaban, karena bisa merespon pertanyaan langsung membuatkan bentuk sumber jawabannya.</td>\n",
       "    </tr>\n",
       "    <tr>\n",
       "      <th>2</th>\n",
       "      <td>rekor yang pernah dicapai chatgpt, masih menurut data dari buku ini, adalah lulus ujian kedokteran di amerika serikat (as). hal ini bisa dicapai karena chatgpt dilatih menggunakan dataset 300 miliar kata yang berasal dari dataset berukuran 570 gb dan terdiri dari crawled laman, buku, wikipedia dll.</td>\n",
       "      <td>rekor yang pernah dicapai chatgpt, masih menurut data dari buku ini, adalah lulus ujian kedokteran di amerika serikat (as). hal ini bisa dicapai karena chatgpt dilatih menggunakan dataset 300 miliar kata yang berasal dari dataset berukuran 570 gb dan terdiri dari crawled laman, buku, wikipedia dll.</td>\n",
       "    </tr>\n",
       "  </tbody>\n",
       "</table>"
      ],
      "text/plain": [
       "<IPython.core.display.HTML object>"
      ]
     },
     "metadata": {},
     "output_type": "display_data"
    }
   ],
   "source": [
    "comparison_df = pd.DataFrame({\n",
    "    'Before ': train_data_copy['full_text'],\n",
    "    'After ': train_data['full_text']\n",
    "})\n",
    "\n",
    "\n",
    "pd.options.display.max_colwidth = 150\n",
    "\n",
    "\n",
    "display(HTML(comparison_df.head(10).to_html()))"
   ]
  },
  {
   "cell_type": "code",
   "execution_count": 29,
   "id": "d642be4d",
   "metadata": {},
   "outputs": [
    {
     "name": "stdout",
     "output_type": "stream",
     "text": [
      "CPU times: total: 0 ns\n",
      "Wall time: 998 µs\n"
     ]
    }
   ],
   "source": [
    "%%time\n",
    "train_data_copy[\"full_text\"] = train_data_copy[\"full_text\"].apply(full_text_delete_extra_letters)"
   ]
  },
  {
   "cell_type": "markdown",
   "id": "736ceab9-4ad7-4228-87ea-7df2f089e6cd",
   "metadata": {},
   "source": [
    "### Menghapus Noise"
   ]
  },
  {
   "cell_type": "code",
   "execution_count": 30,
   "id": "fb8629b4-fa98-4d2c-9dcd-722f8deb157c",
   "metadata": {
    "tags": []
   },
   "outputs": [],
   "source": [
    "def full_text_delete_noise(full_text):\n",
    "        full_text = re.sub(r'(asslamu alaikum|assalamualaikum|asalamualaikum|assalamu\\'alaikum|Assalamu alaikum|Assalamualaikum warahmatullahi wabarakatuh|ass wr\\. wb\\.|ass)', '', full_text)\n",
    "        return full_text"
   ]
  },
  {
   "cell_type": "code",
   "execution_count": 31,
   "id": "1d4c1b50-35bf-47b0-ab85-a9b7227393c2",
   "metadata": {
    "tags": []
   },
   "outputs": [
    {
     "name": "stdout",
     "output_type": "stream",
     "text": [
      "CPU times: total: 0 ns\n",
      "Wall time: 1 ms\n"
     ]
    }
   ],
   "source": [
    "%%time\n",
    "train_data[\"full_text\"] = train_data[\"full_text\"].apply(full_text_delete_noise)"
   ]
  },
  {
   "cell_type": "code",
   "execution_count": 32,
   "id": "50d98b36-6920-4405-bff4-bd29970ef40d",
   "metadata": {
    "tags": []
   },
   "outputs": [
    {
     "data": {
      "text/html": [
       "<table border=\"1\" class=\"dataframe\">\n",
       "  <thead>\n",
       "    <tr style=\"text-align: right;\">\n",
       "      <th></th>\n",
       "      <th>Before</th>\n",
       "      <th>After</th>\n",
       "    </tr>\n",
       "  </thead>\n",
       "  <tbody>\n",
       "    <tr>\n",
       "      <th>0</th>\n",
       "      <td>menurut sri dan cahyana, chatgpt masuk dalam kategori pioneer alias pelopor seperti super apps dan metaverse.</td>\n",
       "      <td>menurut sri dan cahyana, chatgpt masuk dalam kategori pioneer alias pelopor seperti super apps dan metaverse.</td>\n",
       "    </tr>\n",
       "    <tr>\n",
       "      <th>1</th>\n",
       "      <td>chatgpt revolusioner dibanding search engine yang memberikan sumber-sumber jawaban, karena bisa merespon pertanyaan langsung membuatkan bentuk sumber jawabannya.</td>\n",
       "      <td>chatgpt revolusioner dibanding search engine yang memberikan sumber-sumber jawaban, karena bisa merespon pertanyaan langsung membuatkan bentuk sumber jawabannya.</td>\n",
       "    </tr>\n",
       "    <tr>\n",
       "      <th>2</th>\n",
       "      <td>rekor yang pernah dicapai chatgpt, masih menurut data dari buku ini, adalah lulus ujian kedokteran di amerika serikat (as). hal ini bisa dicapai karena chatgpt dilatih menggunakan dataset 300 miliar kata yang berasal dari dataset berukuran 570 gb dan terdiri dari crawled laman, buku, wikipedia dll.</td>\n",
       "      <td>rekor yang pernah dicapai chatgpt, masih menurut data dari buku ini, adalah lulus ujian kedokteran di amerika serikat (as). hal ini bisa dicapai karena chatgpt dilatih menggunakan dataset 300 miliar kata yang berasal dari dataset berukuran 570 gb dan terdiri dari crawled laman, buku, wikipedia dll.</td>\n",
       "    </tr>\n",
       "  </tbody>\n",
       "</table>"
      ],
      "text/plain": [
       "<IPython.core.display.HTML object>"
      ]
     },
     "metadata": {},
     "output_type": "display_data"
    }
   ],
   "source": [
    "comparison_df = pd.DataFrame({\n",
    "    'Before ': train_data_copy['full_text'],\n",
    "    'After ': train_data['full_text']\n",
    "})\n",
    "\n",
    "pd.options.display.max_colwidth = 150\n",
    "\n",
    "\n",
    "display(HTML(comparison_df.head(10).to_html()))"
   ]
  },
  {
   "cell_type": "code",
   "execution_count": 33,
   "id": "954e2b75",
   "metadata": {},
   "outputs": [
    {
     "name": "stdout",
     "output_type": "stream",
     "text": [
      "CPU times: total: 0 ns\n",
      "Wall time: 1.27 ms\n"
     ]
    }
   ],
   "source": [
    "%%time\n",
    "train_data_copy[\"full_text\"] = train_data_copy[\"full_text\"].apply(full_text_delete_noise)"
   ]
  },
  {
   "cell_type": "markdown",
   "id": "a2051487-629e-408d-b638-1bb3511612b9",
   "metadata": {},
   "source": [
    "### Menghapus new line dan new text"
   ]
  },
  {
   "cell_type": "code",
   "execution_count": 34,
   "id": "8cc9e083-0bee-4d78-8b87-d51d3435fbfe",
   "metadata": {
    "tags": []
   },
   "outputs": [],
   "source": [
    "def full_text_delete_new_line_new_text(full_text):\n",
    "    full_text = re.sub(r'\\\\[nt]', ' ', full_text)\n",
    "    return full_text"
   ]
  },
  {
   "cell_type": "code",
   "execution_count": 35,
   "id": "ee780691-aaa5-4c7f-9750-aae65f77622c",
   "metadata": {
    "tags": []
   },
   "outputs": [
    {
     "name": "stdout",
     "output_type": "stream",
     "text": [
      "CPU times: total: 0 ns\n",
      "Wall time: 1.3 ms\n"
     ]
    }
   ],
   "source": [
    "%%time\n",
    "train_data[\"full_text\"] = train_data[\"full_text\"].apply(full_text_delete_new_line_new_text)"
   ]
  },
  {
   "cell_type": "code",
   "execution_count": 36,
   "id": "b90008be-d2bb-49ee-84ac-12ff4223aa69",
   "metadata": {
    "tags": []
   },
   "outputs": [
    {
     "data": {
      "text/html": [
       "<table border=\"1\" class=\"dataframe\">\n",
       "  <thead>\n",
       "    <tr style=\"text-align: right;\">\n",
       "      <th></th>\n",
       "      <th>Before</th>\n",
       "      <th>After</th>\n",
       "    </tr>\n",
       "  </thead>\n",
       "  <tbody>\n",
       "    <tr>\n",
       "      <th>0</th>\n",
       "      <td>menurut sri dan cahyana, chatgpt masuk dalam kategori pioneer alias pelopor seperti super apps dan metaverse.</td>\n",
       "      <td>menurut sri dan cahyana, chatgpt masuk dalam kategori pioneer alias pelopor seperti super apps dan metaverse.</td>\n",
       "    </tr>\n",
       "    <tr>\n",
       "      <th>1</th>\n",
       "      <td>chatgpt revolusioner dibanding search engine yang memberikan sumber-sumber jawaban, karena bisa merespon pertanyaan langsung membuatkan bentuk sumber jawabannya.</td>\n",
       "      <td>chatgpt revolusioner dibanding search engine yang memberikan sumber-sumber jawaban, karena bisa merespon pertanyaan langsung membuatkan bentuk sumber jawabannya.</td>\n",
       "    </tr>\n",
       "    <tr>\n",
       "      <th>2</th>\n",
       "      <td>rekor yang pernah dicapai chatgpt, masih menurut data dari buku ini, adalah lulus ujian kedokteran di amerika serikat (as). hal ini bisa dicapai karena chatgpt dilatih menggunakan dataset 300 miliar kata yang berasal dari dataset berukuran 570 gb dan terdiri dari crawled laman, buku, wikipedia dll.</td>\n",
       "      <td>rekor yang pernah dicapai chatgpt, masih menurut data dari buku ini, adalah lulus ujian kedokteran di amerika serikat (as). hal ini bisa dicapai karena chatgpt dilatih menggunakan dataset 300 miliar kata yang berasal dari dataset berukuran 570 gb dan terdiri dari crawled laman, buku, wikipedia dll.</td>\n",
       "    </tr>\n",
       "  </tbody>\n",
       "</table>"
      ],
      "text/plain": [
       "<IPython.core.display.HTML object>"
      ]
     },
     "metadata": {},
     "output_type": "display_data"
    }
   ],
   "source": [
    "comparison_df = pd.DataFrame({\n",
    "    'Before ': train_data_copy['full_text'],\n",
    "    'After ': train_data['full_text']\n",
    "})\n",
    "\n",
    "\n",
    "pd.options.display.max_colwidth = 150\n",
    "\n",
    "\n",
    "display(HTML(comparison_df.head(10).to_html()))"
   ]
  },
  {
   "cell_type": "code",
   "execution_count": 37,
   "id": "1ef13f41",
   "metadata": {},
   "outputs": [
    {
     "name": "stdout",
     "output_type": "stream",
     "text": [
      "CPU times: total: 0 ns\n",
      "Wall time: 1.36 ms\n"
     ]
    }
   ],
   "source": [
    "%%time\n",
    "train_data_copy[\"full_text\"] = train_data_copy[\"full_text\"].apply(full_text_delete_new_line_new_text)"
   ]
  },
  {
   "cell_type": "markdown",
   "id": "2fd42e11",
   "metadata": {},
   "source": [
    "### Menghapus Hastag"
   ]
  },
  {
   "cell_type": "code",
   "execution_count": 38,
   "id": "001e206c",
   "metadata": {},
   "outputs": [],
   "source": [
    "def full_text_remove_hashtags(full_text):\n",
    "    hashtag= r'#\\w+'\n",
    "    full_text = re.sub(hashtag, '', full_text)\n",
    "    return full_text"
   ]
  },
  {
   "cell_type": "code",
   "execution_count": 39,
   "id": "a806e416",
   "metadata": {},
   "outputs": [
    {
     "name": "stdout",
     "output_type": "stream",
     "text": [
      "CPU times: total: 0 ns\n",
      "Wall time: 1.25 ms\n"
     ]
    }
   ],
   "source": [
    "%%time\n",
    "train_data[\"full_text\"] = train_data[\"full_text\"].apply(full_text_remove_hashtags)"
   ]
  },
  {
   "cell_type": "code",
   "execution_count": 40,
   "id": "bee5e05b",
   "metadata": {},
   "outputs": [
    {
     "data": {
      "text/html": [
       "<table border=\"1\" class=\"dataframe\">\n",
       "  <thead>\n",
       "    <tr style=\"text-align: right;\">\n",
       "      <th></th>\n",
       "      <th>Before</th>\n",
       "      <th>After</th>\n",
       "    </tr>\n",
       "  </thead>\n",
       "  <tbody>\n",
       "    <tr>\n",
       "      <th>0</th>\n",
       "      <td>menurut sri dan cahyana, chatgpt masuk dalam kategori pioneer alias pelopor seperti super apps dan metaverse.</td>\n",
       "      <td>menurut sri dan cahyana, chatgpt masuk dalam kategori pioneer alias pelopor seperti super apps dan metaverse.</td>\n",
       "    </tr>\n",
       "    <tr>\n",
       "      <th>1</th>\n",
       "      <td>chatgpt revolusioner dibanding search engine yang memberikan sumber-sumber jawaban, karena bisa merespon pertanyaan langsung membuatkan bentuk sumber jawabannya.</td>\n",
       "      <td>chatgpt revolusioner dibanding search engine yang memberikan sumber-sumber jawaban, karena bisa merespon pertanyaan langsung membuatkan bentuk sumber jawabannya.</td>\n",
       "    </tr>\n",
       "    <tr>\n",
       "      <th>2</th>\n",
       "      <td>rekor yang pernah dicapai chatgpt, masih menurut data dari buku ini, adalah lulus ujian kedokteran di amerika serikat (as). hal ini bisa dicapai karena chatgpt dilatih menggunakan dataset 300 miliar kata yang berasal dari dataset berukuran 570 gb dan terdiri dari crawled laman, buku, wikipedia dll.</td>\n",
       "      <td>rekor yang pernah dicapai chatgpt, masih menurut data dari buku ini, adalah lulus ujian kedokteran di amerika serikat (as). hal ini bisa dicapai karena chatgpt dilatih menggunakan dataset 300 miliar kata yang berasal dari dataset berukuran 570 gb dan terdiri dari crawled laman, buku, wikipedia dll.</td>\n",
       "    </tr>\n",
       "  </tbody>\n",
       "</table>"
      ],
      "text/plain": [
       "<IPython.core.display.HTML object>"
      ]
     },
     "metadata": {},
     "output_type": "display_data"
    }
   ],
   "source": [
    "comparison_df = pd.DataFrame({\n",
    "    'Before ': train_data_copy['full_text'],\n",
    "    'After ': train_data['full_text']\n",
    "})\n",
    "\n",
    "pd.options.display.max_colwidth = 150\n",
    "\n",
    "display(HTML(comparison_df.head(10).to_html()))"
   ]
  },
  {
   "cell_type": "code",
   "execution_count": 41,
   "id": "ec6ddd71",
   "metadata": {},
   "outputs": [
    {
     "name": "stdout",
     "output_type": "stream",
     "text": [
      "CPU times: total: 0 ns\n",
      "Wall time: 0 ns\n"
     ]
    }
   ],
   "source": [
    "%%time\n",
    "train_data_copy[\"full_text\"] = train_data_copy[\"full_text\"].apply(full_text_remove_hashtags)"
   ]
  },
  {
   "cell_type": "markdown",
   "id": "181bb0e4-dbc1-4a00-a981-40ea7836efcb",
   "metadata": {
    "tags": []
   },
   "source": [
    "### Menghapus angka"
   ]
  },
  {
   "cell_type": "code",
   "execution_count": 42,
   "id": "139185eb-5795-4566-9a4d-63f285f9a3e0",
   "metadata": {
    "tags": []
   },
   "outputs": [],
   "source": [
    "def full_text_delete_number(full_text):\n",
    "    number = r'\\d+' \n",
    "    full_text = re.sub(number, '', full_text)\n",
    "    return full_text"
   ]
  },
  {
   "cell_type": "code",
   "execution_count": 43,
   "id": "dab2a768-750e-4edb-8c00-08f89e01fdd0",
   "metadata": {
    "tags": []
   },
   "outputs": [
    {
     "name": "stdout",
     "output_type": "stream",
     "text": [
      "CPU times: total: 0 ns\n",
      "Wall time: 1.04 ms\n"
     ]
    }
   ],
   "source": [
    "%%time\n",
    "train_data[\"full_text\"] = train_data[\"full_text\"].apply(full_text_delete_number)"
   ]
  },
  {
   "cell_type": "code",
   "execution_count": 44,
   "id": "86f367ba-608c-4740-afce-8b47f8f8782c",
   "metadata": {
    "tags": []
   },
   "outputs": [
    {
     "data": {
      "text/html": [
       "<table border=\"1\" class=\"dataframe\">\n",
       "  <thead>\n",
       "    <tr style=\"text-align: right;\">\n",
       "      <th></th>\n",
       "      <th>Before</th>\n",
       "      <th>After</th>\n",
       "    </tr>\n",
       "  </thead>\n",
       "  <tbody>\n",
       "    <tr>\n",
       "      <th>0</th>\n",
       "      <td>menurut sri dan cahyana, chatgpt masuk dalam kategori pioneer alias pelopor seperti super apps dan metaverse.</td>\n",
       "      <td>menurut sri dan cahyana, chatgpt masuk dalam kategori pioneer alias pelopor seperti super apps dan metaverse.</td>\n",
       "    </tr>\n",
       "    <tr>\n",
       "      <th>1</th>\n",
       "      <td>chatgpt revolusioner dibanding search engine yang memberikan sumber-sumber jawaban, karena bisa merespon pertanyaan langsung membuatkan bentuk sumber jawabannya.</td>\n",
       "      <td>chatgpt revolusioner dibanding search engine yang memberikan sumber-sumber jawaban, karena bisa merespon pertanyaan langsung membuatkan bentuk sumber jawabannya.</td>\n",
       "    </tr>\n",
       "    <tr>\n",
       "      <th>2</th>\n",
       "      <td>rekor yang pernah dicapai chatgpt, masih menurut data dari buku ini, adalah lulus ujian kedokteran di amerika serikat (as). hal ini bisa dicapai karena chatgpt dilatih menggunakan dataset 300 miliar kata yang berasal dari dataset berukuran 570 gb dan terdiri dari crawled laman, buku, wikipedia dll.</td>\n",
       "      <td>rekor yang pernah dicapai chatgpt, masih menurut data dari buku ini, adalah lulus ujian kedokteran di amerika serikat (as). hal ini bisa dicapai karena chatgpt dilatih menggunakan dataset  miliar kata yang berasal dari dataset berukuran  gb dan terdiri dari crawled laman, buku, wikipedia dll.</td>\n",
       "    </tr>\n",
       "  </tbody>\n",
       "</table>"
      ],
      "text/plain": [
       "<IPython.core.display.HTML object>"
      ]
     },
     "metadata": {},
     "output_type": "display_data"
    }
   ],
   "source": [
    "comparison_df = pd.DataFrame({\n",
    "    'Before ': train_data_copy['full_text'],\n",
    "    'After ': train_data['full_text']\n",
    "})\n",
    "\n",
    "\n",
    "pd.options.display.max_colwidth = 150\n",
    "\n",
    "\n",
    "display(HTML(comparison_df.head(10).to_html()))"
   ]
  },
  {
   "cell_type": "code",
   "execution_count": 45,
   "id": "515a4c53",
   "metadata": {},
   "outputs": [
    {
     "name": "stdout",
     "output_type": "stream",
     "text": [
      "CPU times: total: 0 ns\n",
      "Wall time: 0 ns\n"
     ]
    }
   ],
   "source": [
    "%%time\n",
    "train_data_copy[\"full_text\"] = train_data_copy[\"full_text\"].apply(full_text_delete_number)"
   ]
  },
  {
   "cell_type": "markdown",
   "id": "4de44a31-86c8-4af3-b594-383d461c80f1",
   "metadata": {
    "tags": []
   },
   "source": [
    "### Menghapus tanda baca"
   ]
  },
  {
   "cell_type": "code",
   "execution_count": 46,
   "id": "d79f50f9-1d2a-43c0-8e13-8283c8c6a0a6",
   "metadata": {
    "tags": []
   },
   "outputs": [],
   "source": [
    "def full_text_delete_punctuation(full_text):\n",
    "    punctuationPattern = r'[^\\w\\s]' \n",
    "    full_text = re.sub(punctuationPattern, ' ', full_text)\n",
    "    \n",
    "    return full_text"
   ]
  },
  {
   "cell_type": "code",
   "execution_count": 47,
   "id": "0f70586f-27ad-47fe-a9cc-d02d53f80b1c",
   "metadata": {
    "tags": []
   },
   "outputs": [
    {
     "name": "stdout",
     "output_type": "stream",
     "text": [
      "CPU times: total: 0 ns\n",
      "Wall time: 1 ms\n"
     ]
    }
   ],
   "source": [
    "%%time\n",
    "train_data[\"full_text\"] = train_data[\"full_text\"].apply(full_text_delete_punctuation)"
   ]
  },
  {
   "cell_type": "code",
   "execution_count": 48,
   "id": "fe6b6e89-9d05-4ed7-9b49-43a6974658a5",
   "metadata": {
    "tags": []
   },
   "outputs": [
    {
     "data": {
      "text/html": [
       "<table border=\"1\" class=\"dataframe\">\n",
       "  <thead>\n",
       "    <tr style=\"text-align: right;\">\n",
       "      <th></th>\n",
       "      <th>Before</th>\n",
       "      <th>After</th>\n",
       "    </tr>\n",
       "  </thead>\n",
       "  <tbody>\n",
       "    <tr>\n",
       "      <th>0</th>\n",
       "      <td>menurut sri dan cahyana, chatgpt masuk dalam kategori pioneer alias pelopor seperti super apps dan metaverse.</td>\n",
       "      <td>menurut sri dan cahyana  chatgpt masuk dalam kategori pioneer alias pelopor seperti super apps dan metaverse</td>\n",
       "    </tr>\n",
       "    <tr>\n",
       "      <th>1</th>\n",
       "      <td>chatgpt revolusioner dibanding search engine yang memberikan sumber-sumber jawaban, karena bisa merespon pertanyaan langsung membuatkan bentuk sumber jawabannya.</td>\n",
       "      <td>chatgpt revolusioner dibanding search engine yang memberikan sumber sumber jawaban  karena bisa merespon pertanyaan langsung membuatkan bentuk sumber jawabannya</td>\n",
       "    </tr>\n",
       "    <tr>\n",
       "      <th>2</th>\n",
       "      <td>rekor yang pernah dicapai chatgpt, masih menurut data dari buku ini, adalah lulus ujian kedokteran di amerika serikat (as). hal ini bisa dicapai karena chatgpt dilatih menggunakan dataset  miliar kata yang berasal dari dataset berukuran  gb dan terdiri dari crawled laman, buku, wikipedia dll.</td>\n",
       "      <td>rekor yang pernah dicapai chatgpt  masih menurut data dari buku ini  adalah lulus ujian kedokteran di amerika serikat  as   hal ini bisa dicapai karena chatgpt dilatih menggunakan dataset  miliar kata yang berasal dari dataset berukuran  gb dan terdiri dari crawled laman  buku  wikipedia dll</td>\n",
       "    </tr>\n",
       "  </tbody>\n",
       "</table>"
      ],
      "text/plain": [
       "<IPython.core.display.HTML object>"
      ]
     },
     "metadata": {},
     "output_type": "display_data"
    }
   ],
   "source": [
    "comparison_df = pd.DataFrame({\n",
    "    'Before ': train_data_copy['full_text'],\n",
    "    'After ': train_data['full_text']\n",
    "})\n",
    "\n",
    "\n",
    "pd.options.display.max_colwidth = 150\n",
    "\n",
    "\n",
    "display(HTML(comparison_df.head(10).to_html()))"
   ]
  },
  {
   "cell_type": "code",
   "execution_count": 49,
   "id": "23ca11a9",
   "metadata": {},
   "outputs": [
    {
     "name": "stdout",
     "output_type": "stream",
     "text": [
      "CPU times: total: 0 ns\n",
      "Wall time: 1.03 ms\n"
     ]
    }
   ],
   "source": [
    "%%time\n",
    "train_data_copy[\"full_text\"] = train_data_copy[\"full_text\"].apply(full_text_delete_punctuation)"
   ]
  },
  {
   "cell_type": "markdown",
   "id": "187fd0cb-394d-4c5e-92c1-9b10ea7d813e",
   "metadata": {
    "tags": []
   },
   "source": [
    "### Menghapus Extra Spasi"
   ]
  },
  {
   "cell_type": "code",
   "execution_count": 50,
   "id": "782da536-3514-414d-9c0f-b09fe5c980e6",
   "metadata": {
    "tags": []
   },
   "outputs": [],
   "source": [
    "def full_text_delete_extra_space(full_text):\n",
    "    full_text = re.sub(r\"\\s+\", \" \", full_text)\n",
    "    full_text = re.sub(r\"^\\s+|\\s+$\", \"\", full_text)\n",
    "    \n",
    "    return full_text"
   ]
  },
  {
   "cell_type": "code",
   "execution_count": 51,
   "id": "b9e65496-e5c9-4120-a6d4-081495bf1002",
   "metadata": {
    "tags": []
   },
   "outputs": [
    {
     "name": "stdout",
     "output_type": "stream",
     "text": [
      "CPU times: total: 0 ns\n",
      "Wall time: 1.01 ms\n"
     ]
    }
   ],
   "source": [
    "%%time\n",
    "train_data[\"full_text\"] = train_data[\"full_text\"].apply(full_text_delete_extra_space)"
   ]
  },
  {
   "cell_type": "code",
   "execution_count": 52,
   "id": "e6efabfe-6646-4f81-bcaa-cc7541f7c556",
   "metadata": {
    "tags": []
   },
   "outputs": [
    {
     "data": {
      "text/html": [
       "<table border=\"1\" class=\"dataframe\">\n",
       "  <thead>\n",
       "    <tr style=\"text-align: right;\">\n",
       "      <th></th>\n",
       "      <th>Before</th>\n",
       "      <th>After</th>\n",
       "    </tr>\n",
       "  </thead>\n",
       "  <tbody>\n",
       "    <tr>\n",
       "      <th>0</th>\n",
       "      <td>menurut sri dan cahyana  chatgpt masuk dalam kategori pioneer alias pelopor seperti super apps dan metaverse</td>\n",
       "      <td>menurut sri dan cahyana chatgpt masuk dalam kategori pioneer alias pelopor seperti super apps dan metaverse</td>\n",
       "    </tr>\n",
       "    <tr>\n",
       "      <th>1</th>\n",
       "      <td>chatgpt revolusioner dibanding search engine yang memberikan sumber sumber jawaban  karena bisa merespon pertanyaan langsung membuatkan bentuk sumber jawabannya</td>\n",
       "      <td>chatgpt revolusioner dibanding search engine yang memberikan sumber sumber jawaban karena bisa merespon pertanyaan langsung membuatkan bentuk sumber jawabannya</td>\n",
       "    </tr>\n",
       "    <tr>\n",
       "      <th>2</th>\n",
       "      <td>rekor yang pernah dicapai chatgpt  masih menurut data dari buku ini  adalah lulus ujian kedokteran di amerika serikat  as   hal ini bisa dicapai karena chatgpt dilatih menggunakan dataset  miliar kata yang berasal dari dataset berukuran  gb dan terdiri dari crawled laman  buku  wikipedia dll</td>\n",
       "      <td>rekor yang pernah dicapai chatgpt masih menurut data dari buku ini adalah lulus ujian kedokteran di amerika serikat as hal ini bisa dicapai karena chatgpt dilatih menggunakan dataset miliar kata yang berasal dari dataset berukuran gb dan terdiri dari crawled laman buku wikipedia dll</td>\n",
       "    </tr>\n",
       "  </tbody>\n",
       "</table>"
      ],
      "text/plain": [
       "<IPython.core.display.HTML object>"
      ]
     },
     "metadata": {},
     "output_type": "display_data"
    }
   ],
   "source": [
    "comparison_df = pd.DataFrame({\n",
    "    'Before ': train_data_copy['full_text'],\n",
    "    'After ': train_data['full_text']\n",
    "})\n",
    "\n",
    "\n",
    "pd.options.display.max_colwidth = 150\n",
    "\n",
    "\n",
    "display(HTML(comparison_df.head(10).to_html()))"
   ]
  },
  {
   "cell_type": "code",
   "execution_count": 53,
   "id": "0709f0a7",
   "metadata": {},
   "outputs": [
    {
     "name": "stdout",
     "output_type": "stream",
     "text": [
      "CPU times: total: 0 ns\n",
      "Wall time: 1.01 ms\n"
     ]
    }
   ],
   "source": [
    "%%time\n",
    "train_data_copy[\"full_text\"] = train_data_copy[\"full_text\"].apply(full_text_delete_extra_space)"
   ]
  },
  {
   "cell_type": "markdown",
   "id": "60ba3f70-5aed-49cd-a289-049a84590502",
   "metadata": {},
   "source": [
    "## Tokenization"
   ]
  },
  {
   "cell_type": "code",
   "execution_count": 54,
   "id": "454caed4-dd55-4448-946a-2b05e87d55e1",
   "metadata": {
    "tags": []
   },
   "outputs": [],
   "source": [
    "from nltk.tokenize import word_tokenize "
   ]
  },
  {
   "cell_type": "code",
   "execution_count": 55,
   "id": "86a1d759-67f3-41f5-9d6c-0d0db43d6b79",
   "metadata": {
    "tags": []
   },
   "outputs": [],
   "source": [
    "def full_text_tokenize(full_text):\n",
    "    return word_tokenize(full_text)"
   ]
  },
  {
   "cell_type": "code",
   "execution_count": 56,
   "id": "06da4377-c935-470c-a075-ffcbcc0b9085",
   "metadata": {
    "tags": []
   },
   "outputs": [
    {
     "name": "stdout",
     "output_type": "stream",
     "text": [
      "CPU times: total: 0 ns\n",
      "Wall time: 9.64 ms\n"
     ]
    }
   ],
   "source": [
    "%%time\n",
    "train_data[\"full_text\"] = train_data[\"full_text\"].apply(full_text_tokenize)"
   ]
  },
  {
   "cell_type": "code",
   "execution_count": 57,
   "id": "d251514f-6486-449b-b4c4-60d9c23e1409",
   "metadata": {
    "tags": []
   },
   "outputs": [
    {
     "data": {
      "text/html": [
       "<table border=\"1\" class=\"dataframe\">\n",
       "  <thead>\n",
       "    <tr style=\"text-align: right;\">\n",
       "      <th></th>\n",
       "      <th>Before</th>\n",
       "      <th>After</th>\n",
       "    </tr>\n",
       "  </thead>\n",
       "  <tbody>\n",
       "    <tr>\n",
       "      <th>0</th>\n",
       "      <td>menurut sri dan cahyana chatgpt masuk dalam kategori pioneer alias pelopor seperti super apps dan metaverse</td>\n",
       "      <td>[menurut, sri, dan, cahyana, chatgpt, masuk, dalam, kategori, pioneer, alias, pelopor, seperti, super, apps, dan, metaverse]</td>\n",
       "    </tr>\n",
       "    <tr>\n",
       "      <th>1</th>\n",
       "      <td>chatgpt revolusioner dibanding search engine yang memberikan sumber sumber jawaban karena bisa merespon pertanyaan langsung membuatkan bentuk sumber jawabannya</td>\n",
       "      <td>[chatgpt, revolusioner, dibanding, search, engine, yang, memberikan, sumber, sumber, jawaban, karena, bisa, merespon, pertanyaan, langsung, membuatkan, bentuk, sumber, jawabannya]</td>\n",
       "    </tr>\n",
       "    <tr>\n",
       "      <th>2</th>\n",
       "      <td>rekor yang pernah dicapai chatgpt masih menurut data dari buku ini adalah lulus ujian kedokteran di amerika serikat as hal ini bisa dicapai karena chatgpt dilatih menggunakan dataset miliar kata yang berasal dari dataset berukuran gb dan terdiri dari crawled laman buku wikipedia dll</td>\n",
       "      <td>[rekor, yang, pernah, dicapai, chatgpt, masih, menurut, data, dari, buku, ini, adalah, lulus, ujian, kedokteran, di, amerika, serikat, as, hal, ini, bisa, dicapai, karena, chatgpt, dilatih, menggunakan, dataset, miliar, kata, yang, berasal, dari, dataset, berukuran, gb, dan, terdiri, dari, crawled, laman, buku, wikipedia, dll]</td>\n",
       "    </tr>\n",
       "  </tbody>\n",
       "</table>"
      ],
      "text/plain": [
       "<IPython.core.display.HTML object>"
      ]
     },
     "metadata": {},
     "output_type": "display_data"
    }
   ],
   "source": [
    "comparison_df = pd.DataFrame({\n",
    "    'Before ': train_data_copy['full_text'],\n",
    "    'After ': train_data['full_text']\n",
    "})\n",
    "\n",
    "\n",
    "pd.options.display.max_colwidth = 150\n",
    "\n",
    "\n",
    "display(HTML(comparison_df.head(10).to_html()))"
   ]
  },
  {
   "cell_type": "code",
   "execution_count": 58,
   "id": "6dfd5d28",
   "metadata": {},
   "outputs": [
    {
     "name": "stdout",
     "output_type": "stream",
     "text": [
      "CPU times: total: 0 ns\n",
      "Wall time: 1 ms\n"
     ]
    }
   ],
   "source": [
    "%%time\n",
    "train_data_copy[\"full_text\"] = train_data_copy[\"full_text\"].apply(full_text_tokenize)"
   ]
  },
  {
   "cell_type": "markdown",
   "id": "da4c33c1-7e4c-4c69-8989-e3a13e3e508a",
   "metadata": {},
   "source": [
    "## Normalization"
   ]
  },
  {
   "cell_type": "markdown",
   "id": "731a3144",
   "metadata": {},
   "source": [
    "### Import Kamus"
   ]
  },
  {
   "cell_type": "code",
   "execution_count": 59,
   "id": "f40ddf46",
   "metadata": {},
   "outputs": [
    {
     "data": {
      "text/html": [
       "<div>\n",
       "<style scoped>\n",
       "    .dataframe tbody tr th:only-of-type {\n",
       "        vertical-align: middle;\n",
       "    }\n",
       "\n",
       "    .dataframe tbody tr th {\n",
       "        vertical-align: top;\n",
       "    }\n",
       "\n",
       "    .dataframe thead th {\n",
       "        text-align: right;\n",
       "    }\n",
       "</style>\n",
       "<table border=\"1\" class=\"dataframe\">\n",
       "  <thead>\n",
       "    <tr style=\"text-align: right;\">\n",
       "      <th></th>\n",
       "      <th>kata_gaul</th>\n",
       "      <th>kata_asal</th>\n",
       "    </tr>\n",
       "  </thead>\n",
       "  <tbody>\n",
       "    <tr>\n",
       "      <th>0</th>\n",
       "      <td>aamiin</td>\n",
       "      <td>amin</td>\n",
       "    </tr>\n",
       "    <tr>\n",
       "      <th>1</th>\n",
       "      <td>adek</td>\n",
       "      <td>adik</td>\n",
       "    </tr>\n",
       "    <tr>\n",
       "      <th>2</th>\n",
       "      <td>adlh</td>\n",
       "      <td>adalah</td>\n",
       "    </tr>\n",
       "    <tr>\n",
       "      <th>3</th>\n",
       "      <td>aer</td>\n",
       "      <td>air</td>\n",
       "    </tr>\n",
       "    <tr>\n",
       "      <th>4</th>\n",
       "      <td>aiskrim</td>\n",
       "      <td>es krim</td>\n",
       "    </tr>\n",
       "    <tr>\n",
       "      <th>...</th>\n",
       "      <td>...</td>\n",
       "      <td>...</td>\n",
       "    </tr>\n",
       "    <tr>\n",
       "      <th>1304</th>\n",
       "      <td>yoi</td>\n",
       "      <td>iya</td>\n",
       "    </tr>\n",
       "    <tr>\n",
       "      <th>1305</th>\n",
       "      <td>yup</td>\n",
       "      <td>ya</td>\n",
       "    </tr>\n",
       "    <tr>\n",
       "      <th>1306</th>\n",
       "      <td>yups</td>\n",
       "      <td>ya</td>\n",
       "    </tr>\n",
       "    <tr>\n",
       "      <th>1307</th>\n",
       "      <td>yupz</td>\n",
       "      <td>ya</td>\n",
       "    </tr>\n",
       "    <tr>\n",
       "      <th>1308</th>\n",
       "      <td>ywdh</td>\n",
       "      <td>ya sudah</td>\n",
       "    </tr>\n",
       "  </tbody>\n",
       "</table>\n",
       "<p>1309 rows × 2 columns</p>\n",
       "</div>"
      ],
      "text/plain": [
       "     kata_gaul kata_asal\n",
       "0       aamiin     amin \n",
       "1         adek     adik \n",
       "2         adlh   adalah \n",
       "3          aer      air \n",
       "4      aiskrim  es krim \n",
       "...        ...       ...\n",
       "1304       yoi       iya\n",
       "1305       yup       ya \n",
       "1306      yups        ya\n",
       "1307      yupz        ya\n",
       "1308      ywdh  ya sudah\n",
       "\n",
       "[1309 rows x 2 columns]"
      ]
     },
     "execution_count": 59,
     "metadata": {},
     "output_type": "execute_result"
    }
   ],
   "source": [
    "kamus_singkatan = pd.read_csv(\"./Dataset/kamus_singkatan.csv\",names=[\"kata_gaul\",\"kata_asal\"],delimiter=\";\")\n",
    "kamus_singkatan"
   ]
  },
  {
   "cell_type": "code",
   "execution_count": 60,
   "id": "e574af48",
   "metadata": {},
   "outputs": [],
   "source": [
    "def create_kamus():\n",
    "      kamus = {}\n",
    "      for i in range(len(kamus_singkatan)):\n",
    "          kamus[kamus_singkatan[\"kata_gaul\"][i]]=kamus_singkatan[\"kata_asal\"][i].lower().strip()\n",
    "      return kamus"
   ]
  },
  {
   "cell_type": "code",
   "execution_count": 61,
   "id": "fb0b89b1",
   "metadata": {},
   "outputs": [
    {
     "data": {
      "text/plain": [
       "{'aamiin': 'amin',\n",
       " 'adek': 'adik',\n",
       " 'adlh': 'adalah',\n",
       " 'aer': 'air',\n",
       " 'aiskrim': 'es krim',\n",
       " 'aj': 'saja',\n",
       " 'aja': 'saja',\n",
       " 'ajah': 'saja',\n",
       " 'ajalah': 'saja',\n",
       " 'aje': 'saja',\n",
       " 'ajh': 'saja',\n",
       " 'ajj': 'saja',\n",
       " 'aku': 'saya',\n",
       " 'ak': 'saya',\n",
       " 'akoh': 'saya',\n",
       " 'akutu': 'saya',\n",
       " 'aq': 'saya',\n",
       " 'alesan': 'alasan',\n",
       " 'ama': 'sama',\n",
       " 'amaca': 'ah masa',\n",
       " 'amuh': 'kamu',\n",
       " 'ancur': 'hancur',\n",
       " 'ane': 'saya',\n",
       " 'anget': 'hangat',\n",
       " 'anjeng': 'anjing',\n",
       " 'ank': 'anak',\n",
       " 'apah': 'apa',\n",
       " 'aph': 'apa',\n",
       " 'apo': 'apa',\n",
       " 'apose': 'apa',\n",
       " 'apz': 'apa',\n",
       " 'artine': 'artinya',\n",
       " 'asek': 'asik',\n",
       " 'ati2': 'hati-hati',\n",
       " 'atit': 'sakit',\n",
       " 'atu': 'satu',\n",
       " 'atw': 'atau',\n",
       " 'ayang': 'sayang',\n",
       " 'ayuk': 'ayo',\n",
       " 'babang': 'abang',\n",
       " 'bae': 'baik',\n",
       " 'bais': 'habis',\n",
       " 'bakalan': 'akan',\n",
       " 'bales': 'balas',\n",
       " 'bandingin': 'bandingkan',\n",
       " 'banget': 'sekali',\n",
       " 'bangett': 'sangat',\n",
       " 'banyakin': 'perbanyak',\n",
       " 'barengan': 'bersamaan',\n",
       " 'baryaw': 'sabar ya',\n",
       " 'baso': 'bakso',\n",
       " 'bay': 'selamat tinggal',\n",
       " 'bbrp': 'beberapa',\n",
       " 'bc': 'baca',\n",
       " 'bcs': 'bisa',\n",
       " 'bct': 'bicara',\n",
       " 'bdan': 'badan',\n",
       " 'bdg': 'bandung',\n",
       " 'bdn': 'badan',\n",
       " 'becanda': 'bercanda',\n",
       " 'bedua': 'berdua',\n",
       " 'bego': 'bodoh',\n",
       " 'bekel': 'bekal',\n",
       " 'belom': 'belum',\n",
       " 'belon': 'belum',\n",
       " 'bener': 'benar',\n",
       " 'bener2': 'benar-benar',\n",
       " 'beneran': 'benar',\n",
       " 'berantem': 'bertengkar',\n",
       " 'berenti': 'berhenti',\n",
       " 'besoq': 'besok',\n",
       " 'bete': 'sebal',\n",
       " 'beud': 'banget',\n",
       " 'bg': 'bagi',\n",
       " 'bgd': 'sangat',\n",
       " 'bget': 'sangat',\n",
       " 'bgini': 'begini',\n",
       " 'bgitu': 'begitu',\n",
       " 'bgks': 'bungkus',\n",
       " 'bgm': 'bagaimana',\n",
       " 'bgmn': 'bagaimana',\n",
       " 'bgn': 'bangun',\n",
       " 'bgni': 'begini',\n",
       " 'bgntdr': 'bangun tidur',\n",
       " 'bgs': 'bagus',\n",
       " 'bgt': 'sangat',\n",
       " 'bgtu': 'begitu',\n",
       " 'bgus': 'bagus',\n",
       " 'bhay': 'selamat tinggal',\n",
       " 'bhn': 'bahan',\n",
       " 'bhs': 'bahas',\n",
       " 'bhw': 'bahwa',\n",
       " 'bhy': 'bahaya',\n",
       " 'bisaa': 'bisa',\n",
       " 'bisya': 'bisa',\n",
       " 'biza': 'bisa',\n",
       " 'bj': 'baju',\n",
       " 'bju': 'baju',\n",
       " 'bk': 'buku',\n",
       " 'bkan': 'bukan',\n",
       " 'bkin': 'bikin',\n",
       " 'bkl': 'bakal',\n",
       " 'bkn': 'bukan',\n",
       " 'bkr': 'bakar',\n",
       " 'bks': 'bungkus',\n",
       " 'bl': 'beli',\n",
       " 'blajar': 'belajar',\n",
       " 'blg': 'bilang',\n",
       " 'blh': 'boleh',\n",
       " 'bli': 'beli',\n",
       " 'blik': 'balik',\n",
       " 'bljr': 'belajar',\n",
       " 'blk': 'balik',\n",
       " 'blkg': 'belakang',\n",
       " 'blkng': 'belakang',\n",
       " 'blkngny': 'belakangnya',\n",
       " 'blm': 'belum',\n",
       " 'bln': 'bulan',\n",
       " 'blng': 'bilang',\n",
       " 'blngn': 'bilang',\n",
       " 'blom': 'belum',\n",
       " 'bls': 'balas',\n",
       " 'blum': 'belum',\n",
       " 'bndg': 'bandung',\n",
       " 'bndr': 'bandar',\n",
       " 'bner': 'benar',\n",
       " 'bneran': 'benar',\n",
       " 'bnget': 'sangat',\n",
       " 'bngks': 'bungkus',\n",
       " 'bngng': 'bingung',\n",
       " 'bngt': 'sangat',\n",
       " 'bngun': 'bangun',\n",
       " 'bnr': 'benar',\n",
       " 'bnrbnr': 'benar-benar',\n",
       " 'bnrn': 'benar',\n",
       " 'bntar': 'sebentar',\n",
       " 'bntr': 'sebentar',\n",
       " 'bnyak': 'banyak',\n",
       " 'bnyk': 'banyak',\n",
       " 'bnykny': 'banyaknya',\n",
       " 'bobo': 'tidur',\n",
       " 'bobok': 'tidur',\n",
       " 'bokap': 'ayah',\n",
       " 'bole': 'boleh',\n",
       " 'boong': 'bohong',\n",
       " 'bosen': 'bosan',\n",
       " 'bpk': 'bapak',\n",
       " 'brani': 'berani',\n",
       " 'brapa': 'berapa',\n",
       " 'brarti': 'berarti',\n",
       " 'brasa': 'berasa',\n",
       " 'brg': 'barang',\n",
       " 'brgkt': 'berangkat',\n",
       " 'brhsl': 'berhasil',\n",
       " 'brjln': 'berjalan',\n",
       " 'brkfst': 'breakfast',\n",
       " 'brmslh': 'bermasalah',\n",
       " 'brngkt': 'berangkat',\n",
       " 'brp': 'berapa',\n",
       " 'brpa': 'berapa',\n",
       " 'brrti': 'berarti',\n",
       " 'brs': 'beres',\n",
       " 'brshbt': 'bersahabat',\n",
       " 'brsm': 'bersama',\n",
       " 'brthn': 'bertahan',\n",
       " 'brtmn': 'berteman',\n",
       " 'bru': 'baru',\n",
       " 'bs': 'bisa',\n",
       " 'bsa': 'bisa',\n",
       " 'bsk': 'besok',\n",
       " 'bsok': 'besok',\n",
       " 'bsoq': 'besok',\n",
       " 'bsr': 'besar',\n",
       " 'btg': 'batang',\n",
       " 'bth': 'butuh',\n",
       " 'btl': 'betul',\n",
       " 'btul': 'betul',\n",
       " 'buad': 'buat',\n",
       " 'buatin': 'buatkan',\n",
       " 'bucin': 'budak cinta',\n",
       " 'bulcit': 'omong kosong',\n",
       " 'bw': 'bawa',\n",
       " 'bwa': 'bawa',\n",
       " 'bwh': 'bawah',\n",
       " 'bwt': 'buat',\n",
       " 'byk': 'banyak',\n",
       " 'bynk': 'banyak',\n",
       " 'byr': 'bayar',\n",
       " 'cabal': 'sabar',\n",
       " 'cabut': 'pergi',\n",
       " 'caiank': 'sayang',\n",
       " 'cakep': 'cakap',\n",
       " 'cape': 'capai',\n",
       " 'capek': 'capai',\n",
       " 'catet': 'catat',\n",
       " 'cb': 'coba',\n",
       " 'cekola': 'sekolah',\n",
       " 'cekolah': 'sekolah',\n",
       " 'celalaw': 'selalu',\n",
       " 'celalu': 'selalu',\n",
       " 'cemungudh': 'semangat',\n",
       " 'cemungut': 'semangat',\n",
       " 'cemunguth': 'semangat',\n",
       " 'cepet': 'cepat',\n",
       " 'cewe': 'cewek',\n",
       " 'cibuq': 'sibuk',\n",
       " 'cini': 'sini',\n",
       " 'ciyus': 'serius',\n",
       " 'ckp': 'cukup',\n",
       " 'ckrg': 'sekarang',\n",
       " 'ckup': 'cukup',\n",
       " 'cll': 'selalu',\n",
       " 'cllu': 'selalu',\n",
       " 'cllw': 'selalu',\n",
       " 'cm': 'cuma',\n",
       " 'cma': 'cuma',\n",
       " 'cman': 'hanya',\n",
       " 'cmn': 'hanya',\n",
       " 'cmpk': 'cempaka',\n",
       " 'cobaa': 'coba',\n",
       " 'coeg': 'jancuk',\n",
       " 'cowo': 'cowok',\n",
       " 'cpat': 'cepat',\n",
       " 'cpe': 'capek',\n",
       " 'cpee': 'capek',\n",
       " 'cpet': 'cepat',\n",
       " 'cpt': 'cepat',\n",
       " 'cptn': 'cepatan',\n",
       " 'crt': 'cerita',\n",
       " 'cth': 'contoh',\n",
       " 'cug': 'jancuk',\n",
       " 'cuk': 'jancuk',\n",
       " 'cuman': 'hanya',\n",
       " 'cungguh': 'sungguh',\n",
       " 'cw': 'cewek',\n",
       " 'cwe': 'cewek',\n",
       " 'cwo': 'cowok',\n",
       " 'cyang': 'sayang',\n",
       " 'dah': 'sudah',\n",
       " 'dalem': 'dalam',\n",
       " 'dapa': 'ada apa',\n",
       " 'dapah': 'ada apa',\n",
       " 'dapet': 'dapat',\n",
       " 'dapetin': 'mendapatkan',\n",
       " 'dateng': 'datang',\n",
       " 'dberkahi': 'diberkahi',\n",
       " 'dblg': 'dibilang',\n",
       " 'dblkng': 'dibelakang',\n",
       " 'dbls': 'dibalas',\n",
       " 'dbwt': 'dibuat',\n",
       " 'dbyr': 'dibayar',\n",
       " 'de': 'deh',\n",
       " 'demen': 'suka',\n",
       " 'denger': 'dengar',\n",
       " 'deres': 'deras',\n",
       " 'dftr': 'daftar',\n",
       " 'dg': 'dengan',\n",
       " 'dgn': 'dengan',\n",
       " 'dgr': 'dengar',\n",
       " 'dgrn': 'dengarin',\n",
       " 'dh': 'sudah',\n",
       " 'didenger': 'didengar',\n",
       " 'didengerin': 'didengarkan',\n",
       " 'diem': 'diam',\n",
       " 'dijadiin': 'dijadikan',\n",
       " 'dikit': 'sedikit',\n",
       " 'dimance': 'dimana',\n",
       " 'dimandose': 'dimana',\n",
       " 'dimans': 'dimana',\n",
       " 'dipake': 'dipakai',\n",
       " 'dipendem': 'dipendam',\n",
       " 'dirmh': 'di rumah',\n",
       " 'ditemenin': 'ditemani',\n",
       " 'djkt': 'di jakarta',\n",
       " 'djl': 'di jalan',\n",
       " 'djln': 'di jalan',\n",
       " 'dkat': 'dekat',\n",
       " 'dket': 'dekat',\n",
       " 'dkls': 'di kelas',\n",
       " 'dkmps': 'di kampus',\n",
       " 'dkmr': 'di kamar',\n",
       " 'dkntr': 'di kantor',\n",
       " 'dksh': 'dikasih',\n",
       " 'dkt': 'dekat',\n",
       " 'dl': 'dulu',\n",
       " 'dll': 'dan lain',\n",
       " 'dlm': 'dalam',\n",
       " 'dlrng': 'dilarang',\n",
       " 'dlu': 'dulu',\n",
       " 'dluan': 'duluan',\n",
       " 'dmana': 'dimana',\n",
       " 'dmkn': 'dimakan',\n",
       " 'dmn': 'dimana',\n",
       " 'dmna': 'dimana',\n",
       " 'dmnmn': 'dimana-mana',\n",
       " 'dmny': 'dimananya',\n",
       " 'dng': 'dengan',\n",
       " 'dngar': 'dengar',\n",
       " 'dnger': 'dengar',\n",
       " 'dngerin': 'dengar',\n",
       " 'dngn': 'dengan',\n",
       " 'dngr': 'dengar',\n",
       " 'doang': 'saja',\n",
       " 'doank': 'saja',\n",
       " 'donlot': 'download',\n",
       " 'doyan': 'suka',\n",
       " 'dpan': 'depan',\n",
       " 'dpet': 'dapat',\n",
       " 'dpk': 'depok',\n",
       " 'dpkrkn': 'dipikirkan',\n",
       " 'dpn': 'depan',\n",
       " 'dpnrmh': 'depan rumah',\n",
       " 'dpt': 'dapat',\n",
       " 'dr': 'dari',\n",
       " 'drg': 'dokter gigi',\n",
       " 'drh': 'darah',\n",
       " 'dri': 'dari',\n",
       " 'drmh': 'di rumah',\n",
       " 'drmn': 'darimana',\n",
       " 'drpd': 'daripada',\n",
       " 'drtd': 'dari tadi',\n",
       " 'drumah': 'di rumah',\n",
       " 'dsb': 'dan sebagainya',\n",
       " 'dsblh': 'di sebelah',\n",
       " 'dsini': 'disini',\n",
       " 'dsklh': 'di sekolah',\n",
       " 'dsni': 'di sini',\n",
       " 'dst': 'dan seterusnya',\n",
       " 'dtg': 'datang',\n",
       " 'dtgny': 'datangnya',\n",
       " 'dtmbh': 'ditambah',\n",
       " 'dtmpt': 'di tempat',\n",
       " 'dtng': 'datang',\n",
       " 'duluw': 'dulu',\n",
       " 'dy': 'dia',\n",
       " 'ea': 'ya',\n",
       " 'eeq': 'feses',\n",
       " 'elo': 'kamu',\n",
       " 'emang': 'memang',\n",
       " 'emangnya': 'memangnya',\n",
       " 'emank': 'memang',\n",
       " 'emg': 'memang',\n",
       " 'emng': 'memang',\n",
       " 'engga': 'tidak',\n",
       " 'enggak': 'tidak',\n",
       " 'enk': 'enak',\n",
       " 'entar': 'nanti',\n",
       " 'ente': 'anda',\n",
       " 'eps': 'episode',\n",
       " 'eteb': 'bosan',\n",
       " 'eug': 'saya',\n",
       " 'faham': 'paham',\n",
       " 'fb': 'facebook',\n",
       " 'fav': 'favorit',\n",
       " 'fave': 'favorit',\n",
       " 'g': 'tidak',\n",
       " 'ga': 'tidak',\n",
       " 'gaada': 'tidak ada',\n",
       " 'gabisa': 'tidak bisa',\n",
       " 'gaboleh': 'tidak boleh',\n",
       " 'gabut': 'menganggur',\n",
       " 'gada': 'tidak ada',\n",
       " 'gaenak': 'tidak enak',\n",
       " 'gajadi': 'tidak jadi',\n",
       " 'gajelas': 'tidak jelas',\n",
       " 'gak': 'tidak',\n",
       " 'gakuat': 'tidak kuat',\n",
       " 'gakz': 'tidak',\n",
       " 'galo': 'galau',\n",
       " 'gamasuk': 'tidak masuk',\n",
       " 'gamau': 'tidak mau',\n",
       " 'gapake': 'tidak pakai',\n",
       " 'gapapa': 'tidak apa-apa',\n",
       " 'gapernah': 'tidak pernah',\n",
       " 'gapunya': 'tidak punya',\n",
       " 'garem': 'garam',\n",
       " 'gasuka': 'tidak suka',\n",
       " 'gatau': 'tidak tahu',\n",
       " 'gataw': 'tidak tahu',\n",
       " 'gatel': 'gatal',\n",
       " 'gausah': 'tidak usah',\n",
       " 'gawe': 'kerja',\n",
       " 'gblk': 'goblok',\n",
       " 'gbr': 'gambar',\n",
       " 'gdg': 'gudang',\n",
       " 'gembel': 'jelek',\n",
       " 'gengges': 'ganggu',\n",
       " 'ghiy': 'lagi',\n",
       " 'gi': 'lagi',\n",
       " 'gilak': 'gila',\n",
       " 'gile': 'gila',\n",
       " 'gitu': 'begitu',\n",
       " 'gituan': 'begitu',\n",
       " 'gituh': 'begitu',\n",
       " 'gituin': 'itu',\n",
       " 'gk': 'tidak',\n",
       " 'gmana': 'bagaimana',\n",
       " 'gmbr': 'gambar',\n",
       " 'gmn': 'bagaimana',\n",
       " 'gmna': 'bagaimana',\n",
       " 'gmpg': 'gampang',\n",
       " 'gmpng': 'gampang',\n",
       " 'gni': 'begini',\n",
       " 'gnti': 'ganti',\n",
       " 'gpny': 'tidak punya',\n",
       " 'gpp': 'tidak apa apa',\n",
       " 'gprnh': 'tidak pernah',\n",
       " 'gr2': 'gara-gara',\n",
       " 'gratisan': 'gratis',\n",
       " 'gt': 'begitu',\n",
       " 'gtu': 'begitu',\n",
       " 'gtw': 'tidak tahu',\n",
       " 'gua': 'saya',\n",
       " 'gue': 'saya',\n",
       " 'gw': 'saya',\n",
       " 'gws': 'get well soon',\n",
       " 'gx': 'tidak',\n",
       " 'hadeh': 'aduh',\n",
       " 'hapal': 'hafal',\n",
       " 'haqq': 'hakiki',\n",
       " 'hargain': 'hargai',\n",
       " 'harini': 'hari ini',\n",
       " 'hbd': 'happy birthday',\n",
       " 'hbis': 'habis',\n",
       " 'hbng': 'hubungi',\n",
       " 'hbs': 'habis',\n",
       " 'hbskn': 'habiskan',\n",
       " 'helo': 'halo',\n",
       " 'heters': 'pembenci',\n",
       " 'hlg': 'hilang',\n",
       " 'hlm': 'halaman',\n",
       " 'hlmn': 'halaman',\n",
       " 'hny': 'hanya',\n",
       " 'hnya': 'hanya',\n",
       " 'hqq': 'hakiki',\n",
       " 'hr': 'hari',\n",
       " 'hrg': 'harga',\n",
       " 'hrgny': 'harganya',\n",
       " 'hri': 'hari',\n",
       " 'hrs': 'harus',\n",
       " 'hrsny': 'harusnya',\n",
       " 'hrus': 'harus',\n",
       " 'hti': 'hati',\n",
       " 'hums': 'rumah',\n",
       " 'humz': 'rumah',\n",
       " 'huum': 'iya',\n",
       " 'idiiot': 'idiot',\n",
       " 'idup': 'hidup',\n",
       " 'ily': 'saya cinta kamu',\n",
       " 'inget': 'ingat',\n",
       " 'ingetin': 'ingatkan',\n",
       " 'ingt': 'ingat',\n",
       " 'istrht': 'istirahat',\n",
       " 'item': 'hitam',\n",
       " 'itumah': 'itu',\n",
       " 'ituu': 'itu',\n",
       " 'iy': 'iya',\n",
       " 'iyach': 'iya',\n",
       " 'iyain': 'mengiyakan',\n",
       " 'iyap': 'iya',\n",
       " 'iyapz': 'iya',\n",
       " 'iyoo': 'iya',\n",
       " 'iyup': 'iya',\n",
       " 'iyupz': 'iya',\n",
       " 'jadiin': 'jadi',\n",
       " 'jadull': 'jadul',\n",
       " 'jamber': 'jam berapa',\n",
       " 'jancoeg': 'jancuk',\n",
       " 'jatoh': 'jatuh',\n",
       " 'jawabanya': 'jawabannya',\n",
       " 'jd': 'jadi',\n",
       " 'jdi': 'jadi',\n",
       " 'jdny': 'jadinya',\n",
       " 'jdnya': 'jadinya',\n",
       " 'jdwl': 'jadwal',\n",
       " 'jem': 'jam',\n",
       " 'jg': 'juga',\n",
       " 'jga': 'juga',\n",
       " 'jgan': 'jangan',\n",
       " 'jglh': 'jagalah',\n",
       " 'jgn': 'jangan',\n",
       " 'jgnjgn': 'jangan-jangan',\n",
       " 'jing': 'anjing',\n",
       " 'jink': 'anjing',\n",
       " 'jk': 'jika',\n",
       " 'jkrt': 'jakarta',\n",
       " 'jkt': 'jakarta',\n",
       " 'jl': 'jalan',\n",
       " 'jln': 'jalan',\n",
       " 'jm': 'jam',\n",
       " 'jmbtn': 'jembatan',\n",
       " 'jml': 'jumlah',\n",
       " 'jmlh': 'jumlah',\n",
       " 'jmpt': 'jemput',\n",
       " 'jmt': 'jumat',\n",
       " 'jng': 'jangan',\n",
       " 'jngan': 'jangan',\n",
       " 'jngn': 'jangan',\n",
       " 'jpn': 'jepang',\n",
       " 'jrg': 'jarang',\n",
       " 'jrng': 'jarang',\n",
       " 'jwb': 'jawab',\n",
       " 'jwbn': 'jawaban',\n",
       " 'jwbny': 'jawabannya',\n",
       " 'kacian': 'kasihan',\n",
       " 'kagak': 'tidak',\n",
       " 'kaka': 'kakak',\n",
       " 'kalee': 'kali',\n",
       " 'kaleyan': 'kalian',\n",
       " 'kalo': 'kalau',\n",
       " 'kalu': 'kalau',\n",
       " 'kamsud': 'maksud',\n",
       " 'kaos/mug/jaket': '',\n",
       " 'karna': 'karena',\n",
       " 'karoke': 'karaoke',\n",
       " 'kasian': 'kasihan',\n",
       " 'kau': 'kamu',\n",
       " 'kayak': 'mirip',\n",
       " 'kayanya': 'kayaknya',\n",
       " 'kbnykn': 'kebanyakan',\n",
       " 'kbr': 'kabar',\n",
       " 'kbtln': 'kebetulan',\n",
       " 'kbykn': 'kebanyakan',\n",
       " 'kdg': 'kadang',\n",
       " 'kdng': 'kadang',\n",
       " 'kdpn': 'ke depan',\n",
       " 'kebawa': 'terbawa',\n",
       " 'kecakepan': 'kecakapan',\n",
       " 'keknya': 'sepertinya',\n",
       " 'kelaperan': 'kelaparan',\n",
       " 'kelar': 'selesai',\n",
       " 'keles': 'kali',\n",
       " 'keliatan': 'kelihatan',\n",
       " 'kemaren': 'kemarin',\n",
       " 'kenapah': 'kenapa',\n",
       " 'kenape': 'kenapa',\n",
       " 'kenaps': 'kenapa',\n",
       " 'kenapz': 'kenapa',\n",
       " 'kenceng': 'kencang',\n",
       " 'kepengen': 'ingin',\n",
       " 'kepngn': 'ingin',\n",
       " 'kepo': 'ingin tahu',\n",
       " 'kerikil': 'kerikil',\n",
       " 'kesampean': 'kesampaian',\n",
       " 'kesel': 'kesal',\n",
       " 'kesian': 'kasihan',\n",
       " 'ketawa': 'tertawa',\n",
       " 'keujanan': 'kehujanan',\n",
       " 'keyen': 'keren',\n",
       " 'kga': 'tidak',\n",
       " 'kgak': 'tidak',\n",
       " 'kgk': 'tidak',\n",
       " 'khabar': 'kabar',\n",
       " 'khan': 'kan',\n",
       " 'khanz': 'kan',\n",
       " 'khsny': 'khususnya',\n",
       " 'khwtr': 'khawatir',\n",
       " 'kirimin': 'kirimkan',\n",
       " 'kite': 'kita',\n",
       " 'kk': 'kakak',\n",
       " 'kl': 'kalau',\n",
       " 'klau': 'kalau',\n",
       " 'klh': 'kalah',\n",
       " 'kli': 'kali',\n",
       " 'klmpk': 'kelompok',\n",
       " 'klo': 'kalau',\n",
       " 'klp': 'kelompok',\n",
       " 'kls': 'kelas',\n",
       " 'klu': 'kalau',\n",
       " 'kluar': 'keluar',\n",
       " 'klw': 'kalau',\n",
       " 'km': 'kamu',\n",
       " 'kmaren': 'kemarin',\n",
       " 'kmi': 'kami',\n",
       " 'kmn': 'kemana',\n",
       " 'kmna': 'kemana',\n",
       " 'kmpret': 'kampret',\n",
       " 'kmps': 'kamus',\n",
       " 'kmr': 'kamar',\n",
       " 'kmren': 'kemarin',\n",
       " 'kmrin': 'kemarin',\n",
       " 'kmrn': 'kemarin',\n",
       " 'kmu': 'kamu',\n",
       " 'kn': 'kan',\n",
       " 'kna': 'kena',\n",
       " 'knapa': 'kenapa',\n",
       " 'kngen': 'kangen',\n",
       " 'knl': 'kenal',\n",
       " 'knp': 'kenapa',\n",
       " 'knpa': 'kenapa',\n",
       " 'kntr': 'kantor',\n",
       " 'knyng': 'kenyang',\n",
       " 'konsen': 'konsentrasi',\n",
       " 'koq': 'kok',\n",
       " 'kosan': 'kost',\n",
       " 'kowe': 'kamu',\n",
       " 'kpala': 'kepala',\n",
       " 'kpan': 'kapan',\n",
       " 'kpd': 'kepada',\n",
       " 'kpgn': 'ingin',\n",
       " 'kpn': 'kapan',\n",
       " 'kpngn': 'ingin',\n",
       " 'krg': 'kurang',\n",
       " 'krikil': 'kerikil',\n",
       " 'krja': 'kerja',\n",
       " 'krmh': 'ke rumah',\n",
       " 'krn': 'karena',\n",
       " 'krna': 'karena',\n",
       " 'krng': 'kurang',\n",
       " 'krupuk': 'kerupuk',\n",
       " 'ksh': 'kasih',\n",
       " 'ksian': 'kasihan',\n",
       " 'ksih': 'kasih',\n",
       " 'ksmptn': 'kesempatan',\n",
       " 'ksn': 'kesana',\n",
       " 'kt': 'kita',\n",
       " 'kta': 'kita',\n",
       " 'ktdrn': 'ketiduran',\n",
       " 'ktemu': 'ketemu',\n",
       " 'ktmpt': 'ke tempat',\n",
       " 'ktmu': 'ketemu',\n",
       " 'ktny': 'katanya',\n",
       " 'ktnya': 'katanya',\n",
       " 'ktr': 'kantor',\n",
       " 'kuq': 'kok',\n",
       " 'kuy': 'ayo',\n",
       " 'kw': 'kamu',\n",
       " 'kyak': 'seperti',\n",
       " 'kyaknya': 'sepertinya',\n",
       " 'kyanya': 'sepertinya',\n",
       " 'kyk': 'kayak',\n",
       " 'kykny': 'sepertinya',\n",
       " 'kyknya': 'sepertinya',\n",
       " 'kyny': 'sepertinya',\n",
       " 'kzl': 'kesal',\n",
       " 'laen': 'lain',\n",
       " 'laff': 'cinta',\n",
       " 'lagian': 'lagi',\n",
       " 'lam': 'salam',\n",
       " 'laper': 'lapar',\n",
       " 'lb': 'lembar',\n",
       " 'lbh': 'lebih',\n",
       " 'lbih': 'lebih',\n",
       " 'leh': 'boleh',\n",
       " 'lelaahh': 'lelah',\n",
       " 'lemes': 'lemas',\n",
       " 'lg': 'lagi',\n",
       " 'lgi': 'lagi',\n",
       " 'lgkp': 'lengkap',\n",
       " 'lgs': 'langsung',\n",
       " 'lgsg': 'langsung',\n",
       " 'lgsng': 'langsung',\n",
       " 'lgsung': 'langsung',\n",
       " 'liatin': 'lihat',\n",
       " 'lm': 'lama',\n",
       " 'lmyn': 'lumayan',\n",
       " 'lngkp': 'lengkap',\n",
       " 'lngsg': 'langsung',\n",
       " 'lngsng': 'langsung',\n",
       " 'lngsung': 'langsung',\n",
       " 'lnjt': 'lanjut',\n",
       " 'lnsg': 'langsung',\n",
       " 'lnsng': 'langsung',\n",
       " 'lo': 'kamu',\n",
       " 'loe': 'kamu',\n",
       " 'lom': 'belum',\n",
       " 'lov': 'cinta',\n",
       " 'love': 'cinta',\n",
       " 'low': 'kalau',\n",
       " 'lp': 'lupa',\n",
       " 'lpngn': 'lapangan',\n",
       " 'lpr': 'lapar',\n",
       " 'lsg': 'langsung',\n",
       " 'lu': 'kamu',\n",
       " 'luchu': 'lucu',\n",
       " 'lum': 'belum',\n",
       " 'lun': 'belum',\n",
       " 'luthu': 'lucu',\n",
       " 'luv': 'cinta',\n",
       " 'lvl': 'level',\n",
       " 'lw': 'kamu',\n",
       " 'lwt': 'lewat',\n",
       " 'maaci': 'terima kasih',\n",
       " 'maacih': 'terima kasih',\n",
       " 'maap': 'maaf',\n",
       " 'maen': 'main',\n",
       " 'mager': 'malas bergerak',\n",
       " 'makaci': 'terima kasih',\n",
       " 'makana': 'karena itu',\n",
       " 'makasi': 'terima kasih',\n",
       " 'makasihhh': 'terima kasih',\n",
       " 'make': 'pakai',\n",
       " 'makn': 'makan',\n",
       " 'malem': 'malam',\n",
       " 'malem2': 'malam-malam',\n",
       " 'malming': 'malam minggu',\n",
       " 'mamah': 'mama',\n",
       " 'mamam': 'makan',\n",
       " 'mampet': 'mampat',\n",
       " 'mane': 'mana',\n",
       " 'maneh': 'mana',\n",
       " 'manggil': 'panggil',\n",
       " 'mano': 'mana',\n",
       " 'mantep': 'mantap',\n",
       " 'masakin': 'masakan',\n",
       " 'mateng': 'matang',\n",
       " 'maw': 'mau',\n",
       " 'mcm': 'macam',\n",
       " 'mct': 'macet',\n",
       " 'mdg': 'lebih baik',\n",
       " 'mdgn': 'baikan',\n",
       " 'mdh': 'mudah',\n",
       " 'mdpt': 'mendapat',\n",
       " 'melulu': 'selalu',\n",
       " 'mendingan': 'lebih baik',\n",
       " 'menyempurnakan': '',\n",
       " 'merhatiin': 'memperhatikan',\n",
       " 'mesen': 'pesan',\n",
       " 'mgkn': 'mungkin',\n",
       " 'mhs': 'mahasiswa',\n",
       " 'mhsw': 'mahasiswa',\n",
       " 'miapa': 'demi apa',\n",
       " 'miapah': 'demi apa',\n",
       " 'mikirin': 'memikirkan',\n",
       " 'milih': 'pilih',\n",
       " 'minjem': 'pinjam',\n",
       " \"misal'a\": 'misalnya',\n",
       " 'mk': 'maka',\n",
       " 'mka': 'maka',\n",
       " 'mkan': 'makan',\n",
       " 'mkanan': 'makanan',\n",
       " 'mkanya': 'makanya',\n",
       " 'mkn': 'makan',\n",
       " 'mknan': 'makanan',\n",
       " 'mkny': 'maka itu',\n",
       " 'mksd': 'maksud',\n",
       " 'mksdny': 'maksudnya',\n",
       " 'mksdnya': 'maksudnya',\n",
       " 'mksdq': 'maksudku',\n",
       " 'mksh': 'terima kasih',\n",
       " 'mksih': 'terima kasih',\n",
       " 'mlah': 'malah',\n",
       " 'mlm': 'malam',\n",
       " 'mls': 'malas',\n",
       " 'mmg': 'memang',\n",
       " 'mn': 'mana',\n",
       " 'mna': 'mana',\n",
       " 'mndg': 'lebih baik',\n",
       " 'mndgn': 'lebih baik',\n",
       " 'mndgr': 'mendengar',\n",
       " 'mndi': 'mandi',\n",
       " 'mnding': 'lebih baik',\n",
       " 'mndptkn': 'mendapatkan',\n",
       " 'mng': 'menang',\n",
       " 'mnrt': 'menurut',\n",
       " 'mnsempurnakan': '',\n",
       " 'mnt': 'minta',\n",
       " 'mnta': 'minta',\n",
       " 'mntp': 'mantap',\n",
       " 'mnum': 'minum',\n",
       " 'mnyakitiku': 'menyakitiku',\n",
       " 'mnyngkn': 'menyenangkan',\n",
       " 'mo': 'mau',\n",
       " 'moga': 'semoga',\n",
       " 'mosok': 'masa',\n",
       " 'mreka': 'mereka',\n",
       " 'mrh': 'marah',\n",
       " 'mrk': 'mereka',\n",
       " 'ms': 'mas',\n",
       " 'msg': 'masing',\n",
       " 'msh': 'masih',\n",
       " 'msih': 'masih',\n",
       " 'msk': 'masuk',\n",
       " 'mski': 'meski',\n",
       " 'mskipun': 'meskipun',\n",
       " 'mskn': 'masakan',\n",
       " 'msl': 'misal',\n",
       " 'mslh': 'masalah',\n",
       " 'msti': 'harus',\n",
       " 'muke': 'muka',\n",
       " 'mulu': 'terus',\n",
       " 'musti': 'harus',\n",
       " 'muup': 'maaf',\n",
       " \"mu'uv\": 'maaf',\n",
       " 'mw': 'mau',\n",
       " 'mz': 'mas',\n",
       " 'nabung': 'tabung',\n",
       " 'naek': 'naik',\n",
       " 'nahan': 'tahan',\n",
       " 'nak': 'anak',\n",
       " 'nambah': 'tambah',\n",
       " 'nanya': 'tanya',\n",
       " 'napa': 'kenapa',\n",
       " 'napas': 'nafas',\n",
       " 'nape': 'kenapa',\n",
       " 'naq': 'anak',\n",
       " 'nasgor': 'nasi goreng',\n",
       " 'nax': 'anak',\n",
       " 'nda': 'tidak',\n",
       " 'ndak': 'tidak',\n",
       " 'ndax': 'tidak',\n",
       " 'ndk': 'tidak',\n",
       " 'negri': 'negeri',\n",
       " 'nelen': 'telan',\n",
       " 'nemenin': 'menemani',\n",
       " 'nemu': 'temu',\n",
       " 'nengok': 'tengok',\n",
       " 'ngabungin': 'menggabungkan',\n",
       " 'ngadain': 'mengadakan',\n",
       " 'ngajak': 'mengajak',\n",
       " 'ngajar': 'ajar',\n",
       " 'ngak': 'tidak',\n",
       " 'ngakak': 'terbahak-bahak',\n",
       " 'ngambek': 'marah',\n",
       " 'ngambil': 'ambil',\n",
       " 'nganter': 'antar',\n",
       " 'nganterin': 'antar',\n",
       " 'ngarep': 'mengharap',\n",
       " 'ngarepinnya': 'mengharapkannya',\n",
       " 'ngasi': 'kasih',\n",
       " 'ngasih': 'kasih',\n",
       " 'ngegosip': 'gosip',\n",
       " 'ngehadepin': 'menghadapi',\n",
       " 'ngeliatin': 'melihat',\n",
       " 'ngeluh': 'keluh',\n",
       " 'ngerasa': 'merasa',\n",
       " 'ngerasain': 'merasakan',\n",
       " 'ngerjain': 'mengerjakan',\n",
       " 'ngerokok': 'merokok',\n",
       " 'ngetik': 'ketik',\n",
       " 'ngga': 'tidak',\n",
       " 'nggak': 'tidak',\n",
       " 'nggax': 'tidak',\n",
       " 'nggesek': 'menggesek',\n",
       " 'nggk': 'tidak',\n",
       " 'nggosok': 'menggosok',\n",
       " 'ngibul': 'berbohong',\n",
       " 'ngidam': 'idam',\n",
       " 'ngikutin': 'ikuti',\n",
       " 'ngilangin': 'menghilangkan',\n",
       " 'nginep': 'menginap',\n",
       " 'ngingetin': 'mengingatkan',\n",
       " 'ngjk': 'mengajak',\n",
       " 'ngk': 'tidak',\n",
       " 'ngmbl': 'mengambil',\n",
       " 'ngmg': 'omong',\n",
       " 'ngmng': 'berbicara',\n",
       " 'ngmpl': 'berkumpul',\n",
       " 'ngmps': 'ke kampus',\n",
       " 'ngntk': 'mengantuk',\n",
       " 'ngntr': 'ke kantor',\n",
       " 'ngobatin': 'obati',\n",
       " 'ngobrol': 'bicara',\n",
       " 'ngomong': 'bicara',\n",
       " 'ngomongin': 'membicarakan',\n",
       " 'ngrasain': 'merasakan',\n",
       " 'ngundurin': 'mengundurkan',\n",
       " 'ngunyah': 'kunyah',\n",
       " 'ngurus': 'urus',\n",
       " 'ni': 'ini',\n",
       " 'nich': 'ini',\n",
       " 'ninggalin': 'tinggalkan',\n",
       " 'nmbh': 'tambah',\n",
       " 'nmny': 'namanya',\n",
       " 'nmpk': 'nampak',\n",
       " 'nmr': 'nomor',\n",
       " 'nnti': 'nanti',\n",
       " 'nntn': 'menonton',\n",
       " 'nnton': 'nonton',\n",
       " 'nolak': 'tolak',\n",
       " 'nraktir': 'traktir',\n",
       " 'ntah': 'entah',\n",
       " 'ntap': 'mantap',\n",
       " 'ntar': 'nanti',\n",
       " 'nti': 'nanti',\n",
       " 'ntn': 'menonton',\n",
       " 'nton': 'nonton',\n",
       " 'ntr': 'nanti',\n",
       " 'ntu': 'itu',\n",
       " 'nungguin': 'tunggu',\n",
       " 'nyakiti': 'menyakiti',\n",
       " 'nyakitin': 'menyakiti',\n",
       " 'nyalain': 'nyalakan',\n",
       " 'nyampe': 'sampai',\n",
       " 'nyangka': 'sangka',\n",
       " 'nyantai': 'santai',\n",
       " 'nyari': 'cari',\n",
       " 'nyebelin': 'menyebalkan',\n",
       " 'nyeremin': 'menyeramkan',\n",
       " 'nyesek': 'sesak',\n",
       " 'nyesel': 'menyesal',\n",
       " 'nyetel': 'setel',\n",
       " 'nyiksa': 'menyiksa',\n",
       " 'nyoba': 'coba',\n",
       " 'nyobain': 'coba',\n",
       " 'nyuci': 'cuci',\n",
       " 'nyukur': 'cukur',\n",
       " 'nyuruh': 'suruh',\n",
       " 'nyusul': 'susul',\n",
       " 'oc': 'oke',\n",
       " 'oce': 'oke',\n",
       " 'ohh': 'oh',\n",
       " 'ok': 'oke',\n",
       " 'okedech': 'oke',\n",
       " 'okedeh': 'oke',\n",
       " 'okeh': 'oke',\n",
       " 'okz': 'oke',\n",
       " 'ol': 'online',\n",
       " 'org': 'orang',\n",
       " 'org2': 'orang-orang',\n",
       " 'orng': 'orang',\n",
       " 'ortu': 'orangtua',\n",
       " 'ouch': 'oh',\n",
       " 'ouh': 'oh',\n",
       " 'owh': 'oh',\n",
       " 'pait': 'pahit',\n",
       " 'pake': 'pakai',\n",
       " 'pakek': 'pakai',\n",
       " 'pantesan': 'pantas',\n",
       " 'pasutri': 'pasangan suami istri',\n",
       " 'paz': 'pas',\n",
       " 'pcr': 'pacar',\n",
       " 'pcrn': 'pacaran',\n",
       " 'pcrny': 'pacarnya',\n",
       " 'pd': 'pada',\n",
       " 'pdahal': 'padahal',\n",
       " 'pdhal': 'padahal',\n",
       " 'pdhl': 'padahal',\n",
       " 'pedes': 'pedas',\n",
       " 'pegi': 'pergi',\n",
       " 'pengen': 'ingin',\n",
       " 'penghianat': 'pengkhianat',\n",
       " 'pengin': 'ingin',\n",
       " 'pesen': 'pesan',\n",
       " 'pg': 'pergi',\n",
       " 'pgen': 'ingin',\n",
       " 'pgn': 'ingin',\n",
       " 'pilem': 'film',\n",
       " 'pingin': 'ingin',\n",
       " 'pinjem': 'pinjam',\n",
       " 'pinter': 'pintar',\n",
       " 'pkai': 'pakai',\n",
       " 'pke': 'pakai',\n",
       " 'plg': 'pulang',\n",
       " 'plis': 'tolong',\n",
       " 'pljrn': 'pelajaran',\n",
       " 'plng': 'pulang',\n",
       " 'pmpuan': 'perempuan',\n",
       " 'pndh': 'pindah',\n",
       " 'pngen': 'ingin',\n",
       " 'pngn': 'ingin',\n",
       " 'pnjng': 'panjang',\n",
       " 'pnting': 'penting',\n",
       " 'pntng': 'penting',\n",
       " 'pny': 'punya',\n",
       " 'pnya': 'punya',\n",
       " 'pokonya': 'pokoknya',\n",
       " 'praktek': 'praktik',\n",
       " 'prasaan': 'perasaan',\n",
       " 'prgi': 'pergi',\n",
       " 'prmhn': 'perumahan',\n",
       " 'prmptn': 'perempatan',\n",
       " 'prnah': 'pernah',\n",
       " 'prnh': 'pernah',\n",
       " 'prthnkn': 'pertahankan',\n",
       " 'psg': 'pasang',\n",
       " 'psng': 'pasang',\n",
       " 'psr': 'pasar',\n",
       " 'psti': 'pasti',\n",
       " 'ptg': 'penting',\n",
       " 'punye': 'punya',\n",
       " 'puter': 'putar',\n",
       " 'puterin': 'putar',\n",
       " 'pzt': 'pasti',\n",
       " 'q': 'saya',\n",
       " 'qaqa': 'kakak',\n",
       " 'qq': 'kakak',\n",
       " 'qt': 'kita',\n",
       " 'qta': 'kita',\n",
       " 'rada': 'agak',\n",
       " 'rame': 'ramai',\n",
       " 'rame2': 'ramai-ramai',\n",
       " 'rasane': 'rasanya',\n",
       " 'rb': 'ribu',\n",
       " 'rmbt': 'rambut',\n",
       " 'rmh': 'rumah',\n",
       " 'rmhq': 'rumahku',\n",
       " 'rsk': 'rusak',\n",
       " 'sabeb': 'bebas',\n",
       " 'sabi': 'bisa',\n",
       " 'saje': 'saja',\n",
       " 'salfok': 'salah fokus',\n",
       " 'saltum': 'salah kostum',\n",
       " 'sambel': 'sambal',\n",
       " 'samo': 'sama',\n",
       " 'sampe': 'sampai',\n",
       " 'sans': 'santai',\n",
       " 'sape': 'siapa',\n",
       " 'sateny': 'satenya',\n",
       " 'sbg': 'sebagai',\n",
       " ...}"
      ]
     },
     "execution_count": 61,
     "metadata": {},
     "output_type": "execute_result"
    }
   ],
   "source": [
    "kamus = create_kamus()\n",
    "kamus"
   ]
  },
  {
   "cell_type": "code",
   "execution_count": 62,
   "id": "512f8dd4-f82e-4b92-876c-458ee44a00e8",
   "metadata": {
    "tags": []
   },
   "outputs": [],
   "source": [
    "def full_text_replace_contractions(full_text):\n",
    "    pattern = re.compile(r'\\b(' + '|'.join(re.escape(contraction) for contraction in kamus.keys()) + r')\\b')\n",
    "    full_text = pattern.sub(lambda x: kamus[x.group()], full_text)\n",
    "    return full_text"
   ]
  },
  {
   "cell_type": "code",
   "execution_count": 63,
   "id": "55e41df3-9723-43c1-97cf-61e28245e060",
   "metadata": {
    "tags": []
   },
   "outputs": [
    {
     "name": "stdout",
     "output_type": "stream",
     "text": [
      "CPU times: total: 46.9 ms\n",
      "Wall time: 96.1 ms\n"
     ]
    }
   ],
   "source": [
    "%%time\n",
    "for i in range(0,len(train_data)):\n",
    "    himpunan_kata=[]\n",
    "    for tokenize_full_text in train_data[\"full_text\"][i]:\n",
    "        tokenize_full_text = full_text_replace_contractions(tokenize_full_text)\n",
    "        himpunan_kata.append(tokenize_full_text)\n",
    "    train_data[\"full_text\"][i]=himpunan_kata\n",
    "    i+1"
   ]
  },
  {
   "cell_type": "code",
   "execution_count": 64,
   "id": "3a3aca80-3ccf-45d0-8c01-16881a641328",
   "metadata": {
    "tags": []
   },
   "outputs": [
    {
     "data": {
      "text/html": [
       "<table border=\"1\" class=\"dataframe\">\n",
       "  <thead>\n",
       "    <tr style=\"text-align: right;\">\n",
       "      <th></th>\n",
       "      <th>Before</th>\n",
       "      <th>After</th>\n",
       "    </tr>\n",
       "  </thead>\n",
       "  <tbody>\n",
       "    <tr>\n",
       "      <th>0</th>\n",
       "      <td>[menurut, sri, dan, cahyana, chatgpt, masuk, dalam, kategori, pioneer, alias, pelopor, seperti, super, apps, dan, metaverse]</td>\n",
       "      <td>[menurut, sri, dan, cahyana, chatgpt, masuk, dalam, kategori, pioneer, alias, pelopor, seperti, super, apps, dan, metaverse]</td>\n",
       "    </tr>\n",
       "    <tr>\n",
       "      <th>1</th>\n",
       "      <td>[chatgpt, revolusioner, dibanding, search, engine, yang, memberikan, sumber, sumber, jawaban, karena, bisa, merespon, pertanyaan, langsung, membuatkan, bentuk, sumber, jawabannya]</td>\n",
       "      <td>[chatgpt, revolusioner, dibanding, search, engine, yang, memberikan, sumber, sumber, jawaban, karena, bisa, merespon, pertanyaan, langsung, membuatkan, bentuk, sumber, jawabannya]</td>\n",
       "    </tr>\n",
       "    <tr>\n",
       "      <th>2</th>\n",
       "      <td>[rekor, yang, pernah, dicapai, chatgpt, masih, menurut, data, dari, buku, ini, adalah, lulus, ujian, kedokteran, di, amerika, serikat, as, hal, ini, bisa, dicapai, karena, chatgpt, dilatih, menggunakan, dataset, miliar, kata, yang, berasal, dari, dataset, berukuran, gb, dan, terdiri, dari, crawled, laman, buku, wikipedia, dll]</td>\n",
       "      <td>[rekor, yang, pernah, dicapai, chatgpt, masih, menurut, data, dari, buku, ini, adalah, lulus, ujian, kedokteran, di, amerika, serikat, as, hal, ini, bisa, dicapai, karena, chatgpt, dilatih, menggunakan, dataset, miliar, kata, yang, berasal, dari, dataset, berukuran, gb, dan, terdiri, dari, crawled, laman, buku, wikipedia, dan lain]</td>\n",
       "    </tr>\n",
       "  </tbody>\n",
       "</table>"
      ],
      "text/plain": [
       "<IPython.core.display.HTML object>"
      ]
     },
     "metadata": {},
     "output_type": "display_data"
    }
   ],
   "source": [
    "comparison_df = pd.DataFrame({\n",
    "    'Before ': train_data_copy['full_text'],\n",
    "    'After ': train_data['full_text']\n",
    "})\n",
    "\n",
    "\n",
    "pd.options.display.max_colwidth = 150\n",
    "\n",
    "\n",
    "display(HTML(comparison_df.head(10).to_html()))"
   ]
  },
  {
   "cell_type": "code",
   "execution_count": 65,
   "id": "232e521e",
   "metadata": {},
   "outputs": [
    {
     "name": "stdout",
     "output_type": "stream",
     "text": [
      "CPU times: total: 0 ns\n",
      "Wall time: 78 ms\n"
     ]
    }
   ],
   "source": [
    "%%time\n",
    "for i in range(0,len(train_data_copy)):\n",
    "    himpunan_kata=[]\n",
    "    for tokenize_full_text in train_data_copy[\"full_text\"][i]:\n",
    "        tokenize_full_text = full_text_replace_contractions(tokenize_full_text)\n",
    "        himpunan_kata.append(tokenize_full_text)\n",
    "    train_data_copy[\"full_text\"][i]=himpunan_kata\n",
    "    i+1"
   ]
  },
  {
   "cell_type": "markdown",
   "id": "48414206",
   "metadata": {},
   "source": [
    "### Stemming"
   ]
  },
  {
   "cell_type": "code",
   "execution_count": 66,
   "id": "9fabcea6",
   "metadata": {},
   "outputs": [],
   "source": [
    "from Sastrawi.Stemmer.StemmerFactory import StemmerFactory\n",
    "factory = StemmerFactory()"
   ]
  },
  {
   "cell_type": "code",
   "execution_count": 67,
   "id": "9402471f",
   "metadata": {},
   "outputs": [],
   "source": [
    "def tweet_stemming(tweet):\n",
    "    # Check if the input is a list\n",
    "    if isinstance(tweet, list):\n",
    "        stemmed_tweets = []\n",
    "        # Iterate through each tweet in the list\n",
    "        for t in tweet:\n",
    "            # Create a stemmer object\n",
    "            stemmer = factory.create_stemmer()\n",
    "            # Stem the tweet and append to the list of stemmed tweets\n",
    "            stemmed_tweets.append(stemmer.stem(t))\n",
    "        # Return the list of stemmed tweets\n",
    "        return stemmed_tweets\n",
    "    else:\n",
    "        # If the input is not a list, create a stemmer object\n",
    "        stemmer = factory.create_stemmer()\n",
    "        # Stem the single tweet and return\n",
    "        return stemmer.stem(tweet)"
   ]
  },
  {
   "cell_type": "code",
   "execution_count": 68,
   "id": "901e2462",
   "metadata": {},
   "outputs": [],
   "source": [
    "train_data[\"full_text\"] = train_data[\"full_text\"].apply(tweet_stemming)"
   ]
  },
  {
   "cell_type": "code",
   "execution_count": 69,
   "id": "cfd1c9d2",
   "metadata": {},
   "outputs": [
    {
     "data": {
      "text/html": [
       "<table border=\"1\" class=\"dataframe\">\n",
       "  <thead>\n",
       "    <tr style=\"text-align: right;\">\n",
       "      <th></th>\n",
       "      <th>Before</th>\n",
       "      <th>After</th>\n",
       "    </tr>\n",
       "  </thead>\n",
       "  <tbody>\n",
       "    <tr>\n",
       "      <th>0</th>\n",
       "      <td>[menurut, sri, dan, cahyana, chatgpt, masuk, dalam, kategori, pioneer, alias, pelopor, seperti, super, apps, dan, metaverse]</td>\n",
       "      <td>[turut, sri, dan, cahyana, chatgpt, masuk, dalam, kategori, pioneer, alias, pelopor, seperti, super, apps, dan, metaverse]</td>\n",
       "    </tr>\n",
       "    <tr>\n",
       "      <th>1</th>\n",
       "      <td>[chatgpt, revolusioner, dibanding, search, engine, yang, memberikan, sumber, sumber, jawaban, karena, bisa, merespon, pertanyaan, langsung, membuatkan, bentuk, sumber, jawabannya]</td>\n",
       "      <td>[chatgpt, revolusioner, banding, search, engine, yang, beri, sumber, sumber, jawab, karena, bisa, merespon, tanya, langsung, buat, bentuk, sumber, jawab]</td>\n",
       "    </tr>\n",
       "    <tr>\n",
       "      <th>2</th>\n",
       "      <td>[rekor, yang, pernah, dicapai, chatgpt, masih, menurut, data, dari, buku, ini, adalah, lulus, ujian, kedokteran, di, amerika, serikat, as, hal, ini, bisa, dicapai, karena, chatgpt, dilatih, menggunakan, dataset, miliar, kata, yang, berasal, dari, dataset, berukuran, gb, dan, terdiri, dari, crawled, laman, buku, wikipedia, dan lain]</td>\n",
       "      <td>[rekor, yang, pernah, capai, chatgpt, masih, turut, data, dari, buku, ini, adalah, lulus, uji, dokter, di, amerika, serikat, as, hal, ini, bisa, capai, karena, chatgpt, latih, guna, dataset, miliar, kata, yang, asal, dari, dataset, ukur, gb, dan, diri, dari, crawled, laman, buku, wikipedia, dan lain]</td>\n",
       "    </tr>\n",
       "  </tbody>\n",
       "</table>"
      ],
      "text/plain": [
       "<IPython.core.display.HTML object>"
      ]
     },
     "metadata": {},
     "output_type": "display_data"
    }
   ],
   "source": [
    "comparison_df = pd.DataFrame({\n",
    "    'Before ': train_data_copy['full_text'],\n",
    "    'After ': train_data['full_text']\n",
    "})\n",
    "\n",
    "\n",
    "pd.options.display.max_colwidth = 150\n",
    "\n",
    "\n",
    "display(HTML(comparison_df.head(10).to_html()))"
   ]
  },
  {
   "cell_type": "code",
   "execution_count": 70,
   "id": "4c2cbd19",
   "metadata": {},
   "outputs": [],
   "source": [
    "train_data_copy[\"full_text\"] = train_data_copy[\"full_text\"].apply(tweet_stemming)"
   ]
  },
  {
   "cell_type": "markdown",
   "id": "a80d00e9",
   "metadata": {},
   "source": [
    "### Stopwords"
   ]
  },
  {
   "cell_type": "code",
   "execution_count": 71,
   "id": "9546db63",
   "metadata": {},
   "outputs": [],
   "source": [
    "def tweet_stopwords_removal(tweet):\n",
    "    factory = StopWordRemoverFactory()\n",
    "    stopword = factory.create_stop_word_remover()\n",
    "    tweet = stopword.remove(tweet)\n",
    "    return tweet"
   ]
  },
  {
   "cell_type": "code",
   "execution_count": 72,
   "id": "d0da1cf2",
   "metadata": {},
   "outputs": [
    {
     "name": "stdout",
     "output_type": "stream",
     "text": [
      "CPU times: total: 0 ns\n",
      "Wall time: 2.16 ms\n"
     ]
    }
   ],
   "source": [
    "%%time\n",
    "for i in range(len(train_data)):\n",
    "    himpunan_kata = []\n",
    "    for tokenize_tweet in train_data[\"full_text\"].iloc[i]:\n",
    "        tokenize_tweet = tweet_stopwords_removal(tokenize_tweet)\n",
    "        if tokenize_tweet == \"\":\n",
    "            pass\n",
    "        else:\n",
    "            himpunan_kata.append(tokenize_tweet)\n",
    "    train_data.at[i, \"full_text\"] = himpunan_kata\n"
   ]
  },
  {
   "cell_type": "code",
   "execution_count": 73,
   "id": "921dc7b1",
   "metadata": {},
   "outputs": [
    {
     "data": {
      "text/html": [
       "<table border=\"1\" class=\"dataframe\">\n",
       "  <thead>\n",
       "    <tr style=\"text-align: right;\">\n",
       "      <th></th>\n",
       "      <th>Before</th>\n",
       "      <th>After</th>\n",
       "    </tr>\n",
       "  </thead>\n",
       "  <tbody>\n",
       "    <tr>\n",
       "      <th>0</th>\n",
       "      <td>[turut, sri, dan, cahyana, chatgpt, masuk, dalam, kategori, pioneer, alias, pelopor, seperti, super, apps, dan, metaverse]</td>\n",
       "      <td>[turut, sri, cahyana, chatgpt, masuk, kategori, pioneer, alias, pelopor, super, apps, metaverse]</td>\n",
       "    </tr>\n",
       "    <tr>\n",
       "      <th>1</th>\n",
       "      <td>[chatgpt, revolusioner, banding, search, engine, yang, beri, sumber, sumber, jawab, karena, bisa, merespon, tanya, langsung, buat, bentuk, sumber, jawab]</td>\n",
       "      <td>[chatgpt, revolusioner, banding, search, engine, beri, sumber, sumber, jawab, merespon, tanya, langsung, buat, bentuk, sumber, jawab]</td>\n",
       "    </tr>\n",
       "    <tr>\n",
       "      <th>2</th>\n",
       "      <td>[rekor, yang, pernah, capai, chatgpt, masih, turut, data, dari, buku, ini, adalah, lulus, uji, dokter, di, amerika, serikat, as, hal, ini, bisa, capai, karena, chatgpt, latih, guna, dataset, miliar, kata, yang, asal, dari, dataset, ukur, gb, dan, diri, dari, crawled, laman, buku, wikipedia, dan lain]</td>\n",
       "      <td>[rekor, pernah, capai, chatgpt, turut, data, buku, lulus, uji, dokter, amerika, serikat, as, capai, chatgpt, latih, dataset, miliar, kata, asal, dataset, ukur, gb, diri, crawled, laman, buku, wikipedia, lain]</td>\n",
       "    </tr>\n",
       "  </tbody>\n",
       "</table>"
      ],
      "text/plain": [
       "<IPython.core.display.HTML object>"
      ]
     },
     "metadata": {},
     "output_type": "display_data"
    }
   ],
   "source": [
    "comparison_df = pd.DataFrame({\n",
    "    'Before ': train_data_copy['full_text'],\n",
    "    'After ': train_data['full_text']\n",
    "})\n",
    "\n",
    "\n",
    "pd.options.display.max_colwidth = 150\n",
    "\n",
    "\n",
    "display(HTML(comparison_df.head(10).to_html()))"
   ]
  },
  {
   "cell_type": "markdown",
   "id": "631d2e3e-15eb-43f0-a540-c4f41a7b32f0",
   "metadata": {},
   "source": [
    "## Result Preposessing"
   ]
  },
  {
   "cell_type": "code",
   "execution_count": 74,
   "id": "36177714",
   "metadata": {},
   "outputs": [
    {
     "data": {
      "image/png": "[encoded data removed]",
      "text/plain": [
       "<Figure size 1000x800 with 1 Axes>"
      ]
     },
     "metadata": {},
     "output_type": "display_data"
    }
   ],
   "source": [
    "import pandas as pd\n",
    "from wordcloud import WordCloud\n",
    "import matplotlib.pyplot as plt\n",
    "\n",
    "# Convert lists of full_texts into a single string\n",
    "all_full_texts = ' '.join([full_text for sublist in train_data['full_text'] for full_text in sublist])\n",
    "\n",
    "# Create a WordCloud object\n",
    "wordcloud = WordCloud(width=800, height=400, background_color='white').generate(all_full_texts)\n",
    "\n",
    "# Display the WordCloud\n",
    "plt.figure(figsize=(10, 8))\n",
    "plt.imshow(wordcloud, interpolation='bilinear')\n",
    "plt.axis('off')\n",
    "plt.show()\n"
   ]
  },
  {
   "cell_type": "code",
   "execution_count": 75,
   "id": "9875d5c1",
   "metadata": {},
   "outputs": [
    {
     "data": {
      "text/html": [
       "<table border=\"1\" class=\"dataframe\">\n",
       "  <thead>\n",
       "    <tr style=\"text-align: right;\">\n",
       "      <th></th>\n",
       "      <th>Before</th>\n",
       "      <th>After</th>\n",
       "    </tr>\n",
       "  </thead>\n",
       "  <tbody>\n",
       "    <tr>\n",
       "      <th>0</th>\n",
       "      <td>Menurut Sri dan Cahyana, ChatGPT masuk dalam kategori pioneer alias pelopor seperti Super Apps dan Metaverse.</td>\n",
       "      <td>[turut, sri, cahyana, chatgpt, masuk, kategori, pioneer, alias, pelopor, super, apps, metaverse]</td>\n",
       "    </tr>\n",
       "    <tr>\n",
       "      <th>1</th>\n",
       "      <td>ChatGPT revolusioner dibanding search engine yang memberikan sumber-sumber jawaban, karena bisa merespon pertanyaan langsung membuatkan bentuk sumber jawabannya.</td>\n",
       "      <td>[chatgpt, revolusioner, banding, search, engine, beri, sumber, sumber, jawab, merespon, tanya, langsung, buat, bentuk, sumber, jawab]</td>\n",
       "    </tr>\n",
       "    <tr>\n",
       "      <th>2</th>\n",
       "      <td>Rekor yang pernah dicapai ChatGPT, masih menurut data dari buku ini, adalah lulus ujian kedokteran di Amerika Serikat (AS). Hal ini bisa dicapai karena ChatGPT dilatih menggunakan dataset 300 miliar kata yang berasal dari dataset berukuran 570 GB dan terdiri dari crawled laman, buku, Wikipedia dll.</td>\n",
       "      <td>[rekor, pernah, capai, chatgpt, turut, data, buku, lulus, uji, dokter, amerika, serikat, as, capai, chatgpt, latih, dataset, miliar, kata, asal, dataset, ukur, gb, diri, crawled, laman, buku, wikipedia, lain]</td>\n",
       "    </tr>\n",
       "  </tbody>\n",
       "</table>"
      ],
      "text/plain": [
       "<IPython.core.display.HTML object>"
      ]
     },
     "metadata": {},
     "output_type": "display_data"
    }
   ],
   "source": [
    "comparison_df = pd.DataFrame({\n",
    "    'Before ': train_data_2['full_text'],\n",
    "    'After ': train_data['full_text']\n",
    "})\n",
    "\n",
    "\n",
    "pd.options.display.max_colwidth = 150\n",
    "\n",
    "\n",
    "display(HTML(comparison_df.head(10).to_html()))"
   ]
  },
  {
   "cell_type": "markdown",
   "id": "ede5442c",
   "metadata": {},
   "source": [
    "## TF-IDF"
   ]
  },
  {
   "cell_type": "code",
   "execution_count": 76,
   "id": "f65b07e4",
   "metadata": {},
   "outputs": [
    {
     "data": {
      "text/html": [
       "<div>\n",
       "<style scoped>\n",
       "    .dataframe tbody tr th:only-of-type {\n",
       "        vertical-align: middle;\n",
       "    }\n",
       "\n",
       "    .dataframe tbody tr th {\n",
       "        vertical-align: top;\n",
       "    }\n",
       "\n",
       "    .dataframe thead th {\n",
       "        text-align: right;\n",
       "    }\n",
       "</style>\n",
       "<table border=\"1\" class=\"dataframe\">\n",
       "  <thead>\n",
       "    <tr style=\"text-align: right;\">\n",
       "      <th></th>\n",
       "      <th>alias</th>\n",
       "      <th>amerika</th>\n",
       "      <th>apps</th>\n",
       "      <th>as</th>\n",
       "      <th>asal</th>\n",
       "      <th>banding</th>\n",
       "      <th>bentuk</th>\n",
       "      <th>beri</th>\n",
       "      <th>buat</th>\n",
       "      <th>buku</th>\n",
       "      <th>...</th>\n",
       "      <th>search</th>\n",
       "      <th>serikat</th>\n",
       "      <th>sri</th>\n",
       "      <th>sumber</th>\n",
       "      <th>super</th>\n",
       "      <th>tanya</th>\n",
       "      <th>turut</th>\n",
       "      <th>uji</th>\n",
       "      <th>ukur</th>\n",
       "      <th>wikipedia</th>\n",
       "    </tr>\n",
       "  </thead>\n",
       "  <tbody>\n",
       "    <tr>\n",
       "      <th>Dokumen 1</th>\n",
       "      <td>0.302514</td>\n",
       "      <td>0.000000</td>\n",
       "      <td>0.302514</td>\n",
       "      <td>0.000000</td>\n",
       "      <td>0.000000</td>\n",
       "      <td>0.000000</td>\n",
       "      <td>0.000000</td>\n",
       "      <td>0.000000</td>\n",
       "      <td>0.000000</td>\n",
       "      <td>0.00000</td>\n",
       "      <td>...</td>\n",
       "      <td>0.000000</td>\n",
       "      <td>0.000000</td>\n",
       "      <td>0.302514</td>\n",
       "      <td>0.000000</td>\n",
       "      <td>0.302514</td>\n",
       "      <td>0.000000</td>\n",
       "      <td>0.230069</td>\n",
       "      <td>0.000000</td>\n",
       "      <td>0.000000</td>\n",
       "      <td>0.000000</td>\n",
       "    </tr>\n",
       "    <tr>\n",
       "      <th>Dokumen 2</th>\n",
       "      <td>0.000000</td>\n",
       "      <td>0.000000</td>\n",
       "      <td>0.000000</td>\n",
       "      <td>0.000000</td>\n",
       "      <td>0.000000</td>\n",
       "      <td>0.206951</td>\n",
       "      <td>0.206951</td>\n",
       "      <td>0.206951</td>\n",
       "      <td>0.206951</td>\n",
       "      <td>0.00000</td>\n",
       "      <td>...</td>\n",
       "      <td>0.206951</td>\n",
       "      <td>0.000000</td>\n",
       "      <td>0.000000</td>\n",
       "      <td>0.620853</td>\n",
       "      <td>0.000000</td>\n",
       "      <td>0.206951</td>\n",
       "      <td>0.000000</td>\n",
       "      <td>0.000000</td>\n",
       "      <td>0.000000</td>\n",
       "      <td>0.000000</td>\n",
       "    </tr>\n",
       "    <tr>\n",
       "      <th>Dokumen 3</th>\n",
       "      <td>0.000000</td>\n",
       "      <td>0.171565</td>\n",
       "      <td>0.000000</td>\n",
       "      <td>0.171565</td>\n",
       "      <td>0.171565</td>\n",
       "      <td>0.000000</td>\n",
       "      <td>0.000000</td>\n",
       "      <td>0.000000</td>\n",
       "      <td>0.000000</td>\n",
       "      <td>0.34313</td>\n",
       "      <td>...</td>\n",
       "      <td>0.000000</td>\n",
       "      <td>0.171565</td>\n",
       "      <td>0.000000</td>\n",
       "      <td>0.000000</td>\n",
       "      <td>0.000000</td>\n",
       "      <td>0.000000</td>\n",
       "      <td>0.130480</td>\n",
       "      <td>0.171565</td>\n",
       "      <td>0.171565</td>\n",
       "      <td>0.171565</td>\n",
       "    </tr>\n",
       "  </tbody>\n",
       "</table>\n",
       "<p>3 rows × 47 columns</p>\n",
       "</div>"
      ],
      "text/plain": [
       "              alias   amerika      apps        as      asal   banding  \\\n",
       "Dokumen 1  0.302514  0.000000  0.302514  0.000000  0.000000  0.000000   \n",
       "Dokumen 2  0.000000  0.000000  0.000000  0.000000  0.000000  0.206951   \n",
       "Dokumen 3  0.000000  0.171565  0.000000  0.171565  0.171565  0.000000   \n",
       "\n",
       "             bentuk      beri      buat     buku  ...    search   serikat  \\\n",
       "Dokumen 1  0.000000  0.000000  0.000000  0.00000  ...  0.000000  0.000000   \n",
       "Dokumen 2  0.206951  0.206951  0.206951  0.00000  ...  0.206951  0.000000   \n",
       "Dokumen 3  0.000000  0.000000  0.000000  0.34313  ...  0.000000  0.171565   \n",
       "\n",
       "                sri    sumber     super     tanya     turut       uji  \\\n",
       "Dokumen 1  0.302514  0.000000  0.302514  0.000000  0.230069  0.000000   \n",
       "Dokumen 2  0.000000  0.620853  0.000000  0.206951  0.000000  0.000000   \n",
       "Dokumen 3  0.000000  0.000000  0.000000  0.000000  0.130480  0.171565   \n",
       "\n",
       "               ukur  wikipedia  \n",
       "Dokumen 1  0.000000   0.000000  \n",
       "Dokumen 2  0.000000   0.000000  \n",
       "Dokumen 3  0.171565   0.171565  \n",
       "\n",
       "[3 rows x 47 columns]"
      ]
     },
     "execution_count": 76,
     "metadata": {},
     "output_type": "execute_result"
    }
   ],
   "source": [
    "from sklearn.feature_extraction.text import TfidfVectorizer\n",
    "import pandas as pd\n",
    "\n",
    "# Menggabungkan kata-kata dalam setiap dokumen menjadi kalimat\n",
    "cleaned_texts = [' '.join(words) for words in train_data['full_text']]\n",
    "\n",
    "# Inisialisasi objek TfidfVectorizer\n",
    "vectorizer = TfidfVectorizer()\n",
    "\n",
    "# Melakukan perhitungan TF-IDF\n",
    "tfidf_matrix = vectorizer.fit_transform(cleaned_texts)\n",
    "\n",
    "# Mendapatkan daftar kata-kata yang menjadi fitur\n",
    "feature_names = vectorizer.get_feature_names_out()\n",
    "\n",
    "# Mendapatkan nilai TF-IDF untuk setiap kata dalam setiap dokumen\n",
    "tfidf_scores = tfidf_matrix.toarray()\n",
    "\n",
    "# Membuat DataFrame untuk menampilkan hasil\n",
    "tfidf_df = pd.DataFrame(tfidf_scores, columns=feature_names)\n",
    "tfidf_df.index = [f\"Dokumen {i+1}\" for i in range(tfidf_scores.shape[0])]\n",
    "\n",
    "# Menampilkan hasil dalam bentuk tabel\n",
    "tfidf_df\n"
   ]
  }
 ],
 "metadata": {
  "kernelspec": {
   "display_name": "Python 3",
   "language": "python",
   "name": "python3"
  },
  "language_info": {
   "codemirror_mode": {
    "name": "ipython",
    "version": 3
   },
   "file_extension": ".py",
   "mimetype": "text/x-python",
   "name": "python",
   "nbconvert_exporter": "python",
   "pygments_lexer": "ipython3",
   "version": "3.11.5"
  }
 },
 "nbformat": 4,
 "nbformat_minor": 5
}
